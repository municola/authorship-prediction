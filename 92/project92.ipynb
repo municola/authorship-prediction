{
 "cells": [
  {
   "cell_type": "code",
   "execution_count": 1,
   "metadata": {},
   "outputs": [],
   "source": [
    "import pandas as pd\n",
    "import matplotlib.pyplot as plt\n",
    "import re\n",
    "import nltk\n",
    "from sklearn.feature_extraction.text import CountVectorizer\n",
    "from sklearn.model_selection import train_test_split\n",
    "from sklearn import svm\n",
    "import numpy as np\n",
    "from sklearn.ensemble import RandomForestClassifier"
   ]
  },
  {
   "cell_type": "code",
   "execution_count": 2,
   "metadata": {},
   "outputs": [
    {
     "data": {
      "text/plain": [
       "PER CURIAM                5509\n",
       "SANBORN                   2067\n",
       "HEANEY                    2030\n",
       "WOLLMAN                   1606\n",
       "LOKEN                     1401\n",
       "LAY                       1309\n",
       "BEAM                      1304\n",
       "BRIGHT                    1303\n",
       "GIBSON                    1221\n",
       "McMILLIAN                 1190\n",
       "BOWMAN                    1090\n",
       "MURPHY                     958\n",
       "SMITH                      938\n",
       "GARDNER                    840\n",
       "ROSS                       811\n",
       "HANSEN                     811\n",
       "ARNOLD                     809\n",
       "COLLOTON                   804\n",
       "BYE                        802\n",
       "THAYER                     723\n",
       "HENLEY                     718\n",
       "FAGG                       716\n",
       "RILEY                      712\n",
       "WOODROUGH                  699\n",
       "STONE                      696\n",
       "MELLOY                     692\n",
       "MAGILL                     674\n",
       "GRUENDER                   590\n",
       "MORRIS SHEPPARD ARNOLD     566\n",
       "JOHN R. GIBSON             551\n",
       "Name: authorship, dtype: int64"
      ]
     },
     "execution_count": 2,
     "metadata": {},
     "output_type": "execute_result"
    }
   ],
   "source": [
    "df = pd.read_csv(\"ca92.csv.gz\",compression='gzip')\n",
    "df.authorship.value_counts().head(30)"
   ]
  },
  {
   "cell_type": "code",
   "execution_count": 3,
   "metadata": {},
   "outputs": [
    {
     "data": {
      "text/html": [
       "<div>\n",
       "<style scoped>\n",
       "    .dataframe tbody tr th:only-of-type {\n",
       "        vertical-align: middle;\n",
       "    }\n",
       "\n",
       "    .dataframe tbody tr th {\n",
       "        vertical-align: top;\n",
       "    }\n",
       "\n",
       "    .dataframe thead th {\n",
       "        text-align: right;\n",
       "    }\n",
       "</style>\n",
       "<table border=\"1\" class=\"dataframe\">\n",
       "  <thead>\n",
       "    <tr style=\"text-align: right;\">\n",
       "      <th></th>\n",
       "      <th>dc_identifier</th>\n",
       "      <th>opinion</th>\n",
       "      <th>authorship</th>\n",
       "      <th>date_standard</th>\n",
       "    </tr>\n",
       "  </thead>\n",
       "  <tbody>\n",
       "    <tr>\n",
       "      <th>328</th>\n",
       "      <td>3S4X-07X0-003B-K3HW-00000-00</td>\n",
       "      <td>Before WALTER H. SANBORN and LEWIS, Circuit Ju...</td>\n",
       "      <td>SANBORN</td>\n",
       "      <td>1928</td>\n",
       "    </tr>\n",
       "    <tr>\n",
       "      <th>357</th>\n",
       "      <td>3S4W-X5K0-003B-K206-00000-00</td>\n",
       "      <td>Before GARDNER, SANBORN, and BOOTH, Circuit Ju...</td>\n",
       "      <td>SANBORN</td>\n",
       "      <td>1932</td>\n",
       "    </tr>\n",
       "    <tr>\n",
       "      <th>463</th>\n",
       "      <td>3S4X-0MR0-003B-K0F6-00000-00</td>\n",
       "      <td>Before SANBORN and BOOTH, Circuit Judges.\\n\\nW...</td>\n",
       "      <td>SANBORN</td>\n",
       "      <td>1927</td>\n",
       "    </tr>\n",
       "    <tr>\n",
       "      <th>881</th>\n",
       "      <td>3S4X-0JF0-003B-K02M-00000-00</td>\n",
       "      <td>Before WALTER H. SANBORN and BOOTH, Circuit Ju...</td>\n",
       "      <td>SANBORN</td>\n",
       "      <td>1927</td>\n",
       "    </tr>\n",
       "    <tr>\n",
       "      <th>1012</th>\n",
       "      <td>3S4X-0000-003B-J41F-00000-00</td>\n",
       "      <td>SANBORN, Circuit Judge.  The Kansas City &amp; Oma...</td>\n",
       "      <td>SANBORN</td>\n",
       "      <td>1896</td>\n",
       "    </tr>\n",
       "    <tr>\n",
       "      <th>...</th>\n",
       "      <td>...</td>\n",
       "      <td>...</td>\n",
       "      <td>...</td>\n",
       "      <td>...</td>\n",
       "    </tr>\n",
       "    <tr>\n",
       "      <th>41844</th>\n",
       "      <td>3S4X-FXC0-001T-D4J6-00000-00</td>\n",
       "      <td>MORRIS SHEPPARD ARNOLD, Circuit Judge.\\n\\nIn S...</td>\n",
       "      <td>MORRIS SHEPPARD ARNOLD</td>\n",
       "      <td>1995</td>\n",
       "    </tr>\n",
       "    <tr>\n",
       "      <th>41870</th>\n",
       "      <td>3S4X-9P90-001T-D0S6-00000-00</td>\n",
       "      <td>MORRIS SHEPPARD ARNOLD, Circuit Judge.\\n\\nThe ...</td>\n",
       "      <td>MORRIS SHEPPARD ARNOLD</td>\n",
       "      <td>1995</td>\n",
       "    </tr>\n",
       "    <tr>\n",
       "      <th>41945</th>\n",
       "      <td>3S4X-HM50-003B-P1JC-00000-00</td>\n",
       "      <td>MORRIS SHEPPARD ARNOLD, Circuit Judge.\\n\\nThis...</td>\n",
       "      <td>MORRIS SHEPPARD ARNOLD</td>\n",
       "      <td>1993</td>\n",
       "    </tr>\n",
       "    <tr>\n",
       "      <th>50008</th>\n",
       "      <td>3S4X-5B60-006F-M0N8-00000-00</td>\n",
       "      <td>MORRIS SHEPPARD ARNOLD, Circuit Judge.\\n\\nDale...</td>\n",
       "      <td>MORRIS SHEPPARD ARNOLD</td>\n",
       "      <td>1996</td>\n",
       "    </tr>\n",
       "    <tr>\n",
       "      <th>51967</th>\n",
       "      <td>3S4X-F9T0-001T-D4CJ-00000-00</td>\n",
       "      <td>MORRIS SHEPPARD ARNOLD, Circuit Judge.\\n\\nThe ...</td>\n",
       "      <td>MORRIS SHEPPARD ARNOLD</td>\n",
       "      <td>1995</td>\n",
       "    </tr>\n",
       "  </tbody>\n",
       "</table>\n",
       "<p>28778 rows × 4 columns</p>\n",
       "</div>"
      ],
      "text/plain": [
       "                      dc_identifier  \\\n",
       "328    3S4X-07X0-003B-K3HW-00000-00   \n",
       "357    3S4W-X5K0-003B-K206-00000-00   \n",
       "463    3S4X-0MR0-003B-K0F6-00000-00   \n",
       "881    3S4X-0JF0-003B-K02M-00000-00   \n",
       "1012   3S4X-0000-003B-J41F-00000-00   \n",
       "...                             ...   \n",
       "41844  3S4X-FXC0-001T-D4J6-00000-00   \n",
       "41870  3S4X-9P90-001T-D0S6-00000-00   \n",
       "41945  3S4X-HM50-003B-P1JC-00000-00   \n",
       "50008  3S4X-5B60-006F-M0N8-00000-00   \n",
       "51967  3S4X-F9T0-001T-D4CJ-00000-00   \n",
       "\n",
       "                                                 opinion  \\\n",
       "328    Before WALTER H. SANBORN and LEWIS, Circuit Ju...   \n",
       "357    Before GARDNER, SANBORN, and BOOTH, Circuit Ju...   \n",
       "463    Before SANBORN and BOOTH, Circuit Judges.\\n\\nW...   \n",
       "881    Before WALTER H. SANBORN and BOOTH, Circuit Ju...   \n",
       "1012   SANBORN, Circuit Judge.  The Kansas City & Oma...   \n",
       "...                                                  ...   \n",
       "41844  MORRIS SHEPPARD ARNOLD, Circuit Judge.\\n\\nIn S...   \n",
       "41870  MORRIS SHEPPARD ARNOLD, Circuit Judge.\\n\\nThe ...   \n",
       "41945  MORRIS SHEPPARD ARNOLD, Circuit Judge.\\n\\nThis...   \n",
       "50008  MORRIS SHEPPARD ARNOLD, Circuit Judge.\\n\\nDale...   \n",
       "51967  MORRIS SHEPPARD ARNOLD, Circuit Judge.\\n\\nThe ...   \n",
       "\n",
       "                   authorship  date_standard  \n",
       "328                   SANBORN           1928  \n",
       "357                   SANBORN           1932  \n",
       "463                   SANBORN           1927  \n",
       "881                   SANBORN           1927  \n",
       "1012                  SANBORN           1896  \n",
       "...                       ...            ...  \n",
       "41844  MORRIS SHEPPARD ARNOLD           1995  \n",
       "41870  MORRIS SHEPPARD ARNOLD           1995  \n",
       "41945  MORRIS SHEPPARD ARNOLD           1993  \n",
       "50008  MORRIS SHEPPARD ARNOLD           1996  \n",
       "51967  MORRIS SHEPPARD ARNOLD           1995  \n",
       "\n",
       "[28778 rows x 4 columns]"
      ]
     },
     "execution_count": 3,
     "metadata": {},
     "output_type": "execute_result"
    }
   ],
   "source": [
    "df.authorship = df.authorship.str.upper()\n",
    "names = []\n",
    "for i in df.authorship.value_counts().head(30).index:\n",
    "    if i != 'PER CURIAM' and i != 'PER CURIAM:':\n",
    "        names.append(i)\n",
    "copy = pd.DataFrame()\n",
    "temp = df[df.word_count > 50]\n",
    "for name in names:\n",
    "    copy = copy.append(temp[temp.authorship == name])\n",
    "copy.date_standard = copy.date_standard.str[:4]\n",
    "copy.date_standard = copy.date_standard.astype(int)\n",
    "copy = copy.drop(columns=['opinion_type','opinion_id','word_count','authors','dc_source','judges_refined'])\n",
    "copy"
   ]
  },
  {
   "cell_type": "code",
   "execution_count": 4,
   "metadata": {},
   "outputs": [
    {
     "data": {
      "text/plain": [
       "<matplotlib.axes._subplots.AxesSubplot at 0x1f858978dc8>"
      ]
     },
     "execution_count": 4,
     "metadata": {},
     "output_type": "execute_result"
    },
    {
     "data": {
      "image/png": "[encoded data removed]",
      "text/plain": [
       "<Figure size 432x288 with 1 Axes>"
      ]
     },
     "metadata": {
      "needs_background": "light"
     },
     "output_type": "display_data"
    }
   ],
   "source": [
    "copy[copy.authorship == names[0]].date_standard.value_counts().sort_index().plot(kind='bar')"
   ]
  },
  {
   "cell_type": "code",
   "execution_count": 5,
   "metadata": {},
   "outputs": [],
   "source": [
    "copy.opinion = copy.opinion.str.replace('Senior Circuit Judge','')\n",
    "copy.opinion = copy.opinion.str.replace('Senior Circuit Judge'.upper(),'')\n",
    "copy.opinion = copy.opinion.str.replace('Senior District Judge','')\n",
    "copy.opinion = copy.opinion.str.replace('Senior District Judge'.upper(),'')\n",
    "copy.opinion = copy.opinion.str.replace('Circuit Judges','')\n",
    "copy.opinion = copy.opinion.str.replace('CIRCUIT JUDGES','')\n",
    "copy.opinion = copy.opinion.str.replace('District Judges','')\n",
    "copy.opinion = copy.opinion.str.replace('District Judges'.upper(),'')\n",
    "copy.opinion = copy.opinion.str.replace('District Judge','')\n",
    "copy.opinion = copy.opinion.str.replace('District Judge'.upper(),'')\n",
    "copy.opinion = copy.opinion.str.replace('Circuit Judge','')\n",
    "copy.opinion = copy.opinion.str.replace('CIRCUIT JUDGE','')\n",
    "copy.opinion = copy.opinion.str.replace('Circuit Justice','')\n",
    "copy.opinion = copy.opinion.str.replace('Circuit Justice'.upper(),'')\n",
    "copy.opinion = copy.opinion.str.replace('D\\.J\\.','')\n",
    "copy.opinion = copy.opinion.str.replace('D\\. J\\.','')\n",
    "copy.opinion = copy.opinion.str.replace('C\\.J\\.','')\n",
    "copy.opinion = copy.opinion.str.replace('C\\. J\\.','')\n",
    "copy.opinion = copy.opinion.str.replace('Senior Judge','')\n",
    "copy.opinion = copy.opinion.str.replace('Senior Judge'.upper(),'')\n",
    "copy.opinion = copy.opinion.str.replace('Associate Justice','')\n",
    "copy.opinion = copy.opinion.str.replace('Associate Justice'.upper(),'')\n",
    "copy.opinion = copy.opinion.str.replace('Chief Judge','')\n",
    "copy.opinion = copy.opinion.str.replace('Chief Judge'.upper(),'')\n",
    "copy.opinion = copy.opinion.str.replace('Judge','')\n",
    "copy.opinion = copy.opinion.str.replace('Judge'.upper(),'')\n",
    "copy.opinion = copy.opinion.str.replace('HONORABLE','')\n",
    "\n",
    "for name in names:\n",
    "    copy.opinion = copy.opinion.str.replace(name.upper(),'')\n",
    "    copy.opinion = copy.opinion.str.replace(name,'')\n",
    "    copy.opinion = copy.opinion.str.replace(name[:1].upper()+name[1:].lower(),'')\n",
    "\n",
    "\n",
    "\n",
    "copy.opinion = copy.opinion.str.replace('GERALD',' ')\n",
    "copy.opinion = copy.opinion.str.replace('Gerald',' ')\n",
    "copy.opinion = copy.opinion.str.replace('McMILLIAN',' ')\n",
    "copy.opinion = copy.opinion.str.replace('McMillian',' ')\n",
    "copy.opinion = copy.opinion.str.replace('FLOYD',' ')\n",
    "copy.opinion = copy.opinion.str.replace('Floyd',' ')\n",
    "copy.opinion = copy.opinion.str.replace('JOHN',' ')\n",
    "copy.opinion = copy.opinion.str.replace('John',' ')\n",
    "copy.opinion = copy.opinion.str.replace('MORRIS SHEPPARD',' ')\n",
    "copy.opinion = copy.opinion.str.replace('Morris Sheppard',' ')\n",
    "copy.opinion = copy.opinion.str.replace('Morris Sheppard'.lower(),' ')\n",
    "copy.opinion = copy.opinion.str.replace('\\n',' ')"
   ]
  },
  {
   "cell_type": "code",
   "execution_count": 6,
   "metadata": {},
   "outputs": [],
   "source": [
    "copy.opinion = copy.opinion.str.replace('\\\\\\'','')\n",
    "copy.opinion = copy.opinion.str.replace('(','')\n",
    "copy.opinion = copy.opinion.str.replace(')','')\n",
    "copy.opinion = copy.opinion.apply(lambda x: re.sub(r\"\\s\\w\\.\", \"\", x))\n",
    "copy.opinion = copy.opinion.apply(lambda x: re.sub(r\"\\s\\.\\s\", \" \", x))\n",
    "copy.opinion = copy.opinion.apply(lambda x: re.sub(r\"\\s\\.\\s\", \" \", x))\n",
    "copy.opinion = copy.opinion.apply(lambda x: re.sub(r\"\\s\\,\", \",\", x))\n",
    "copy.opinion = copy.opinion.apply(lambda x: re.sub(r\"\\d+\", \"\", x))\n",
    "copy.opinion = copy.opinion.apply(lambda x: re.sub(r\"-\", \"\", x))\n",
    "copy.opinion = copy.opinion.str.replace('S\\.C\\.','')\n",
    "copy.opinion = copy.opinion.str.replace('Ct\\.','Ct')\n",
    "copy.opinion = copy.opinion.str.replace('Ed\\.','Ed')\n",
    "copy.opinion = copy.opinion.str.replace('Dec\\.','Dec')\n",
    "copy.opinion = copy.opinion.str.replace(' No\\.',' No')\n",
    "copy.opinion = copy.opinion.str.replace(' pt\\.',' pt')\n",
    "copy.opinion = copy.opinion.str.replace(' Rep\\.',' Rep')\n",
    "copy.opinion = copy.opinion.str.replace(' Tr\\.',' Tr')\n",
    "copy.opinion = copy.opinion.str.replace(' Arg\\.',' Arg')\n",
    "copy.opinion = copy.opinion.str.replace(' Nev\\.',' Nev')\n",
    "copy.opinion = copy.opinion.str.replace(' Rev\\.',' Rev')\n",
    "copy.opinion = copy.opinion.str.replace(' Stat\\.',' Stat')\n",
    "copy.opinion = copy.opinion.str.replace(' Cent\\.',' Cent')\n",
    "copy.opinion = copy.opinion.str.replace(' Ore\\.',' Ore')\n",
    "copy.opinion = copy.opinion.str.replace(' Co\\.',' Co')\n",
    "copy.opinion = copy.opinion.str.replace(' Ins\\.',' Ins')\n",
    "copy.opinion = copy.opinion.str.replace('S\\.','')\n",
    "copy.opinion = copy.opinion.str.replace('Cf\\.','Cf')\n",
    "copy.opinion = copy.opinion.str.replace('Id\\.','Id')\n",
    "copy.opinion = copy.opinion.str.replace(' ,',',')\n",
    "copy.opinion = copy.opinion.str.replace(' \\.','.')\n",
    "copy.opinion = copy.opinion.str.replace('§','')\n",
    "copy.opinion = copy.opinion.str.replace('$','')\n",
    "copy.opinion = copy.opinion.str.replace('\\.\\.','.')\n",
    "copy.opinion = copy.opinion.str.replace('\\.\\.','.')\n",
    "copy.opinion = copy.opinion.str.replace(',,',',')\n",
    "copy.opinion = copy.opinion.str.replace(',,',',')\n",
    "copy.opinion = copy.opinion.str.replace(',\\.',',')\n",
    "copy.opinion = copy.opinion.str.replace('\"',' ')\n",
    "copy.opinion = copy.opinion.str.replace('II','')\n",
    "copy.opinion = copy.opinion.str.replace('III','')\n",
    "copy.opinion = copy.opinion.str.replace('  ',' ')"
   ]
  },
  {
   "cell_type": "code",
   "execution_count": 7,
   "metadata": {},
   "outputs": [
    {
     "name": "stdout",
     "output_type": "stream",
     "text": [
      "SANBORN\n",
      "\n",
      "Before WALTER and LEWIS, and PHILLIPS, WALTER, The provisions of the statutes of the United States by which the questions in this case must be decided are contained in this extract from title, , USCA \n",
      "\n",
      "\n",
      "Before, and BOOTH, Thomas Hall was plaintiff in the court below, and Union Indemnity Company was defendant. They will be so designated in this opinion. The plaintiff entered into a contract in March, \n",
      "\n",
      "\n",
      "Before and BOOTH, WALTER, Edward Wirfs, the appellant in this case, brought a suit in equity against Bosley Company, a corporation, and Rodgers Hayne and Arthur Surridge, partners as HayneSurridge Com\n",
      "\n",
      "\n",
      "Before WALTER and BOOTH, and PHILLIPS, WALTER,By properly authorized orders or decrees of the county court of Poinsett county, Ark., made on and prior to July, drainage district No of that county was \n",
      "\n",
      "\n",
      ", The Kansas City & Omaha Railroad Company hereafter called the Kansas Company has three lines of railroad, which aggregate. miles. They are situated in the state of Nebraska, and are tributary to the\n",
      "\n",
      "\n",
      "This is a controversy between the appellants and the appellee Ann Pendergrass over the proceeds of a , policy of insurance upon the life of Willard Pendergrass. The insured was the father of the appel\n",
      "\n",
      "\n",
      "This is an appeal from a judgment for the plaintiff appellee in an action upon a promissory note reading as follows: . June, Sixty days after date I   We promise to pay to the order of Westinghouse El\n",
      "\n",
      "\n",
      "Before, HOOK, and ADAMS, , The statutes of Illinois provide that the mortgagor may redeem from a foreclosure sale of his real estate at any time within months after the date of the sale, and that if h\n",
      "\n",
      "\n",
      "Before and THOMAS, and DEWEY,  ,  This appeal is from a decree in a suit brought to enjoin, and to recover damages for, the alleged infringement of United States Letters Patent No , issued on June, to\n",
      "\n",
      "\n",
      "The question presented by this appeal, prosecuted in forma pauperis, from an order dismissing the appellants petition for a writ of habeas corpus, is whether a federal prisoner confined in the United \n",
      "\n",
      "\n"
     ]
    }
   ],
   "source": [
    "# Prints the first 200 characters of the first 10 cleaned opinion texts of a given judge.\n",
    "judge = 0\n",
    "print(names[judge]+'\\n')\n",
    "for x in range(10):\n",
    "    print(copy.opinion[copy.loc[copy.authorship==names[judge]].index[x]][:200]+'\\n\\n')"
   ]
  },
  {
   "cell_type": "code",
   "execution_count": 8,
   "metadata": {
    "scrolled": true
   },
   "outputs": [
    {
     "name": "stdout",
     "output_type": "stream",
     "text": [
      "totalNum = 22646\n",
      "(5587, 4)\n",
      "(9464, 4)\n",
      "(7595, 4)\n"
     ]
    },
    {
     "name": "stderr",
     "output_type": "stream",
     "text": [
      "c:\\program files\\python37\\lib\\site-packages\\ipykernel_launcher.py:9: UserWarning: Boolean Series key will be reindexed to match DataFrame index.\n",
      "  if __name__ == '__main__':\n",
      "c:\\program files\\python37\\lib\\site-packages\\ipykernel_launcher.py:11: UserWarning: Boolean Series key will be reindexed to match DataFrame index.\n",
      "  # This is added back by InteractiveShellApp.init_path()\n",
      "c:\\program files\\python37\\lib\\site-packages\\ipykernel_launcher.py:57: UserWarning: Boolean Series key will be reindexed to match DataFrame index.\n",
      "c:\\program files\\python37\\lib\\site-packages\\ipykernel_launcher.py:59: UserWarning: Boolean Series key will be reindexed to match DataFrame index.\n"
     ]
    },
    {
     "name": "stdout",
     "output_type": "stream",
     "text": [
      "(7717, 4)\n",
      "(7221, 4)\n",
      "(7595, 4)\n",
      "top = 2000 bot = 1982\n",
      "totalNum = 22533\n",
      "(7717, 4)\n",
      "(7221, 4)\n",
      "(7595, 4)\n",
      "(7717, 4)\n",
      "(7221, 4)\n",
      "(7595, 4)\n",
      "top = 2000 bot = 1982\n",
      "totalNum = 22533\n",
      "(7717, 4)\n",
      "(7221, 4)\n",
      "(7595, 4)\n",
      "(7717, 4)\n",
      "(7221, 4)\n",
      "(7595, 4)\n",
      "top = 2000 bot = 1982\n"
     ]
    }
   ],
   "source": [
    "#get rough estimate for total number of top 10 authors in all 3 splits\n",
    "top = 2000\n",
    "bot = 1970\n",
    "split1 = pd.DataFrame()\n",
    "for x in copy[copy.date_standard<=bot].authorship.value_counts().head(10).index:\n",
    "    temp = copy[copy.authorship == x]\n",
    "    split1 = split1.append(temp[temp.date_standard<=bot])\n",
    "split2 = pd.DataFrame()\n",
    "for x in copy[copy.date_standard<top][copy.date_standard>bot].authorship.value_counts().head(10).index:\n",
    "    temp = copy[copy.authorship == x]\n",
    "    split2 = split2.append(temp[temp.date_standard<top][temp.date_standard>bot])\n",
    "split3 = pd.DataFrame()\n",
    "for x in copy[copy.date_standard>=top].authorship.value_counts().head(10).index:\n",
    "    temp = copy[copy.authorship == x]\n",
    "    split3 = split3.append(temp[temp.date_standard>=top])\n",
    "\n",
    "for i in range(3):\n",
    "    totalNum = split1.shape[0]+split2.shape[0]+split3.shape[0]\n",
    "    print('totalNum = '+str(totalNum))\n",
    "    print(split1.shape)\n",
    "    print(split2.shape)\n",
    "    print(split3.shape)    \n",
    "\n",
    "    #initialize the splits so we can iterate over them\n",
    "    top = 2020\n",
    "    bot = 1800\n",
    "    split1 = pd.DataFrame()\n",
    "    for x in copy[copy.date_standard<=bot].authorship.value_counts().head(10).index:\n",
    "        temp = copy[copy.authorship == x]\n",
    "        split1 = split1.append(temp[temp.date_standard<=bot])\n",
    "    split2 = pd.DataFrame()\n",
    "    for x in copy[copy.date_standard<top][copy.date_standard>bot].authorship.value_counts().head(10).index:\n",
    "        temp = copy[copy.authorship == x]\n",
    "        split2 = split2.append(temp[temp.date_standard<top][temp.date_standard>bot])\n",
    "    split3 = pd.DataFrame()\n",
    "    for x in copy[copy.date_standard>=top].authorship.value_counts().head(10).index:\n",
    "        temp = copy[copy.authorship == x]\n",
    "        split3 = split3.append(temp[temp.date_standard>=top])\n",
    "    \n",
    "    \n",
    "    \n",
    "    \n",
    "    #loop to iterate \n",
    "    while split1.shape[0] < totalNum/3:\n",
    "        bot += 1\n",
    "        split1 = pd.DataFrame()\n",
    "        for x in copy[copy.date_standard<=bot].authorship.value_counts().head(10).index:\n",
    "            temp = copy[copy.authorship == x]\n",
    "            split1 = split1.append(temp[temp.date_standard<=bot])    \n",
    "    while split3.shape[0] < totalNum/3:\n",
    "        top -= 1\n",
    "        split3 = pd.DataFrame()\n",
    "        for x in copy[copy.date_standard>=top].authorship.value_counts().head(10).index:\n",
    "            temp = copy[copy.authorship == x]\n",
    "            split3 = split3.append(temp[temp.date_standard>=top])\n",
    "    split2 = pd.DataFrame()\n",
    "    for x in copy[copy.date_standard<top][copy.date_standard>bot].authorship.value_counts().head(10).index:\n",
    "        temp = copy[copy.authorship == x]\n",
    "        split2 = split2.append(temp[temp.date_standard<top][temp.date_standard>bot])\n",
    "    \n",
    "\n",
    "    print(split1.shape)\n",
    "    print(split2.shape)\n",
    "    print(split3.shape)\n",
    "    print('top = '+str(top)+' bot = '+str(bot))"
   ]
  },
  {
   "cell_type": "markdown",
   "metadata": {},
   "source": [
    "# Bag of Words approach"
   ]
  },
  {
   "cell_type": "markdown",
   "metadata": {},
   "source": [
    "## Split 1"
   ]
  },
  {
   "cell_type": "code",
   "execution_count": 9,
   "metadata": {},
   "outputs": [
    {
     "data": {
      "text/plain": [
       "SANBORN      2066\n",
       "GARDNER       839\n",
       "THAYER        722\n",
       "HEANEY        697\n",
       "STONE         691\n",
       "WOODROUGH     690\n",
       "LAY           618\n",
       "BRIGHT        535\n",
       "GIBSON        480\n",
       "ROSS          379\n",
       "Name: authorship, dtype: int64"
      ]
     },
     "execution_count": 9,
     "metadata": {},
     "output_type": "execute_result"
    }
   ],
   "source": [
    "split1.authorship.value_counts()"
   ]
  },
  {
   "cell_type": "code",
   "execution_count": 10,
   "metadata": {},
   "outputs": [
    {
     "name": "stdout",
     "output_type": "stream",
     "text": [
      "Number of Datapoints:  7717\n"
     ]
    }
   ],
   "source": [
    "print('Number of Datapoints: ', split1.shape[0])"
   ]
  },
  {
   "cell_type": "code",
   "execution_count": 11,
   "metadata": {},
   "outputs": [],
   "source": [
    "split1names = split1.authorship.unique()\n",
    "\n",
    "for index, name in enumerate(split1names):\n",
    "    split1.authorship = split1.authorship.str.replace(name, str(index))\n",
    "split1.authorship = split1.authorship.astype(int)"
   ]
  },
  {
   "cell_type": "code",
   "execution_count": 12,
   "metadata": {},
   "outputs": [],
   "source": [
    "vectorizer1 = CountVectorizer(lowercase=False, ngram_range=(1,3), min_df=30, max_features=3000)\n",
    "bowM1 = vectorizer1.fit_transform(split1.opinion)\n",
    "#print(bowM1.toarray().shape)\n",
    "#print(vectorizer1.get_feature_names())"
   ]
  },
  {
   "cell_type": "code",
   "execution_count": 13,
   "metadata": {},
   "outputs": [],
   "source": [
    "X1 = pd.DataFrame.sparse.from_spmatrix(bowM1)\n",
    "X1 = X1.sparse.to_dense()"
   ]
  },
  {
   "cell_type": "code",
   "execution_count": 14,
   "metadata": {},
   "outputs": [],
   "source": [
    "for x in range(0,len(X1.columns)):\n",
    "    mean = X1.iloc[:,x].mean()\n",
    "    std = X1.iloc[:,x].std()\n",
    "    X1.iloc[:,x] = (X1.iloc[:,x] - mean)/std"
   ]
  },
  {
   "cell_type": "code",
   "execution_count": 15,
   "metadata": {},
   "outputs": [],
   "source": [
    "Y1 = split1.authorship.to_frame().reset_index().drop(columns=['index'])\n",
    "\n",
    "X1_Training, X1_Testing, y1_Training, y1_Testing = train_test_split(X1, Y1, test_size=0.2, random_state=1234)"
   ]
  },
  {
   "cell_type": "code",
   "execution_count": 16,
   "metadata": {},
   "outputs": [
    {
     "name": "stderr",
     "output_type": "stream",
     "text": [
      "c:\\program files\\python37\\lib\\site-packages\\sklearn\\utils\\validation.py:73: DataConversionWarning: A column-vector y was passed when a 1d array was expected. Please change the shape of y to (n_samples, ), for example using ravel().\n",
      "  return f(**kwargs)\n"
     ]
    },
    {
     "name": "stdout",
     "output_type": "stream",
     "text": [
      "[LibSVM]0.9044534412955466\n"
     ]
    },
    {
     "name": "stderr",
     "output_type": "stream",
     "text": [
      "c:\\program files\\python37\\lib\\site-packages\\sklearn\\utils\\validation.py:73: DataConversionWarning: A column-vector y was passed when a 1d array was expected. Please change the shape of y to (n_samples, ), for example using ravel().\n",
      "  return f(**kwargs)\n"
     ]
    },
    {
     "name": "stdout",
     "output_type": "stream",
     "text": [
      "[LibSVM]0.8720647773279352\n"
     ]
    },
    {
     "name": "stderr",
     "output_type": "stream",
     "text": [
      "c:\\program files\\python37\\lib\\site-packages\\sklearn\\utils\\validation.py:73: DataConversionWarning: A column-vector y was passed when a 1d array was expected. Please change the shape of y to (n_samples, ), for example using ravel().\n",
      "  return f(**kwargs)\n"
     ]
    },
    {
     "name": "stdout",
     "output_type": "stream",
     "text": [
      "[LibSVM]0.9093117408906882\n"
     ]
    },
    {
     "name": "stderr",
     "output_type": "stream",
     "text": [
      "c:\\program files\\python37\\lib\\site-packages\\sklearn\\utils\\validation.py:73: DataConversionWarning: A column-vector y was passed when a 1d array was expected. Please change the shape of y to (n_samples, ), for example using ravel().\n",
      "  return f(**kwargs)\n"
     ]
    },
    {
     "name": "stdout",
     "output_type": "stream",
     "text": [
      "[LibSVM]0.9093117408906882\n"
     ]
    },
    {
     "name": "stderr",
     "output_type": "stream",
     "text": [
      "c:\\program files\\python37\\lib\\site-packages\\sklearn\\utils\\validation.py:73: DataConversionWarning: A column-vector y was passed when a 1d array was expected. Please change the shape of y to (n_samples, ), for example using ravel().\n",
      "  return f(**kwargs)\n"
     ]
    },
    {
     "name": "stdout",
     "output_type": "stream",
     "text": [
      "[LibSVM]0.902834008097166\n",
      "Accuracy:  0.8995951417004047  +/-  0.014005990808381967\n"
     ]
    }
   ],
   "source": [
    "scores = [0,0,0,0,0]\n",
    "\n",
    "for i in range(0,5):\n",
    "    classifier = svm.SVC(kernel='poly',degree=1,C=1,class_weight='balanced', verbose=True, probability=True)\n",
    "\n",
    "    X1_train, X1_test, y1_train, y1_test = train_test_split(X1_Training, y1_Training, test_size=0.2, random_state=i)\n",
    "    classifier.fit(np.array(X1_train), np.array(y1_train))\n",
    "    values = classifier.predict_proba(np.array(X1_test))\n",
    "    \n",
    "    correct = 0\n",
    "    counter = 0\n",
    "    for k in range(0,y1_test.size):\n",
    "        if np.amax(values[k]) == values[k][int(y1_test.iloc[k])]:\n",
    "            correct += 1\n",
    "        counter += 1\n",
    "        \n",
    "    scores[i] = correct/counter\n",
    "    print(scores[i])\n",
    "    \n",
    "print('Accuracy: ', np.array(scores).mean(), ' +/- ', np.array(scores).std())"
   ]
  },
  {
   "cell_type": "code",
   "execution_count": 17,
   "metadata": {},
   "outputs": [
    {
     "data": {
      "image/png": "[encoded data removed]",
      "text/plain": [
       "<Figure size 432x288 with 1 Axes>"
      ]
     },
     "metadata": {
      "needs_background": "light"
     },
     "output_type": "display_data"
    },
    {
     "name": "stdout",
     "output_type": "stream",
     "text": [
      "Accuracy:  0.8957253886010362\n"
     ]
    },
    {
     "data": {
      "image/png": "[encoded data removed]",
      "text/plain": [
       "<Figure size 432x288 with 1 Axes>"
      ]
     },
     "metadata": {
      "needs_background": "light"
     },
     "output_type": "display_data"
    },
    {
     "name": "stdout",
     "output_type": "stream",
     "text": [
      "Accuracy:  0.8957253886010362\n"
     ]
    },
    {
     "data": {
      "image/png": "[encoded data removed]",
      "text/plain": [
       "<Figure size 432x288 with 1 Axes>"
      ]
     },
     "metadata": {
      "needs_background": "light"
     },
     "output_type": "display_data"
    },
    {
     "name": "stdout",
     "output_type": "stream",
     "text": [
      "Accuracy:  0.8957253886010362\n"
     ]
    },
    {
     "data": {
      "image/png": "[encoded data removed]",
      "text/plain": [
       "<Figure size 432x288 with 1 Axes>"
      ]
     },
     "metadata": {
      "needs_background": "light"
     },
     "output_type": "display_data"
    },
    {
     "name": "stdout",
     "output_type": "stream",
     "text": [
      "Accuracy:  0.8957253886010362\n"
     ]
    },
    {
     "data": {
      "image/png": "[encoded data removed]",
      "text/plain": [
       "<Figure size 432x288 with 1 Axes>"
      ]
     },
     "metadata": {
      "needs_background": "light"
     },
     "output_type": "display_data"
    },
    {
     "name": "stdout",
     "output_type": "stream",
     "text": [
      "Accuracy:  0.8957253886010362\n"
     ]
    },
    {
     "data": {
      "image/png": "[encoded data removed]",
      "text/plain": [
       "<Figure size 432x288 with 1 Axes>"
      ]
     },
     "metadata": {
      "needs_background": "light"
     },
     "output_type": "display_data"
    },
    {
     "name": "stdout",
     "output_type": "stream",
     "text": [
      "Accuracy:  0.8957253886010362\n"
     ]
    },
    {
     "data": {
      "image/png": "[encoded data removed]",
      "text/plain": [
       "<Figure size 432x288 with 1 Axes>"
      ]
     },
     "metadata": {
      "needs_background": "light"
     },
     "output_type": "display_data"
    },
    {
     "name": "stdout",
     "output_type": "stream",
     "text": [
      "Accuracy:  0.8957253886010362\n"
     ]
    },
    {
     "data": {
      "image/png": "[encoded data removed]",
      "text/plain": [
       "<Figure size 432x288 with 1 Axes>"
      ]
     },
     "metadata": {
      "needs_background": "light"
     },
     "output_type": "display_data"
    },
    {
     "name": "stdout",
     "output_type": "stream",
     "text": [
      "Accuracy:  0.8957253886010362\n"
     ]
    },
    {
     "data": {
      "image/png": "[encoded data removed]",
      "text/plain": [
       "<Figure size 432x288 with 1 Axes>"
      ]
     },
     "metadata": {
      "needs_background": "light"
     },
     "output_type": "display_data"
    },
    {
     "name": "stdout",
     "output_type": "stream",
     "text": [
      "Accuracy:  0.8957253886010362\n"
     ]
    },
    {
     "data": {
      "image/png": "[encoded data removed]",
      "text/plain": [
       "<Figure size 432x288 with 1 Axes>"
      ]
     },
     "metadata": {
      "needs_background": "light"
     },
     "output_type": "display_data"
    },
    {
     "name": "stdout",
     "output_type": "stream",
     "text": [
      "Accuracy:  0.8957253886010362\n"
     ]
    }
   ],
   "source": [
    "values1 = classifier.predict_proba(np.array(X1_Testing))\n",
    "data1 = pd.DataFrame(data=values1)\n",
    "data1['Y'] = y1_Testing.authorship.to_frame().reset_index().drop(columns=['index'])\n",
    "data1.to_csv('92_split1_results.csv', index=False)\n",
    "\n",
    "for l in range(0,10):\n",
    "    probs = [0,0,0,0,0,0,0,0,0,0]\n",
    "    count = 0\n",
    "\n",
    "    for i,row in data1.iterrows():\n",
    "        if(row['Y'] == l):\n",
    "            for k in range(0,10):\n",
    "                probs[k] += row[k]\n",
    "            count += 1\n",
    "    \n",
    "    for k in range(0,10):\n",
    "        probs[k] = probs[k]/count\n",
    "\n",
    "    objects = ('1','2','3','4','5','6','7','8','9','10')\n",
    "    y_pos = np.arange(len(objects))\n",
    "    performance = probs\n",
    "\n",
    "    plt.bar(y_pos, performance, align='center', alpha=0.5)\n",
    "    plt.xticks(y_pos, objects)\n",
    "    plt.title('Probability distribution')\n",
    "\n",
    "    plt.show()\n",
    "    \n",
    "    correct = 0\n",
    "    counter = 0\n",
    "    for k in range(0,y1_Testing.size):\n",
    "        if np.amax(values1[k]) == values1[k][int(y1_Testing.iloc[k])]:\n",
    "            correct += 1\n",
    "        counter += 1\n",
    "        \n",
    "    print('Accuracy: ',correct/counter)"
   ]
  },
  {
   "cell_type": "code",
   "execution_count": 18,
   "metadata": {},
   "outputs": [
    {
     "data": {
      "image/png": "[encoded data removed]",
      "text/plain": [
       "<Figure size 432x288 with 1 Axes>"
      ]
     },
     "metadata": {
      "needs_background": "light"
     },
     "output_type": "display_data"
    },
    {
     "name": "stdout",
     "output_type": "stream",
     "text": [
      "[14, 7, 3, 25, 5, 11, 26, 24, 21, 25]\n"
     ]
    }
   ],
   "source": [
    "wrongPredictions = [0,0,0,0,0,0,0,0,0,0]\n",
    "\n",
    "for i,row in data1.iterrows():\n",
    "    if row[int(row['Y'])] != np.amax(row[:10]):\n",
    "        wrongPredictions[(int(row['Y']))] += 1\n",
    "        #print(i)\n",
    "        \n",
    "objects = ('1','2','3','4','5','6','7','8','9','10')\n",
    "y_pos = np.arange(len(objects))\n",
    "performance = wrongPredictions\n",
    "\n",
    "plt.bar(y_pos, performance, align='center', alpha=0.5)\n",
    "plt.xticks(y_pos, objects)\n",
    "plt.show()\n",
    "\n",
    "print(wrongPredictions)"
   ]
  },
  {
   "cell_type": "code",
   "execution_count": 19,
   "metadata": {},
   "outputs": [
    {
     "data": {
      "image/png": "[encoded data removed]",
      "text/plain": [
       "<Figure size 432x288 with 1 Axes>"
      ]
     },
     "metadata": {
      "needs_background": "light"
     },
     "output_type": "display_data"
    }
   ],
   "source": [
    "objects = ('1','2','3','4','5','6','7','8','9','10')\n",
    "y_pos = np.arange(len(objects))\n",
    "performance = values1[233]\n",
    "\n",
    "plt.bar(y_pos, performance, align='center', alpha=0.5)\n",
    "plt.xticks(y_pos, objects)\n",
    "plt.title('Probability distribution')\n",
    "\n",
    "plt.show()"
   ]
  },
  {
   "cell_type": "markdown",
   "metadata": {},
   "source": [
    "## Split 2"
   ]
  },
  {
   "cell_type": "code",
   "execution_count": 20,
   "metadata": {},
   "outputs": [
    {
     "data": {
      "text/plain": [
       "HEANEY       986\n",
       "MCMILLIAN    906\n",
       "BOWMAN       790\n",
       "GIBSON       739\n",
       "WOLLMAN      729\n",
       "BEAM         705\n",
       "FAGG         650\n",
       "MAGILL       631\n",
       "LAY          552\n",
       "BRIGHT       533\n",
       "Name: authorship, dtype: int64"
      ]
     },
     "execution_count": 20,
     "metadata": {},
     "output_type": "execute_result"
    }
   ],
   "source": [
    "split2.authorship.value_counts()"
   ]
  },
  {
   "cell_type": "code",
   "execution_count": 21,
   "metadata": {},
   "outputs": [
    {
     "name": "stdout",
     "output_type": "stream",
     "text": [
      "Number of Datapoints:  7221\n"
     ]
    }
   ],
   "source": [
    "print('Number of Datapoints: ', split2.shape[0])"
   ]
  },
  {
   "cell_type": "code",
   "execution_count": 22,
   "metadata": {},
   "outputs": [],
   "source": [
    "split2names = split2.authorship.unique()\n",
    "\n",
    "for index, name in enumerate(split2names):\n",
    "    split2.authorship = split2.authorship.str.replace(name, str(index))\n",
    "split2.authorship = split2.authorship.astype(int)"
   ]
  },
  {
   "cell_type": "code",
   "execution_count": 23,
   "metadata": {},
   "outputs": [],
   "source": [
    "vectorizer2 = CountVectorizer(lowercase=False, ngram_range=(1,3), min_df=30, max_features=3000)\n",
    "bowM2 = vectorizer2.fit_transform(split2.opinion)\n",
    "#print(bowM2.toarray().shape)\n",
    "#print(vectorizer2.get_feature_names())"
   ]
  },
  {
   "cell_type": "code",
   "execution_count": 24,
   "metadata": {},
   "outputs": [],
   "source": [
    "X2 = pd.DataFrame.sparse.from_spmatrix(bowM2)\n",
    "X2 = X2.sparse.to_dense()"
   ]
  },
  {
   "cell_type": "code",
   "execution_count": 25,
   "metadata": {},
   "outputs": [],
   "source": [
    "for x in range(0,len(X2.columns)):\n",
    "    mean = X2.iloc[:,x].mean()\n",
    "    std = X2.iloc[:,x].std()\n",
    "    X2.iloc[:,x] = (X2.iloc[:,x] - mean)/std"
   ]
  },
  {
   "cell_type": "code",
   "execution_count": 26,
   "metadata": {},
   "outputs": [],
   "source": [
    "Y2 = split2.authorship.to_frame().reset_index().drop(columns=['index'])\n",
    "\n",
    "X2_Training, X2_Testing, y2_Training, y2_Testing = train_test_split(X2, Y2, test_size=0.2, random_state=1234)"
   ]
  },
  {
   "cell_type": "code",
   "execution_count": 27,
   "metadata": {},
   "outputs": [
    {
     "name": "stderr",
     "output_type": "stream",
     "text": [
      "c:\\program files\\python37\\lib\\site-packages\\sklearn\\utils\\validation.py:73: DataConversionWarning: A column-vector y was passed when a 1d array was expected. Please change the shape of y to (n_samples, ), for example using ravel().\n",
      "  return f(**kwargs)\n"
     ]
    },
    {
     "name": "stdout",
     "output_type": "stream",
     "text": [
      "[LibSVM]0.7214532871972318\n"
     ]
    },
    {
     "name": "stderr",
     "output_type": "stream",
     "text": [
      "c:\\program files\\python37\\lib\\site-packages\\sklearn\\utils\\validation.py:73: DataConversionWarning: A column-vector y was passed when a 1d array was expected. Please change the shape of y to (n_samples, ), for example using ravel().\n",
      "  return f(**kwargs)\n"
     ]
    },
    {
     "name": "stdout",
     "output_type": "stream",
     "text": [
      "[LibSVM]0.7422145328719724\n"
     ]
    },
    {
     "name": "stderr",
     "output_type": "stream",
     "text": [
      "c:\\program files\\python37\\lib\\site-packages\\sklearn\\utils\\validation.py:73: DataConversionWarning: A column-vector y was passed when a 1d array was expected. Please change the shape of y to (n_samples, ), for example using ravel().\n",
      "  return f(**kwargs)\n"
     ]
    },
    {
     "name": "stdout",
     "output_type": "stream",
     "text": [
      "[LibSVM]0.7378892733564014\n"
     ]
    },
    {
     "name": "stderr",
     "output_type": "stream",
     "text": [
      "c:\\program files\\python37\\lib\\site-packages\\sklearn\\utils\\validation.py:73: DataConversionWarning: A column-vector y was passed when a 1d array was expected. Please change the shape of y to (n_samples, ), for example using ravel().\n",
      "  return f(**kwargs)\n"
     ]
    },
    {
     "name": "stdout",
     "output_type": "stream",
     "text": [
      "[LibSVM]0.7084775086505191\n"
     ]
    },
    {
     "name": "stderr",
     "output_type": "stream",
     "text": [
      "c:\\program files\\python37\\lib\\site-packages\\sklearn\\utils\\validation.py:73: DataConversionWarning: A column-vector y was passed when a 1d array was expected. Please change the shape of y to (n_samples, ), for example using ravel().\n",
      "  return f(**kwargs)\n"
     ]
    },
    {
     "name": "stdout",
     "output_type": "stream",
     "text": [
      "[LibSVM]0.7067474048442907\n",
      "Accuracy:  0.723356401384083  +/-  0.014612977448981797\n"
     ]
    }
   ],
   "source": [
    "scores = [0,0,0,0,0]\n",
    "\n",
    "for i in range(0,5):\n",
    "    classifier = svm.SVC(kernel='poly',degree=1,C=1,class_weight='balanced', verbose=True, probability=True)\n",
    "\n",
    "    X2_train, X2_test, y2_train, y2_test = train_test_split(X2_Training, y2_Training, test_size=0.2, random_state=i)\n",
    "    classifier.fit(np.array(X2_train), np.array(y2_train))\n",
    "    values = classifier.predict_proba(np.array(X2_test))\n",
    "    \n",
    "    correct = 0\n",
    "    counter = 0\n",
    "    for k in range(0,y2_test.size):\n",
    "        if np.amax(values[k]) == values[k][int(y2_test.iloc[k])]:\n",
    "            correct += 1\n",
    "        counter += 1\n",
    "        \n",
    "    scores[i] = correct/counter\n",
    "    print(scores[i])\n",
    "    \n",
    "print('Accuracy: ', np.array(scores).mean(), ' +/- ', np.array(scores).std())"
   ]
  },
  {
   "cell_type": "code",
   "execution_count": 28,
   "metadata": {},
   "outputs": [
    {
     "data": {
      "image/png": "[encoded data removed]",
      "text/plain": [
       "<Figure size 432x288 with 1 Axes>"
      ]
     },
     "metadata": {
      "needs_background": "light"
     },
     "output_type": "display_data"
    },
    {
     "name": "stdout",
     "output_type": "stream",
     "text": [
      "Accuracy:  0.7003460207612456\n"
     ]
    },
    {
     "data": {
      "image/png": "[encoded data removed]",
      "text/plain": [
       "<Figure size 432x288 with 1 Axes>"
      ]
     },
     "metadata": {
      "needs_background": "light"
     },
     "output_type": "display_data"
    },
    {
     "name": "stdout",
     "output_type": "stream",
     "text": [
      "Accuracy:  0.7003460207612456\n"
     ]
    },
    {
     "data": {
      "image/png": "[encoded data removed]",
      "text/plain": [
       "<Figure size 432x288 with 1 Axes>"
      ]
     },
     "metadata": {
      "needs_background": "light"
     },
     "output_type": "display_data"
    },
    {
     "name": "stdout",
     "output_type": "stream",
     "text": [
      "Accuracy:  0.7003460207612456\n"
     ]
    },
    {
     "data": {
      "image/png": "[encoded data removed]",
      "text/plain": [
       "<Figure size 432x288 with 1 Axes>"
      ]
     },
     "metadata": {
      "needs_background": "light"
     },
     "output_type": "display_data"
    },
    {
     "name": "stdout",
     "output_type": "stream",
     "text": [
      "Accuracy:  0.7003460207612456\n"
     ]
    },
    {
     "data": {
      "image/png": "[encoded data removed]",
      "text/plain": [
       "<Figure size 432x288 with 1 Axes>"
      ]
     },
     "metadata": {
      "needs_background": "light"
     },
     "output_type": "display_data"
    },
    {
     "name": "stdout",
     "output_type": "stream",
     "text": [
      "Accuracy:  0.7003460207612456\n"
     ]
    },
    {
     "data": {
      "image/png": "[encoded data removed]",
      "text/plain": [
       "<Figure size 432x288 with 1 Axes>"
      ]
     },
     "metadata": {
      "needs_background": "light"
     },
     "output_type": "display_data"
    },
    {
     "name": "stdout",
     "output_type": "stream",
     "text": [
      "Accuracy:  0.7003460207612456\n"
     ]
    },
    {
     "data": {
      "image/png": "[encoded data removed]",
      "text/plain": [
       "<Figure size 432x288 with 1 Axes>"
      ]
     },
     "metadata": {
      "needs_background": "light"
     },
     "output_type": "display_data"
    },
    {
     "name": "stdout",
     "output_type": "stream",
     "text": [
      "Accuracy:  0.7003460207612456\n"
     ]
    },
    {
     "data": {
      "image/png": "[encoded data removed]",
      "text/plain": [
       "<Figure size 432x288 with 1 Axes>"
      ]
     },
     "metadata": {
      "needs_background": "light"
     },
     "output_type": "display_data"
    },
    {
     "name": "stdout",
     "output_type": "stream",
     "text": [
      "Accuracy:  0.7003460207612456\n"
     ]
    },
    {
     "data": {
      "image/png": "[encoded data removed]",
      "text/plain": [
       "<Figure size 432x288 with 1 Axes>"
      ]
     },
     "metadata": {
      "needs_background": "light"
     },
     "output_type": "display_data"
    },
    {
     "name": "stdout",
     "output_type": "stream",
     "text": [
      "Accuracy:  0.7003460207612456\n"
     ]
    },
    {
     "data": {
      "image/png": "[encoded data removed]",
      "text/plain": [
       "<Figure size 432x288 with 1 Axes>"
      ]
     },
     "metadata": {
      "needs_background": "light"
     },
     "output_type": "display_data"
    },
    {
     "name": "stdout",
     "output_type": "stream",
     "text": [
      "Accuracy:  0.7003460207612456\n"
     ]
    }
   ],
   "source": [
    "values2 = classifier.predict_proba(np.array(X2_Testing))\n",
    "data2 = pd.DataFrame(data=values2)\n",
    "data2['Y'] = y2_Testing.authorship.to_frame().reset_index().drop(columns=['index'])\n",
    "data2.to_csv('92_split2_results.csv', index=False)\n",
    "\n",
    "for l in range(0,10):\n",
    "    probs = [0,0,0,0,0,0,0,0,0,0]\n",
    "    count = 0\n",
    "\n",
    "    for i,row in data2.iterrows():\n",
    "        if(row['Y'] == l):\n",
    "            count += 1\n",
    "            for k in range(0,10):\n",
    "                probs[k] += row[k]\n",
    "            count += 1\n",
    "\n",
    "    for k in range(0,10):\n",
    "        probs[k] = probs[k]/count\n",
    "\n",
    "    objects = ('1','2','3','4','5','6','7','8','9','10')\n",
    "    y_pos = np.arange(len(objects))\n",
    "    performance = probs\n",
    "\n",
    "    plt.bar(y_pos, performance, align='center', alpha=0.5)\n",
    "    plt.xticks(y_pos, objects)\n",
    "    plt.title('Probability distribution')\n",
    "\n",
    "    plt.show()\n",
    "    \n",
    "    correct = 0\n",
    "    counter = 0\n",
    "    for k in range(0,y2_Testing.size):\n",
    "        if np.amax(values2[k]) == values2[k][int(y2_Testing.iloc[k])]:\n",
    "            correct += 1\n",
    "        counter += 1\n",
    "        \n",
    "    print('Accuracy: ',correct/counter)"
   ]
  },
  {
   "cell_type": "code",
   "execution_count": 29,
   "metadata": {},
   "outputs": [
    {
     "data": {
      "image/png": "[encoded data removed]",
      "text/plain": [
       "<Figure size 432x288 with 1 Axes>"
      ]
     },
     "metadata": {
      "needs_background": "light"
     },
     "output_type": "display_data"
    },
    {
     "name": "stdout",
     "output_type": "stream",
     "text": [
      "[49, 17, 26, 59, 37, 44, 15, 69, 59, 58]\n"
     ]
    }
   ],
   "source": [
    "wrongPredictions = [0,0,0,0,0,0,0,0,0,0]\n",
    "\n",
    "for i,row in data2.iterrows():\n",
    "    if row[int(row['Y'])] != np.amax(row[:10]):\n",
    "        wrongPredictions[(int(row['Y']))] += 1\n",
    "        #print(i)\n",
    "        \n",
    "objects = ('1','2','3','4','5','6','7','8','9','10')\n",
    "y_pos = np.arange(len(objects))\n",
    "performance = wrongPredictions\n",
    "\n",
    "plt.bar(y_pos, performance, align='center', alpha=0.5)\n",
    "plt.xticks(y_pos, objects)\n",
    "plt.show()\n",
    "\n",
    "print(wrongPredictions)"
   ]
  },
  {
   "cell_type": "code",
   "execution_count": 30,
   "metadata": {},
   "outputs": [
    {
     "data": {
      "image/png": "[encoded data removed]",
      "text/plain": [
       "<Figure size 432x288 with 1 Axes>"
      ]
     },
     "metadata": {
      "needs_background": "light"
     },
     "output_type": "display_data"
    }
   ],
   "source": [
    "objects = ('1','2','3','4','5','6','7','8','9','10')\n",
    "y_pos = np.arange(len(objects))\n",
    "performance = values2[233]\n",
    "\n",
    "plt.bar(y_pos, performance, align='center', alpha=0.5)\n",
    "plt.xticks(y_pos, objects)\n",
    "plt.title('Probability distribution')\n",
    "\n",
    "plt.show()"
   ]
  },
  {
   "cell_type": "markdown",
   "metadata": {},
   "source": [
    "## Split 3"
   ]
  },
  {
   "cell_type": "code",
   "execution_count": 31,
   "metadata": {},
   "outputs": [
    {
     "data": {
      "text/plain": [
       "LOKEN       901\n",
       "WOLLMAN     875\n",
       "RILEY       868\n",
       "BYE         806\n",
       "COLLOTON    802\n",
       "SMITH       745\n",
       "MURPHY      743\n",
       "MELLOY      682\n",
       "GRUENDER    590\n",
       "BEAM        583\n",
       "Name: authorship, dtype: int64"
      ]
     },
     "execution_count": 31,
     "metadata": {},
     "output_type": "execute_result"
    }
   ],
   "source": [
    "split3.authorship.value_counts()"
   ]
  },
  {
   "cell_type": "code",
   "execution_count": 32,
   "metadata": {},
   "outputs": [
    {
     "name": "stdout",
     "output_type": "stream",
     "text": [
      "Number of Datapoints:  7595\n"
     ]
    }
   ],
   "source": [
    "print('Number of Datapoints: ', split3.shape[0])"
   ]
  },
  {
   "cell_type": "code",
   "execution_count": 33,
   "metadata": {},
   "outputs": [],
   "source": [
    "split3names = split3.authorship.unique()\n",
    "\n",
    "for index, name in enumerate(split3names):\n",
    "    split3.authorship = split3.authorship.str.replace(name, str(index))\n",
    "split3.authorship = split3.authorship.astype(int)"
   ]
  },
  {
   "cell_type": "code",
   "execution_count": 34,
   "metadata": {},
   "outputs": [],
   "source": [
    "vectorizer3 = CountVectorizer(lowercase=False, ngram_range=(1,3), min_df=30, max_features=3000)\n",
    "bowM3 = vectorizer3.fit_transform(split3.opinion)\n",
    "#print(bowM3.toarray().shape)\n",
    "#print(vectorizer3.get_feature_names())"
   ]
  },
  {
   "cell_type": "code",
   "execution_count": 35,
   "metadata": {},
   "outputs": [],
   "source": [
    "X3 = pd.DataFrame.sparse.from_spmatrix(bowM3)\n",
    "X3 = X3.sparse.to_dense()"
   ]
  },
  {
   "cell_type": "code",
   "execution_count": 36,
   "metadata": {},
   "outputs": [],
   "source": [
    "for x in range(0,len(X3.columns)):\n",
    "    mean = X3.iloc[:,x].mean()\n",
    "    std = X3.iloc[:,x].std()\n",
    "    X3.iloc[:,x] = (X3.iloc[:,x] - mean)/std"
   ]
  },
  {
   "cell_type": "code",
   "execution_count": 37,
   "metadata": {},
   "outputs": [],
   "source": [
    "Y3 = split3.authorship.to_frame().reset_index().drop(columns=['index'])\n",
    "\n",
    "X3_Training, X3_Testing, y3_Training, y3_Testing = train_test_split(X3, Y3, test_size=0.2, random_state=1234)"
   ]
  },
  {
   "cell_type": "code",
   "execution_count": 38,
   "metadata": {},
   "outputs": [
    {
     "name": "stderr",
     "output_type": "stream",
     "text": [
      "c:\\program files\\python37\\lib\\site-packages\\sklearn\\utils\\validation.py:73: DataConversionWarning: A column-vector y was passed when a 1d array was expected. Please change the shape of y to (n_samples, ), for example using ravel().\n",
      "  return f(**kwargs)\n"
     ]
    },
    {
     "name": "stdout",
     "output_type": "stream",
     "text": [
      "[LibSVM]0.8314144736842105\n"
     ]
    },
    {
     "name": "stderr",
     "output_type": "stream",
     "text": [
      "c:\\program files\\python37\\lib\\site-packages\\sklearn\\utils\\validation.py:73: DataConversionWarning: A column-vector y was passed when a 1d array was expected. Please change the shape of y to (n_samples, ), for example using ravel().\n",
      "  return f(**kwargs)\n"
     ]
    },
    {
     "name": "stdout",
     "output_type": "stream",
     "text": [
      "[LibSVM]0.8396381578947368\n"
     ]
    },
    {
     "name": "stderr",
     "output_type": "stream",
     "text": [
      "c:\\program files\\python37\\lib\\site-packages\\sklearn\\utils\\validation.py:73: DataConversionWarning: A column-vector y was passed when a 1d array was expected. Please change the shape of y to (n_samples, ), for example using ravel().\n",
      "  return f(**kwargs)\n"
     ]
    },
    {
     "name": "stdout",
     "output_type": "stream",
     "text": [
      "[LibSVM]0.8412828947368421\n"
     ]
    },
    {
     "name": "stderr",
     "output_type": "stream",
     "text": [
      "c:\\program files\\python37\\lib\\site-packages\\sklearn\\utils\\validation.py:73: DataConversionWarning: A column-vector y was passed when a 1d array was expected. Please change the shape of y to (n_samples, ), for example using ravel().\n",
      "  return f(**kwargs)\n"
     ]
    },
    {
     "name": "stdout",
     "output_type": "stream",
     "text": [
      "[LibSVM]0.859375\n"
     ]
    },
    {
     "name": "stderr",
     "output_type": "stream",
     "text": [
      "c:\\program files\\python37\\lib\\site-packages\\sklearn\\utils\\validation.py:73: DataConversionWarning: A column-vector y was passed when a 1d array was expected. Please change the shape of y to (n_samples, ), for example using ravel().\n",
      "  return f(**kwargs)\n"
     ]
    },
    {
     "name": "stdout",
     "output_type": "stream",
     "text": [
      "[LibSVM]0.8478618421052632\n",
      "Accuracy:  0.8439144736842105  +/-  0.00933886155695947\n"
     ]
    }
   ],
   "source": [
    "scores = [0,0,0,0,0]\n",
    "\n",
    "for i in range(0,5):\n",
    "    classifier = svm.SVC(kernel='poly',degree=1,C=1,class_weight='balanced', verbose=True, probability=True)\n",
    "\n",
    "    X3_train, X3_test, y3_train, y3_test = train_test_split(X3_Training, y3_Training, test_size=0.2, random_state=i)\n",
    "    classifier.fit(np.array(X3_train), np.array(y3_train))\n",
    "    values = classifier.predict_proba(np.array(X3_test))\n",
    "    \n",
    "    correct = 0\n",
    "    counter = 0\n",
    "    for k in range(0,y3_test.size):\n",
    "        if np.amax(values[k]) == values[k][int(y3_test.iloc[k])]:\n",
    "            correct += 1\n",
    "        counter += 1\n",
    "        \n",
    "    scores[i] = correct/counter\n",
    "    print(scores[i])\n",
    "    \n",
    "print('Accuracy: ', np.array(scores).mean(), ' +/- ', np.array(scores).std())"
   ]
  },
  {
   "cell_type": "code",
   "execution_count": 39,
   "metadata": {},
   "outputs": [
    {
     "data": {
      "image/png": "[encoded data removed]",
      "text/plain": [
       "<Figure size 432x288 with 1 Axes>"
      ]
     },
     "metadata": {
      "needs_background": "light"
     },
     "output_type": "display_data"
    },
    {
     "data": {
      "image/png": "[encoded data removed]",
      "text/plain": [
       "<Figure size 432x288 with 1 Axes>"
      ]
     },
     "metadata": {
      "needs_background": "light"
     },
     "output_type": "display_data"
    },
    {
     "data": {
      "image/png": "[encoded data removed]",
      "text/plain": [
       "<Figure size 432x288 with 1 Axes>"
      ]
     },
     "metadata": {
      "needs_background": "light"
     },
     "output_type": "display_data"
    },
    {
     "data": {
      "image/png": "[encoded data removed]",
      "text/plain": [
       "<Figure size 432x288 with 1 Axes>"
      ]
     },
     "metadata": {
      "needs_background": "light"
     },
     "output_type": "display_data"
    },
    {
     "data": {
      "image/png": "[encoded data removed]",
      "text/plain": [
       "<Figure size 432x288 with 1 Axes>"
      ]
     },
     "metadata": {
      "needs_background": "light"
     },
     "output_type": "display_data"
    },
    {
     "data": {
      "image/png": "[encoded data removed]",
      "text/plain": [
       "<Figure size 432x288 with 1 Axes>"
      ]
     },
     "metadata": {
      "needs_background": "light"
     },
     "output_type": "display_data"
    },
    {
     "data": {
      "image/png": "[encoded data removed]",
      "text/plain": [
       "<Figure size 432x288 with 1 Axes>"
      ]
     },
     "metadata": {
      "needs_background": "light"
     },
     "output_type": "display_data"
    },
    {
     "data": {
      "image/png": "[encoded data removed]",
      "text/plain": [
       "<Figure size 432x288 with 1 Axes>"
      ]
     },
     "metadata": {
      "needs_background": "light"
     },
     "output_type": "display_data"
    },
    {
     "data": {
      "image/png": "[encoded data removed]",
      "text/plain": [
       "<Figure size 432x288 with 1 Axes>"
      ]
     },
     "metadata": {
      "needs_background": "light"
     },
     "output_type": "display_data"
    },
    {
     "data": {
      "image/png": "[encoded data removed]",
      "text/plain": [
       "<Figure size 432x288 with 1 Axes>"
      ]
     },
     "metadata": {
      "needs_background": "light"
     },
     "output_type": "display_data"
    }
   ],
   "source": [
    "values3 = classifier.predict_proba(np.array(X3_Testing))\n",
    "data3 = pd.DataFrame(data=values3)\n",
    "data3['Y'] = y3_Testing.authorship.to_frame().reset_index().drop(columns=['index'])\n",
    "data3.to_csv('92_split3_results.csv', index=False)\n",
    "\n",
    "for l in range(0,10):\n",
    "    probs = [0,0,0,0,0,0,0,0,0,0]\n",
    "    count = 0\n",
    "\n",
    "    for i,row in data3.iterrows():\n",
    "        if(row['Y'] == l):\n",
    "            count += 1\n",
    "            for k in range(0,10):\n",
    "                probs[k] += row[k]\n",
    "            count += 1\n",
    "\n",
    "    for k in range(0,10):\n",
    "        probs[k] = probs[k]/count\n",
    "\n",
    "    objects = ('1','2','3','4','5','6','7','8','9','10')\n",
    "    y_pos = np.arange(len(objects))\n",
    "    performance = probs\n",
    "\n",
    "    plt.bar(y_pos, performance, align='center', alpha=0.5)\n",
    "    plt.xticks(y_pos, objects)\n",
    "    plt.title('Probability distribution')\n",
    "\n",
    "    plt.show()"
   ]
  },
  {
   "cell_type": "code",
   "execution_count": 40,
   "metadata": {},
   "outputs": [
    {
     "data": {
      "image/png": "[encoded data removed]",
      "text/plain": [
       "<Figure size 432x288 with 1 Axes>"
      ]
     },
     "metadata": {
      "needs_background": "light"
     },
     "output_type": "display_data"
    },
    {
     "name": "stdout",
     "output_type": "stream",
     "text": [
      "[9, 17, 21, 21, 19, 24, 7, 41, 17, 24]\n"
     ]
    }
   ],
   "source": [
    "wrongPredictions = [0,0,0,0,0,0,0,0,0,0]\n",
    "\n",
    "for i,row in data3.iterrows():\n",
    "    if row[int(row['Y'])] != np.amax(row[:10]):\n",
    "        wrongPredictions[(int(row['Y']))] += 1\n",
    "        #print(i)\n",
    "        \n",
    "objects = ('1','2','3','4','5','6','7','8','9','10')\n",
    "y_pos = np.arange(len(objects))\n",
    "performance = wrongPredictions\n",
    "\n",
    "plt.bar(y_pos, performance, align='center', alpha=0.5)\n",
    "plt.xticks(y_pos, objects)\n",
    "plt.show()\n",
    "\n",
    "print(wrongPredictions)"
   ]
  },
  {
   "cell_type": "code",
   "execution_count": 41,
   "metadata": {},
   "outputs": [
    {
     "data": {
      "image/png": "[encoded data removed]",
      "text/plain": [
       "<Figure size 432x288 with 1 Axes>"
      ]
     },
     "metadata": {
      "needs_background": "light"
     },
     "output_type": "display_data"
    }
   ],
   "source": [
    "objects = ('1','2','3','4','5','6','7','8','9','10')\n",
    "y_pos = np.arange(len(objects))\n",
    "performance = values3[233]\n",
    "\n",
    "plt.bar(y_pos, performance, align='center', alpha=0.5)\n",
    "plt.xticks(y_pos, objects)\n",
    "plt.title('Probability distribution')\n",
    "\n",
    "plt.show()"
   ]
  },
  {
   "cell_type": "code",
   "execution_count": null,
   "metadata": {},
   "outputs": [],
   "source": []
  },
  {
   "cell_type": "code",
   "execution_count": null,
   "metadata": {},
   "outputs": [],
   "source": []
  },
  {
   "cell_type": "code",
   "execution_count": null,
   "metadata": {},
   "outputs": [],
   "source": []
  }
 ],
 "metadata": {
  "kernelspec": {
   "display_name": "Python 3",
   "language": "python",
   "name": "python3"
  },
  "language_info": {
   "codemirror_mode": {
    "name": "ipython",
    "version": 3
   },
   "file_extension": ".py",
   "mimetype": "text/x-python",
   "name": "python",
   "nbconvert_exporter": "python",
   "pygments_lexer": "ipython3",
   "version": "3.7.6"
  }
 },
 "nbformat": 4,
 "nbformat_minor": 4
}
