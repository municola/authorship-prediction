{
 "cells": [
  {
   "cell_type": "code",
   "execution_count": 1,
   "metadata": {},
   "outputs": [],
   "source": [
    "import pandas as pd\n",
    "import matplotlib.pyplot as plt\n",
    "import re\n",
    "import nltk\n",
    "from sklearn.feature_extraction.text import CountVectorizer\n",
    "from sklearn.model_selection import train_test_split\n",
    "from sklearn import svm\n",
    "import numpy as np\n",
    "from sklearn.ensemble import RandomForestClassifier"
   ]
  },
  {
   "cell_type": "code",
   "execution_count": 2,
   "metadata": {},
   "outputs": [
    {
     "data": {
      "text/plain": [
       "PER CURIAM    1876\n",
       "SLOVITER      1638\n",
       "BUFFINGTON    1336\n",
       "RENDELL       1150\n",
       "BECKER        1051\n",
       "AMBRO         1029\n",
       "ROTH           974\n",
       "SCIRICA        961\n",
       "SMITH          911\n",
       "GREENBERG      898\n",
       "NYGAARD        893\n",
       "STAPLETON      881\n",
       "ALDISERT       874\n",
       "WEIS           873\n",
       "GIBBONS        856\n",
       "FISHER         856\n",
       "BIGGS          850\n",
       "FUENTES        807\n",
       "GARTH          757\n",
       "SEITZ          714\n",
       "ROSENN         709\n",
       "WOOLLEY        704\n",
       "McKEE          698\n",
       "BARRY          678\n",
       "COWEN          647\n",
       "CHAGARES       637\n",
       "McPHERSON      627\n",
       "JORDAN         626\n",
       "ADAMS          622\n",
       "HARDIMAN       579\n",
       "Name: authorship, dtype: int64"
      ]
     },
     "execution_count": 2,
     "metadata": {},
     "output_type": "execute_result"
    }
   ],
   "source": [
    "df = pd.read_csv(\"ca87.csv.gz\",compression='gzip')\n",
    "df.authorship.value_counts().head(30)"
   ]
  },
  {
   "cell_type": "code",
   "execution_count": 3,
   "metadata": {},
   "outputs": [
    {
     "data": {
      "text/html": [
       "<div>\n",
       "<style scoped>\n",
       "    .dataframe tbody tr th:only-of-type {\n",
       "        vertical-align: middle;\n",
       "    }\n",
       "\n",
       "    .dataframe tbody tr th {\n",
       "        vertical-align: top;\n",
       "    }\n",
       "\n",
       "    .dataframe thead th {\n",
       "        text-align: right;\n",
       "    }\n",
       "</style>\n",
       "<table border=\"1\" class=\"dataframe\">\n",
       "  <thead>\n",
       "    <tr style=\"text-align: right;\">\n",
       "      <th></th>\n",
       "      <th>dc_identifier</th>\n",
       "      <th>opinion</th>\n",
       "      <th>authorship</th>\n",
       "      <th>date_standard</th>\n",
       "    </tr>\n",
       "  </thead>\n",
       "  <tbody>\n",
       "    <tr>\n",
       "      <th>46</th>\n",
       "      <td>4G4V-YKC0-0038-X09M-00000-00</td>\n",
       "      <td>SLOVITER, Circuit Judge.\\n\\nMaria Jaramillo, 1...</td>\n",
       "      <td>SLOVITER</td>\n",
       "      <td>2005</td>\n",
       "    </tr>\n",
       "    <tr>\n",
       "      <th>63</th>\n",
       "      <td>4HV6-G5N0-0038-X07F-00000-00</td>\n",
       "      <td>SLOVITER, Circuit Judge.\\n\\n515 Associates, LL...</td>\n",
       "      <td>SLOVITER</td>\n",
       "      <td>2005</td>\n",
       "    </tr>\n",
       "    <tr>\n",
       "      <th>71</th>\n",
       "      <td>4HW2-BX30-0038-X0HP-00000-00</td>\n",
       "      <td>SLOVITER, Circuit Judge\\n\\nOn October 31, 2002...</td>\n",
       "      <td>SLOVITER</td>\n",
       "      <td>2005</td>\n",
       "    </tr>\n",
       "    <tr>\n",
       "      <th>78</th>\n",
       "      <td>454N-7MS0-0038-X433-00000-00</td>\n",
       "      <td>OPINION OF THE COURT\\n\\nSLOVITER, Circuit Judg...</td>\n",
       "      <td>SLOVITER</td>\n",
       "      <td>2002</td>\n",
       "    </tr>\n",
       "    <tr>\n",
       "      <th>90</th>\n",
       "      <td>57H2-KW31-F04K-K31P-00000-00</td>\n",
       "      <td>SLOVITER, Circuit Judge.\\n\\nPatricia Catullo a...</td>\n",
       "      <td>SLOVITER</td>\n",
       "      <td>2013</td>\n",
       "    </tr>\n",
       "    <tr>\n",
       "      <th>...</th>\n",
       "      <td>...</td>\n",
       "      <td>...</td>\n",
       "      <td>...</td>\n",
       "      <td>...</td>\n",
       "    </tr>\n",
       "    <tr>\n",
       "      <th>43115</th>\n",
       "      <td>7X7M-64K0-YB0V-F037-00000-00</td>\n",
       "      <td>OPINION OF THE COURT\\n\\nHARDIMAN, Circuit Judg...</td>\n",
       "      <td>HARDIMAN</td>\n",
       "      <td>2009</td>\n",
       "    </tr>\n",
       "    <tr>\n",
       "      <th>43178</th>\n",
       "      <td>58NW-DKV1-F04K-K002-00000-00</td>\n",
       "      <td>OPINION OF THE COURT\\n\\nHARDIMAN, Circuit Judg...</td>\n",
       "      <td>HARDIMAN</td>\n",
       "      <td>2013</td>\n",
       "    </tr>\n",
       "    <tr>\n",
       "      <th>49265</th>\n",
       "      <td>5KC6-5461-F04K-K1TX-00000-00</td>\n",
       "      <td>HARDIMAN, Circuit Judge, with whom AMBRO, FUEN...</td>\n",
       "      <td>HARDIMAN</td>\n",
       "      <td>2016</td>\n",
       "    </tr>\n",
       "    <tr>\n",
       "      <th>51929</th>\n",
       "      <td>5918-4N01-F04K-K026-00000-00</td>\n",
       "      <td>HARDIMAN, Circuit Judge, dissenting.\\n\\nThe Se...</td>\n",
       "      <td>HARDIMAN</td>\n",
       "      <td>2013</td>\n",
       "    </tr>\n",
       "    <tr>\n",
       "      <th>52068</th>\n",
       "      <td>4TN5-5280-TX4N-G049-00000-00</td>\n",
       "      <td>OPINION OF THE COURT\\n\\nHARDIMAN, Circuit Judg...</td>\n",
       "      <td>HARDIMAN</td>\n",
       "      <td>2008</td>\n",
       "    </tr>\n",
       "  </tbody>\n",
       "</table>\n",
       "<p>23754 rows × 4 columns</p>\n",
       "</div>"
      ],
      "text/plain": [
       "                      dc_identifier  \\\n",
       "46     4G4V-YKC0-0038-X09M-00000-00   \n",
       "63     4HV6-G5N0-0038-X07F-00000-00   \n",
       "71     4HW2-BX30-0038-X0HP-00000-00   \n",
       "78     454N-7MS0-0038-X433-00000-00   \n",
       "90     57H2-KW31-F04K-K31P-00000-00   \n",
       "...                             ...   \n",
       "43115  7X7M-64K0-YB0V-F037-00000-00   \n",
       "43178  58NW-DKV1-F04K-K002-00000-00   \n",
       "49265  5KC6-5461-F04K-K1TX-00000-00   \n",
       "51929  5918-4N01-F04K-K026-00000-00   \n",
       "52068  4TN5-5280-TX4N-G049-00000-00   \n",
       "\n",
       "                                                 opinion authorship  \\\n",
       "46     SLOVITER, Circuit Judge.\\n\\nMaria Jaramillo, 1...   SLOVITER   \n",
       "63     SLOVITER, Circuit Judge.\\n\\n515 Associates, LL...   SLOVITER   \n",
       "71     SLOVITER, Circuit Judge\\n\\nOn October 31, 2002...   SLOVITER   \n",
       "78     OPINION OF THE COURT\\n\\nSLOVITER, Circuit Judg...   SLOVITER   \n",
       "90     SLOVITER, Circuit Judge.\\n\\nPatricia Catullo a...   SLOVITER   \n",
       "...                                                  ...        ...   \n",
       "43115  OPINION OF THE COURT\\n\\nHARDIMAN, Circuit Judg...   HARDIMAN   \n",
       "43178  OPINION OF THE COURT\\n\\nHARDIMAN, Circuit Judg...   HARDIMAN   \n",
       "49265  HARDIMAN, Circuit Judge, with whom AMBRO, FUEN...   HARDIMAN   \n",
       "51929  HARDIMAN, Circuit Judge, dissenting.\\n\\nThe Se...   HARDIMAN   \n",
       "52068  OPINION OF THE COURT\\n\\nHARDIMAN, Circuit Judg...   HARDIMAN   \n",
       "\n",
       "       date_standard  \n",
       "46              2005  \n",
       "63              2005  \n",
       "71              2005  \n",
       "78              2002  \n",
       "90              2013  \n",
       "...              ...  \n",
       "43115           2009  \n",
       "43178           2013  \n",
       "49265           2016  \n",
       "51929           2013  \n",
       "52068           2008  \n",
       "\n",
       "[23754 rows x 4 columns]"
      ]
     },
     "execution_count": 3,
     "metadata": {},
     "output_type": "execute_result"
    }
   ],
   "source": [
    "df.authorship = df.authorship.str.upper()\n",
    "names = []\n",
    "for i in df.authorship.value_counts().head(100).index:\n",
    "    if i != 'PER CURIAM':\n",
    "        names.append(i)\n",
    "copy = pd.DataFrame()\n",
    "temp = df[df.word_count > 50]\n",
    "for name in names:\n",
    "    copy = copy.append(temp[temp.authorship == name])\n",
    "copy.date_standard = copy.date_standard.str[:4]\n",
    "copy.date_standard = copy.date_standard.astype(int)\n",
    "copy = copy.drop(columns=['opinion_type','opinion_id','word_count','authors','dc_source','judges_refined'])\n",
    "copy"
   ]
  },
  {
   "cell_type": "code",
   "execution_count": 4,
   "metadata": {},
   "outputs": [
    {
     "data": {
      "text/plain": [
       "<matplotlib.axes._subplots.AxesSubplot at 0x1e82c05e7c8>"
      ]
     },
     "execution_count": 4,
     "metadata": {},
     "output_type": "execute_result"
    },
    {
     "data": {
      "image/png": "[encoded data removed]",
      "text/plain": [
       "<Figure size 432x288 with 1 Axes>"
      ]
     },
     "metadata": {
      "needs_background": "light"
     },
     "output_type": "display_data"
    }
   ],
   "source": [
    "copy[copy.authorship == names[0]].date_standard.value_counts().sort_index().plot(kind='bar')"
   ]
  },
  {
   "cell_type": "code",
   "execution_count": 5,
   "metadata": {},
   "outputs": [],
   "source": [
    "copy.opinion = copy.opinion.str.replace('Senior Circuit Judge','')\n",
    "copy.opinion = copy.opinion.str.replace('Senior Circuit Judge'.upper(),'')\n",
    "copy.opinion = copy.opinion.str.replace('Senior District Judge','')\n",
    "copy.opinion = copy.opinion.str.replace('Senior District Judge'.upper(),'')\n",
    "copy.opinion = copy.opinion.str.replace('Circuit Judges','')\n",
    "copy.opinion = copy.opinion.str.replace('CIRCUIT JUDGES','')\n",
    "copy.opinion = copy.opinion.str.replace('District Judges','')\n",
    "copy.opinion = copy.opinion.str.replace('District Judges'.upper(),'')\n",
    "copy.opinion = copy.opinion.str.replace('District Judge','')\n",
    "copy.opinion = copy.opinion.str.replace('District Judge'.upper(),'')\n",
    "copy.opinion = copy.opinion.str.replace('Circuit Judge','')\n",
    "copy.opinion = copy.opinion.str.replace('CIRCUIT JUDGE','')\n",
    "copy.opinion = copy.opinion.str.replace('Circuit Justice','')\n",
    "copy.opinion = copy.opinion.str.replace('Circuit Justice'.upper(),'')\n",
    "copy.opinion = copy.opinion.str.replace('D\\.J\\.','')\n",
    "copy.opinion = copy.opinion.str.replace('D\\. J\\.','')\n",
    "copy.opinion = copy.opinion.str.replace('C\\.J\\.','')\n",
    "copy.opinion = copy.opinion.str.replace('C\\. J\\.','')\n",
    "copy.opinion = copy.opinion.str.replace('Senior Judge','')\n",
    "copy.opinion = copy.opinion.str.replace('Senior Judge'.upper(),'')\n",
    "copy.opinion = copy.opinion.str.replace('Associate Justice','')\n",
    "copy.opinion = copy.opinion.str.replace('Associate Justice'.upper(),'')\n",
    "copy.opinion = copy.opinion.str.replace('Chief Judge','')\n",
    "copy.opinion = copy.opinion.str.replace('Chief Judge'.upper(),'')\n",
    "copy.opinion = copy.opinion.str.replace('Judge','')\n",
    "copy.opinion = copy.opinion.str.replace('Judge'.upper(),'')\n",
    "\n",
    "for name in names:\n",
    "    copy.opinion = copy.opinion.str.replace(name.upper(),'')\n",
    "    copy.opinion = copy.opinion.str.replace(name,'')\n",
    "    copy.opinion = copy.opinion.str.replace(name[:1].upper()+name[1:].lower(),'')\n",
    "\n",
    "copy.opinion = copy.opinion.str.replace('McKEE',' ')\n",
    "copy.opinion = copy.opinion.str.replace('McKee',' ')\n",
    "copy.opinion = copy.opinion.str.replace('McPherson',' ')\n",
    "copy.opinion = copy.opinion.str.replace('McPHERSON',' ')\n",
    "copy.opinion = copy.opinion.str.replace('J\\.',' ')\n",
    "copy.opinion = copy.opinion.str.replace('\\n',' ')"
   ]
  },
  {
   "cell_type": "code",
   "execution_count": 6,
   "metadata": {},
   "outputs": [],
   "source": [
    "copy.opinion = copy.opinion.str.replace('\\\\\\'','')\n",
    "copy.opinion = copy.opinion.str.replace('(','')\n",
    "copy.opinion = copy.opinion.str.replace(')','')\n",
    "copy.opinion = copy.opinion.apply(lambda x: re.sub(r\"\\s\\w\\.\", \"\", x))\n",
    "copy.opinion = copy.opinion.apply(lambda x: re.sub(r\"\\s\\.\\s\", \" \", x))\n",
    "copy.opinion = copy.opinion.apply(lambda x: re.sub(r\"\\s\\.\\s\", \" \", x))\n",
    "copy.opinion = copy.opinion.apply(lambda x: re.sub(r\"\\s\\,\", \",\", x))\n",
    "copy.opinion = copy.opinion.apply(lambda x: re.sub(r\"\\d+\", \"\", x))\n",
    "copy.opinion = copy.opinion.apply(lambda x: re.sub(r\"-\", \"\", x))\n",
    "copy.opinion = copy.opinion.str.replace('S\\.C\\.','')\n",
    "copy.opinion = copy.opinion.str.replace('Ct\\.','Ct')\n",
    "copy.opinion = copy.opinion.str.replace('Ed\\.','Ed')\n",
    "copy.opinion = copy.opinion.str.replace('Dec\\.','Dec')\n",
    "copy.opinion = copy.opinion.str.replace(' No\\.',' No')\n",
    "copy.opinion = copy.opinion.str.replace(' pt\\.',' pt')\n",
    "copy.opinion = copy.opinion.str.replace(' Rep\\.',' Rep')\n",
    "copy.opinion = copy.opinion.str.replace(' Tr\\.',' Tr')\n",
    "copy.opinion = copy.opinion.str.replace(' Arg\\.',' Arg')\n",
    "copy.opinion = copy.opinion.str.replace(' Nev\\.',' Nev')\n",
    "copy.opinion = copy.opinion.str.replace(' Rev\\.',' Rev')\n",
    "copy.opinion = copy.opinion.str.replace(' Stat\\.',' Stat')\n",
    "copy.opinion = copy.opinion.str.replace(' Cent\\.',' Cent')\n",
    "copy.opinion = copy.opinion.str.replace(' Ore\\.',' Ore')\n",
    "copy.opinion = copy.opinion.str.replace(' Co\\.',' Co')\n",
    "copy.opinion = copy.opinion.str.replace(' Ins\\.',' Ins')\n",
    "copy.opinion = copy.opinion.str.replace('S\\.','')\n",
    "copy.opinion = copy.opinion.str.replace('Cf\\.','Cf')\n",
    "copy.opinion = copy.opinion.str.replace('Id\\.','Id')\n",
    "copy.opinion = copy.opinion.str.replace(' ,',',')\n",
    "copy.opinion = copy.opinion.str.replace(' \\.','.')\n",
    "copy.opinion = copy.opinion.str.replace('§','')\n",
    "copy.opinion = copy.opinion.str.replace('$','')\n",
    "copy.opinion = copy.opinion.str.replace('\\.\\.','.')\n",
    "copy.opinion = copy.opinion.str.replace('\\.\\.','.')\n",
    "copy.opinion = copy.opinion.str.replace(',,',',')\n",
    "copy.opinion = copy.opinion.str.replace(',,',',')\n",
    "copy.opinion = copy.opinion.str.replace(',\\.',',')\n",
    "copy.opinion = copy.opinion.str.replace('\"',' ')\n",
    "copy.opinion = copy.opinion.str.replace('II','')\n",
    "copy.opinion = copy.opinion.str.replace('III','')\n",
    "copy.opinion = copy.opinion.str.replace('  ',' ')"
   ]
  },
  {
   "cell_type": "code",
   "execution_count": 7,
   "metadata": {},
   "outputs": [
    {
     "name": "stdout",
     "output_type": "stream",
     "text": [
      "SLOVITER\n",
      "\n",
      ", Maria Jaramillo, Although the dockets in the Social Security Administration, District Court and this court spell appellants name as Jaramilla, the underlying record shows her name as Jaramillo and w\n",
      "\n",
      "\n",
      ",  Associates, LLC  Associates appeals from the order of the District Court granting summary judgment in favor of defendant Travelers Indemnity Company Travelers . The District Court had jurisdiction \n",
      "\n",
      "\n",
      ",  On October, Marisela Vallejo DeMurillo, pursuant to a plea agreement, entered a plea of guilty to a two count information charging her with conspiring to distribute and possess with the intent to d\n",
      "\n",
      "\n",
      "OPINION OF THE COURT, The petitioner, Sultan Chemists, Inc. Sultan , has filed a petition for review of the final decision of the Environmental Appeals Board EAB of the Environmental Protection Agency\n",
      "\n",
      "\n",
      ", Patricia Catullo appeals the District Courts grant of summary judgment in favor of her former employer, Liberty Mutual Group, Inc. and Liberty Mutual Insurance Company, Inc. collectively Liberty Mut\n",
      "\n",
      "\n",
      ", Lynell Pigford was convicted by a jury of manufacturing counterfeit United States currency in violation of  and was sentenced to months imprisonment. Pigford appeals, contending that the District Co\n",
      "\n",
      "\n",
      ", Under Section a of the Employee Retirement Income Security Act of  ERISA ,  a, an employer has an obligation to maintain records sufficient to determine the benefits due or which may become due to e\n",
      "\n",
      "\n",
      "OPINION OF THE COURT ,  Appellant, Sylvia Averbach, brought this suit alleging that appellee, Rival Manufacturing Company, had committed common law fraud in filing false answers to interrogatories in \n",
      "\n",
      "\n",
      ", dissenting.   I concur in the majoritys conclusion reached in Part that the district court erred in asserting jurisdiction on the basis of Meyers contacts with the United States as a whole. I am una\n",
      "\n",
      "\n",
      "OPINION OF THE COURT,  This is an interlocutory appeal from an order of the District Court of the Virgin Islands denying defendants motion to dismiss a complaint seeking damages for termination of pla\n",
      "\n",
      "\n"
     ]
    }
   ],
   "source": [
    "# Prints the first 200 characters of the first 10 cleaned opinion texts of a given judge.\n",
    "judge = 0\n",
    "print(names[judge]+'\\n')\n",
    "for x in range(10):\n",
    "    print(copy.opinion[copy.loc[copy.authorship==names[judge]].index[x]][:200]+'\\n\\n')"
   ]
  },
  {
   "cell_type": "code",
   "execution_count": 8,
   "metadata": {
    "scrolled": true
   },
   "outputs": [
    {
     "name": "stdout",
     "output_type": "stream",
     "text": [
      "totalNum = 17820\n",
      "(3699, 4)\n",
      "(5817, 4)\n",
      "(8304, 4)\n"
     ]
    },
    {
     "name": "stderr",
     "output_type": "stream",
     "text": [
      "c:\\program files\\python37\\lib\\site-packages\\ipykernel_launcher.py:9: UserWarning: Boolean Series key will be reindexed to match DataFrame index.\n",
      "  if __name__ == '__main__':\n",
      "c:\\program files\\python37\\lib\\site-packages\\ipykernel_launcher.py:11: UserWarning: Boolean Series key will be reindexed to match DataFrame index.\n",
      "  # This is added back by InteractiveShellApp.init_path()\n",
      "c:\\program files\\python37\\lib\\site-packages\\ipykernel_launcher.py:57: UserWarning: Boolean Series key will be reindexed to match DataFrame index.\n",
      "c:\\program files\\python37\\lib\\site-packages\\ipykernel_launcher.py:59: UserWarning: Boolean Series key will be reindexed to match DataFrame index.\n"
     ]
    },
    {
     "name": "stdout",
     "output_type": "stream",
     "text": [
      "(5957, 4)\n",
      "(5248, 4)\n",
      "(6200, 4)\n",
      "top = 2007 bot = 1983\n",
      "totalNum = 17405\n",
      "(5957, 4)\n",
      "(5248, 4)\n",
      "(6200, 4)\n",
      "(5802, 4)\n",
      "(5362, 4)\n",
      "(6200, 4)\n",
      "top = 2007 bot = 1982\n",
      "totalNum = 17364\n",
      "(5802, 4)\n",
      "(5362, 4)\n",
      "(6200, 4)\n",
      "(5802, 4)\n",
      "(5362, 4)\n",
      "(6200, 4)\n",
      "top = 2007 bot = 1982\n"
     ]
    }
   ],
   "source": [
    "#get rough estimate for total number of top 10 authors in all 3 splits\n",
    "top = 2000\n",
    "bot = 1970\n",
    "split1 = pd.DataFrame()\n",
    "for x in copy[copy.date_standard<=bot].authorship.value_counts().head(10).index:\n",
    "    temp = copy[copy.authorship == x]\n",
    "    split1 = split1.append(temp[temp.date_standard<=bot])\n",
    "split2 = pd.DataFrame()\n",
    "for x in copy[copy.date_standard<top][copy.date_standard>bot].authorship.value_counts().head(10).index:\n",
    "    temp = copy[copy.authorship == x]\n",
    "    split2 = split2.append(temp[temp.date_standard<top][temp.date_standard>bot])\n",
    "split3 = pd.DataFrame()\n",
    "for x in copy[copy.date_standard>=top].authorship.value_counts().head(10).index:\n",
    "    temp = copy[copy.authorship == x]\n",
    "    split3 = split3.append(temp[temp.date_standard>=top])\n",
    "\n",
    "for i in range(3):\n",
    "    totalNum = split1.shape[0]+split2.shape[0]+split3.shape[0]\n",
    "    print('totalNum = '+str(totalNum))\n",
    "    print(split1.shape)\n",
    "    print(split2.shape)\n",
    "    print(split3.shape)    \n",
    "\n",
    "    #initialize the splits so we can iterate over them\n",
    "    top = 2020\n",
    "    bot = 1800\n",
    "    split1 = pd.DataFrame()\n",
    "    for x in copy[copy.date_standard<=bot].authorship.value_counts().head(10).index:\n",
    "        temp = copy[copy.authorship == x]\n",
    "        split1 = split1.append(temp[temp.date_standard<=bot])\n",
    "    split2 = pd.DataFrame()\n",
    "    for x in copy[copy.date_standard<top][copy.date_standard>bot].authorship.value_counts().head(10).index:\n",
    "        temp = copy[copy.authorship == x]\n",
    "        split2 = split2.append(temp[temp.date_standard<top][temp.date_standard>bot])\n",
    "    split3 = pd.DataFrame()\n",
    "    for x in copy[copy.date_standard>=top].authorship.value_counts().head(10).index:\n",
    "        temp = copy[copy.authorship == x]\n",
    "        split3 = split3.append(temp[temp.date_standard>=top])\n",
    "    \n",
    "    \n",
    "    \n",
    "    \n",
    "    #loop to iterate \n",
    "    while split1.shape[0] < totalNum/3:\n",
    "        bot += 1\n",
    "        split1 = pd.DataFrame()\n",
    "        for x in copy[copy.date_standard<=bot].authorship.value_counts().head(10).index:\n",
    "            temp = copy[copy.authorship == x]\n",
    "            split1 = split1.append(temp[temp.date_standard<=bot])    \n",
    "    while split3.shape[0] < totalNum/3:\n",
    "        top -= 1\n",
    "        split3 = pd.DataFrame()\n",
    "        for x in copy[copy.date_standard>=top].authorship.value_counts().head(10).index:\n",
    "            temp = copy[copy.authorship == x]\n",
    "            split3 = split3.append(temp[temp.date_standard>=top])\n",
    "    split2 = pd.DataFrame()\n",
    "    for x in copy[copy.date_standard<top][copy.date_standard>bot].authorship.value_counts().head(10).index:\n",
    "        temp = copy[copy.authorship == x]\n",
    "        split2 = split2.append(temp[temp.date_standard<top][temp.date_standard>bot])\n",
    "    \n",
    "\n",
    "    print(split1.shape)\n",
    "    print(split2.shape)\n",
    "    print(split3.shape)\n",
    "    print('top = '+str(top)+' bot = '+str(bot))"
   ]
  },
  {
   "cell_type": "markdown",
   "metadata": {},
   "source": [
    "# Bag of Words approach"
   ]
  },
  {
   "cell_type": "markdown",
   "metadata": {},
   "source": [
    "## Split 1"
   ]
  },
  {
   "cell_type": "code",
   "execution_count": 9,
   "metadata": {},
   "outputs": [
    {
     "data": {
      "text/plain": [
       "BUFFINGTON    1329\n",
       "BIGGS          843\n",
       "WOOLLEY        703\n",
       "MCPHERSON      628\n",
       "GIBBONS        513\n",
       "ADAMS          454\n",
       "SEITZ          382\n",
       "ALDISERT       372\n",
       "ROSENN         330\n",
       "GARTH          248\n",
       "Name: authorship, dtype: int64"
      ]
     },
     "execution_count": 9,
     "metadata": {},
     "output_type": "execute_result"
    }
   ],
   "source": [
    "split1.authorship.value_counts()"
   ]
  },
  {
   "cell_type": "code",
   "execution_count": 10,
   "metadata": {},
   "outputs": [
    {
     "name": "stdout",
     "output_type": "stream",
     "text": [
      "Number of Datapoints:  5802\n"
     ]
    }
   ],
   "source": [
    "print('Number of Datapoints: ', split1.shape[0])"
   ]
  },
  {
   "cell_type": "code",
   "execution_count": 11,
   "metadata": {},
   "outputs": [],
   "source": [
    "split1names = split1.authorship.unique()\n",
    "\n",
    "for index, name in enumerate(split1names):\n",
    "    split1.authorship = split1.authorship.str.replace(name, str(index))\n",
    "split1.authorship = split1.authorship.astype(int)"
   ]
  },
  {
   "cell_type": "code",
   "execution_count": 12,
   "metadata": {},
   "outputs": [],
   "source": [
    "vectorizer1 = CountVectorizer(lowercase=False, ngram_range=(1,3), min_df=30, max_features=3000)\n",
    "bowM1 = vectorizer1.fit_transform(split1.opinion)\n",
    "#print(bowM1.toarray().shape)\n",
    "#print(vectorizer1.get_feature_names())"
   ]
  },
  {
   "cell_type": "code",
   "execution_count": 13,
   "metadata": {},
   "outputs": [],
   "source": [
    "X1 = pd.DataFrame.sparse.from_spmatrix(bowM1)\n",
    "X1 = X1.sparse.to_dense()"
   ]
  },
  {
   "cell_type": "code",
   "execution_count": 14,
   "metadata": {},
   "outputs": [],
   "source": [
    "for x in range(0,len(X1.columns)):\n",
    "    mean = X1.iloc[:,x].mean()\n",
    "    std = X1.iloc[:,x].std()\n",
    "    X1.iloc[:,x] = (X1.iloc[:,x] - mean)/std"
   ]
  },
  {
   "cell_type": "code",
   "execution_count": 15,
   "metadata": {},
   "outputs": [],
   "source": [
    "Y1 = split1.authorship.to_frame().reset_index().drop(columns=['index'])\n",
    "\n",
    "X1_Training, X1_Testing, y1_Training, y1_Testing = train_test_split(X1, Y1, test_size=0.2, random_state=1234)"
   ]
  },
  {
   "cell_type": "code",
   "execution_count": 16,
   "metadata": {},
   "outputs": [
    {
     "name": "stderr",
     "output_type": "stream",
     "text": [
      "c:\\program files\\python37\\lib\\site-packages\\sklearn\\utils\\validation.py:73: DataConversionWarning: A column-vector y was passed when a 1d array was expected. Please change the shape of y to (n_samples, ), for example using ravel().\n",
      "  return f(**kwargs)\n"
     ]
    },
    {
     "name": "stdout",
     "output_type": "stream",
     "text": [
      "[LibSVM]0.83745963401507\n"
     ]
    },
    {
     "name": "stderr",
     "output_type": "stream",
     "text": [
      "c:\\program files\\python37\\lib\\site-packages\\sklearn\\utils\\validation.py:73: DataConversionWarning: A column-vector y was passed when a 1d array was expected. Please change the shape of y to (n_samples, ), for example using ravel().\n",
      "  return f(**kwargs)\n"
     ]
    },
    {
     "name": "stdout",
     "output_type": "stream",
     "text": [
      "[LibSVM]0.852529601722282\n"
     ]
    },
    {
     "name": "stderr",
     "output_type": "stream",
     "text": [
      "c:\\program files\\python37\\lib\\site-packages\\sklearn\\utils\\validation.py:73: DataConversionWarning: A column-vector y was passed when a 1d array was expected. Please change the shape of y to (n_samples, ), for example using ravel().\n",
      "  return f(**kwargs)\n"
     ]
    },
    {
     "name": "stdout",
     "output_type": "stream",
     "text": [
      "[LibSVM]0.8493003229278795\n"
     ]
    },
    {
     "name": "stderr",
     "output_type": "stream",
     "text": [
      "c:\\program files\\python37\\lib\\site-packages\\sklearn\\utils\\validation.py:73: DataConversionWarning: A column-vector y was passed when a 1d array was expected. Please change the shape of y to (n_samples, ), for example using ravel().\n",
      "  return f(**kwargs)\n"
     ]
    },
    {
     "name": "stdout",
     "output_type": "stream",
     "text": [
      "[LibSVM]0.8568353067814855\n"
     ]
    },
    {
     "name": "stderr",
     "output_type": "stream",
     "text": [
      "c:\\program files\\python37\\lib\\site-packages\\sklearn\\utils\\validation.py:73: DataConversionWarning: A column-vector y was passed when a 1d array was expected. Please change the shape of y to (n_samples, ), for example using ravel().\n",
      "  return f(**kwargs)\n"
     ]
    },
    {
     "name": "stdout",
     "output_type": "stream",
     "text": [
      "[LibSVM]0.8557588805166846\n",
      "Accuracy:  0.8503767491926804  +/-  0.006976039503130091\n"
     ]
    }
   ],
   "source": [
    "scores = [0,0,0,0,0]\n",
    "\n",
    "for i in range(0,5):\n",
    "    classifier = svm.SVC(kernel='poly',degree=1,C=1,class_weight='balanced', verbose=True, probability=True)\n",
    "\n",
    "    X1_train, X1_test, y1_train, y1_test = train_test_split(X1_Training, y1_Training, test_size=0.2, random_state=i)\n",
    "    classifier.fit(np.array(X1_train), np.array(y1_train))\n",
    "    values = classifier.predict_proba(np.array(X1_test))\n",
    "    \n",
    "    correct = 0\n",
    "    counter = 0\n",
    "    for k in range(0,y1_test.size):\n",
    "        if np.amax(values[k]) == values[k][int(y1_test.iloc[k])]:\n",
    "            correct += 1\n",
    "        counter += 1\n",
    "        \n",
    "    scores[i] = correct/counter\n",
    "    print(scores[i])\n",
    "    \n",
    "print('Accuracy: ', np.array(scores).mean(), ' +/- ', np.array(scores).std())"
   ]
  },
  {
   "cell_type": "code",
   "execution_count": 17,
   "metadata": {},
   "outputs": [
    {
     "data": {
      "image/png": "[encoded data removed]",
      "text/plain": [
       "<Figure size 432x288 with 1 Axes>"
      ]
     },
     "metadata": {
      "needs_background": "light"
     },
     "output_type": "display_data"
    },
    {
     "name": "stdout",
     "output_type": "stream",
     "text": [
      "Accuracy:  0.8466838931955211\n"
     ]
    },
    {
     "data": {
      "image/png": "[encoded data removed]",
      "text/plain": [
       "<Figure size 432x288 with 1 Axes>"
      ]
     },
     "metadata": {
      "needs_background": "light"
     },
     "output_type": "display_data"
    },
    {
     "name": "stdout",
     "output_type": "stream",
     "text": [
      "Accuracy:  0.8466838931955211\n"
     ]
    },
    {
     "data": {
      "image/png": "[encoded data removed]",
      "text/plain": [
       "<Figure size 432x288 with 1 Axes>"
      ]
     },
     "metadata": {
      "needs_background": "light"
     },
     "output_type": "display_data"
    },
    {
     "name": "stdout",
     "output_type": "stream",
     "text": [
      "Accuracy:  0.8466838931955211\n"
     ]
    },
    {
     "data": {
      "image/png": "[encoded data removed]",
      "text/plain": [
       "<Figure size 432x288 with 1 Axes>"
      ]
     },
     "metadata": {
      "needs_background": "light"
     },
     "output_type": "display_data"
    },
    {
     "name": "stdout",
     "output_type": "stream",
     "text": [
      "Accuracy:  0.8466838931955211\n"
     ]
    },
    {
     "data": {
      "image/png": "[encoded data removed]",
      "text/plain": [
       "<Figure size 432x288 with 1 Axes>"
      ]
     },
     "metadata": {
      "needs_background": "light"
     },
     "output_type": "display_data"
    },
    {
     "name": "stdout",
     "output_type": "stream",
     "text": [
      "Accuracy:  0.8466838931955211\n"
     ]
    },
    {
     "data": {
      "image/png": "[encoded data removed]",
      "text/plain": [
       "<Figure size 432x288 with 1 Axes>"
      ]
     },
     "metadata": {
      "needs_background": "light"
     },
     "output_type": "display_data"
    },
    {
     "name": "stdout",
     "output_type": "stream",
     "text": [
      "Accuracy:  0.8466838931955211\n"
     ]
    },
    {
     "data": {
      "image/png": "[encoded data removed]",
      "text/plain": [
       "<Figure size 432x288 with 1 Axes>"
      ]
     },
     "metadata": {
      "needs_background": "light"
     },
     "output_type": "display_data"
    },
    {
     "name": "stdout",
     "output_type": "stream",
     "text": [
      "Accuracy:  0.8466838931955211\n"
     ]
    },
    {
     "data": {
      "image/png": "[encoded data removed]",
      "text/plain": [
       "<Figure size 432x288 with 1 Axes>"
      ]
     },
     "metadata": {
      "needs_background": "light"
     },
     "output_type": "display_data"
    },
    {
     "name": "stdout",
     "output_type": "stream",
     "text": [
      "Accuracy:  0.8466838931955211\n"
     ]
    },
    {
     "data": {
      "image/png": "[encoded data removed]",
      "text/plain": [
       "<Figure size 432x288 with 1 Axes>"
      ]
     },
     "metadata": {
      "needs_background": "light"
     },
     "output_type": "display_data"
    },
    {
     "name": "stdout",
     "output_type": "stream",
     "text": [
      "Accuracy:  0.8466838931955211\n"
     ]
    },
    {
     "data": {
      "image/png": "[encoded data removed]",
      "text/plain": [
       "<Figure size 432x288 with 1 Axes>"
      ]
     },
     "metadata": {
      "needs_background": "light"
     },
     "output_type": "display_data"
    },
    {
     "name": "stdout",
     "output_type": "stream",
     "text": [
      "Accuracy:  0.8466838931955211\n"
     ]
    }
   ],
   "source": [
    "values1 = classifier.predict_proba(np.array(X1_Testing))\n",
    "data1 = pd.DataFrame(data=values1)\n",
    "data1['Y'] = y1_Testing.authorship.to_frame().reset_index().drop(columns=['index'])\n",
    "data1.to_csv('87_split1_results.csv', index=False)\n",
    "\n",
    "for l in range(0,10):\n",
    "    probs = [0,0,0,0,0,0,0,0,0,0]\n",
    "    count = 0\n",
    "\n",
    "    for i,row in data1.iterrows():\n",
    "        if(row['Y'] == l):\n",
    "            for k in range(0,10):\n",
    "                probs[k] += row[k]\n",
    "            count += 1\n",
    "    \n",
    "    for k in range(0,10):\n",
    "        probs[k] = probs[k]/count\n",
    "\n",
    "    objects = ('1','2','3','4','5','6','7','8','9','10')\n",
    "    y_pos = np.arange(len(objects))\n",
    "    performance = probs\n",
    "\n",
    "    plt.bar(y_pos, performance, align='center', alpha=0.5)\n",
    "    plt.xticks(y_pos, objects)\n",
    "    plt.title('Probability distribution')\n",
    "\n",
    "    plt.show()\n",
    "    \n",
    "    correct = 0\n",
    "    counter = 0\n",
    "    for k in range(0,y1_Testing.size):\n",
    "        if np.amax(values1[k]) == values1[k][int(y1_Testing.iloc[k])]:\n",
    "            correct += 1\n",
    "        counter += 1\n",
    "        \n",
    "    print('Accuracy: ',correct/counter)"
   ]
  },
  {
   "cell_type": "code",
   "execution_count": 18,
   "metadata": {},
   "outputs": [
    {
     "data": {
      "image/png": "[encoded data removed]",
      "text/plain": [
       "<Figure size 432x288 with 1 Axes>"
      ]
     },
     "metadata": {
      "needs_background": "light"
     },
     "output_type": "display_data"
    },
    {
     "name": "stdout",
     "output_type": "stream",
     "text": [
      "[13, 20, 9, 4, 15, 27, 22, 26, 29, 13]\n"
     ]
    }
   ],
   "source": [
    "wrongPredictions = [0,0,0,0,0,0,0,0,0,0]\n",
    "\n",
    "for i,row in data1.iterrows():\n",
    "    if row[int(row['Y'])] != np.amax(row[:10]):\n",
    "        wrongPredictions[(int(row['Y']))] += 1\n",
    "        #print(i)\n",
    "        \n",
    "objects = ('1','2','3','4','5','6','7','8','9','10')\n",
    "y_pos = np.arange(len(objects))\n",
    "performance = wrongPredictions\n",
    "\n",
    "plt.bar(y_pos, performance, align='center', alpha=0.5)\n",
    "plt.xticks(y_pos, objects)\n",
    "plt.show()\n",
    "\n",
    "print(wrongPredictions)"
   ]
  },
  {
   "cell_type": "code",
   "execution_count": 19,
   "metadata": {},
   "outputs": [
    {
     "data": {
      "image/png": "[encoded data removed]",
      "text/plain": [
       "<Figure size 432x288 with 1 Axes>"
      ]
     },
     "metadata": {
      "needs_background": "light"
     },
     "output_type": "display_data"
    }
   ],
   "source": [
    "objects = ('1','2','3','4','5','6','7','8','9','10')\n",
    "y_pos = np.arange(len(objects))\n",
    "performance = values1[233]\n",
    "\n",
    "plt.bar(y_pos, performance, align='center', alpha=0.5)\n",
    "plt.xticks(y_pos, objects)\n",
    "plt.title('Probability distribution')\n",
    "\n",
    "plt.show()"
   ]
  },
  {
   "cell_type": "markdown",
   "metadata": {},
   "source": [
    "## Split 2"
   ]
  },
  {
   "cell_type": "code",
   "execution_count": 20,
   "metadata": {},
   "outputs": [
    {
     "data": {
      "text/plain": [
       "BECKER       910\n",
       "SLOVITER     901\n",
       "STAPLETON    530\n",
       "GREENBERG    520\n",
       "NYGAARD      455\n",
       "SCIRICA      439\n",
       "ROTH         419\n",
       "WEIS         412\n",
       "GARTH        406\n",
       "RENDELL      370\n",
       "Name: authorship, dtype: int64"
      ]
     },
     "execution_count": 20,
     "metadata": {},
     "output_type": "execute_result"
    }
   ],
   "source": [
    "split2.authorship.value_counts()"
   ]
  },
  {
   "cell_type": "code",
   "execution_count": 21,
   "metadata": {},
   "outputs": [
    {
     "name": "stdout",
     "output_type": "stream",
     "text": [
      "Number of Datapoints:  5362\n"
     ]
    }
   ],
   "source": [
    "print('Number of Datapoints: ', split2.shape[0])"
   ]
  },
  {
   "cell_type": "code",
   "execution_count": 22,
   "metadata": {},
   "outputs": [],
   "source": [
    "split2names = split2.authorship.unique()\n",
    "\n",
    "for index, name in enumerate(split2names):\n",
    "    split2.authorship = split2.authorship.str.replace(name, str(index))\n",
    "split2.authorship = split2.authorship.astype(int)"
   ]
  },
  {
   "cell_type": "code",
   "execution_count": 23,
   "metadata": {},
   "outputs": [],
   "source": [
    "vectorizer2 = CountVectorizer(lowercase=False, ngram_range=(1,3), min_df=30, max_features=3000)\n",
    "bowM2 = vectorizer2.fit_transform(split2.opinion)\n",
    "#print(bowM2.toarray().shape)\n",
    "#print(vectorizer2.get_feature_names())"
   ]
  },
  {
   "cell_type": "code",
   "execution_count": 24,
   "metadata": {},
   "outputs": [],
   "source": [
    "X2 = pd.DataFrame.sparse.from_spmatrix(bowM2)\n",
    "X2 = X2.sparse.to_dense()"
   ]
  },
  {
   "cell_type": "code",
   "execution_count": 25,
   "metadata": {},
   "outputs": [],
   "source": [
    "for x in range(0,len(X2.columns)):\n",
    "    mean = X2.iloc[:,x].mean()\n",
    "    std = X2.iloc[:,x].std()\n",
    "    X2.iloc[:,x] = (X2.iloc[:,x] - mean)/std"
   ]
  },
  {
   "cell_type": "code",
   "execution_count": 26,
   "metadata": {},
   "outputs": [],
   "source": [
    "Y2 = split2.authorship.to_frame().reset_index().drop(columns=['index'])\n",
    "\n",
    "X2_Training, X2_Testing, y2_Training, y2_Testing = train_test_split(X2, Y2, test_size=0.2, random_state=1234)"
   ]
  },
  {
   "cell_type": "code",
   "execution_count": 27,
   "metadata": {},
   "outputs": [
    {
     "name": "stderr",
     "output_type": "stream",
     "text": [
      "c:\\program files\\python37\\lib\\site-packages\\sklearn\\utils\\validation.py:73: DataConversionWarning: A column-vector y was passed when a 1d array was expected. Please change the shape of y to (n_samples, ), for example using ravel().\n",
      "  return f(**kwargs)\n"
     ]
    },
    {
     "name": "stdout",
     "output_type": "stream",
     "text": [
      "[LibSVM]0.7202797202797203\n"
     ]
    },
    {
     "name": "stderr",
     "output_type": "stream",
     "text": [
      "c:\\program files\\python37\\lib\\site-packages\\sklearn\\utils\\validation.py:73: DataConversionWarning: A column-vector y was passed when a 1d array was expected. Please change the shape of y to (n_samples, ), for example using ravel().\n",
      "  return f(**kwargs)\n"
     ]
    },
    {
     "name": "stdout",
     "output_type": "stream",
     "text": [
      "[LibSVM]0.6911421911421911\n"
     ]
    },
    {
     "name": "stderr",
     "output_type": "stream",
     "text": [
      "c:\\program files\\python37\\lib\\site-packages\\sklearn\\utils\\validation.py:73: DataConversionWarning: A column-vector y was passed when a 1d array was expected. Please change the shape of y to (n_samples, ), for example using ravel().\n",
      "  return f(**kwargs)\n"
     ]
    },
    {
     "name": "stdout",
     "output_type": "stream",
     "text": [
      "[LibSVM]0.6911421911421911\n"
     ]
    },
    {
     "name": "stderr",
     "output_type": "stream",
     "text": [
      "c:\\program files\\python37\\lib\\site-packages\\sklearn\\utils\\validation.py:73: DataConversionWarning: A column-vector y was passed when a 1d array was expected. Please change the shape of y to (n_samples, ), for example using ravel().\n",
      "  return f(**kwargs)\n"
     ]
    },
    {
     "name": "stdout",
     "output_type": "stream",
     "text": [
      "[LibSVM]0.703962703962704\n"
     ]
    },
    {
     "name": "stderr",
     "output_type": "stream",
     "text": [
      "c:\\program files\\python37\\lib\\site-packages\\sklearn\\utils\\validation.py:73: DataConversionWarning: A column-vector y was passed when a 1d array was expected. Please change the shape of y to (n_samples, ), for example using ravel().\n",
      "  return f(**kwargs)\n"
     ]
    },
    {
     "name": "stdout",
     "output_type": "stream",
     "text": [
      "[LibSVM]0.7016317016317016\n",
      "Accuracy:  0.7016317016317016  +/-  0.010707397741590564\n"
     ]
    }
   ],
   "source": [
    "scores = [0,0,0,0,0]\n",
    "\n",
    "for i in range(0,5):\n",
    "    classifier = svm.SVC(kernel='poly',degree=1,C=1,class_weight='balanced', verbose=True, probability=True)\n",
    "\n",
    "    X2_train, X2_test, y2_train, y2_test = train_test_split(X2_Training, y2_Training, test_size=0.2, random_state=i)\n",
    "    classifier.fit(np.array(X2_train), np.array(y2_train))\n",
    "    values = classifier.predict_proba(np.array(X2_test))\n",
    "    \n",
    "    correct = 0\n",
    "    counter = 0\n",
    "    for k in range(0,y2_test.size):\n",
    "        if np.amax(values[k]) == values[k][int(y2_test.iloc[k])]:\n",
    "            correct += 1\n",
    "        counter += 1\n",
    "        \n",
    "    scores[i] = correct/counter\n",
    "    print(scores[i])\n",
    "    \n",
    "print('Accuracy: ', np.array(scores).mean(), ' +/- ', np.array(scores).std())"
   ]
  },
  {
   "cell_type": "code",
   "execution_count": 28,
   "metadata": {},
   "outputs": [
    {
     "data": {
      "image/png": "[encoded data removed]",
      "text/plain": [
       "<Figure size 432x288 with 1 Axes>"
      ]
     },
     "metadata": {
      "needs_background": "light"
     },
     "output_type": "display_data"
    },
    {
     "name": "stdout",
     "output_type": "stream",
     "text": [
      "Accuracy:  0.7082945013979497\n"
     ]
    },
    {
     "data": {
      "image/png": "[encoded data removed]",
      "text/plain": [
       "<Figure size 432x288 with 1 Axes>"
      ]
     },
     "metadata": {
      "needs_background": "light"
     },
     "output_type": "display_data"
    },
    {
     "name": "stdout",
     "output_type": "stream",
     "text": [
      "Accuracy:  0.7082945013979497\n"
     ]
    },
    {
     "data": {
      "image/png": "[encoded data removed]",
      "text/plain": [
       "<Figure size 432x288 with 1 Axes>"
      ]
     },
     "metadata": {
      "needs_background": "light"
     },
     "output_type": "display_data"
    },
    {
     "name": "stdout",
     "output_type": "stream",
     "text": [
      "Accuracy:  0.7082945013979497\n"
     ]
    },
    {
     "data": {
      "image/png": "[encoded data removed]",
      "text/plain": [
       "<Figure size 432x288 with 1 Axes>"
      ]
     },
     "metadata": {
      "needs_background": "light"
     },
     "output_type": "display_data"
    },
    {
     "name": "stdout",
     "output_type": "stream",
     "text": [
      "Accuracy:  0.7082945013979497\n"
     ]
    },
    {
     "data": {
      "image/png": "[encoded data removed]",
      "text/plain": [
       "<Figure size 432x288 with 1 Axes>"
      ]
     },
     "metadata": {
      "needs_background": "light"
     },
     "output_type": "display_data"
    },
    {
     "name": "stdout",
     "output_type": "stream",
     "text": [
      "Accuracy:  0.7082945013979497\n"
     ]
    },
    {
     "data": {
      "image/png": "[encoded data removed]",
      "text/plain": [
       "<Figure size 432x288 with 1 Axes>"
      ]
     },
     "metadata": {
      "needs_background": "light"
     },
     "output_type": "display_data"
    },
    {
     "name": "stdout",
     "output_type": "stream",
     "text": [
      "Accuracy:  0.7082945013979497\n"
     ]
    },
    {
     "data": {
      "image/png": "[encoded data removed]",
      "text/plain": [
       "<Figure size 432x288 with 1 Axes>"
      ]
     },
     "metadata": {
      "needs_background": "light"
     },
     "output_type": "display_data"
    },
    {
     "name": "stdout",
     "output_type": "stream",
     "text": [
      "Accuracy:  0.7082945013979497\n"
     ]
    },
    {
     "data": {
      "image/png": "[encoded data removed]",
      "text/plain": [
       "<Figure size 432x288 with 1 Axes>"
      ]
     },
     "metadata": {
      "needs_background": "light"
     },
     "output_type": "display_data"
    },
    {
     "name": "stdout",
     "output_type": "stream",
     "text": [
      "Accuracy:  0.7082945013979497\n"
     ]
    },
    {
     "data": {
      "image/png": "[encoded data removed]",
      "text/plain": [
       "<Figure size 432x288 with 1 Axes>"
      ]
     },
     "metadata": {
      "needs_background": "light"
     },
     "output_type": "display_data"
    },
    {
     "name": "stdout",
     "output_type": "stream",
     "text": [
      "Accuracy:  0.7082945013979497\n"
     ]
    },
    {
     "data": {
      "image/png": "[encoded data removed]",
      "text/plain": [
       "<Figure size 432x288 with 1 Axes>"
      ]
     },
     "metadata": {
      "needs_background": "light"
     },
     "output_type": "display_data"
    },
    {
     "name": "stdout",
     "output_type": "stream",
     "text": [
      "Accuracy:  0.7082945013979497\n"
     ]
    }
   ],
   "source": [
    "values2 = classifier.predict_proba(np.array(X2_Testing))\n",
    "data2 = pd.DataFrame(data=values2)\n",
    "data2['Y'] = y2_Testing.authorship.to_frame().reset_index().drop(columns=['index'])\n",
    "data2.to_csv('87_split2_results.csv', index=False)\n",
    "\n",
    "for l in range(0,10):\n",
    "    probs = [0,0,0,0,0,0,0,0,0,0]\n",
    "    count = 0\n",
    "\n",
    "    for i,row in data2.iterrows():\n",
    "        if(row['Y'] == l):\n",
    "            count += 1\n",
    "            for k in range(0,10):\n",
    "                probs[k] += row[k]\n",
    "            count += 1\n",
    "\n",
    "    for k in range(0,10):\n",
    "        probs[k] = probs[k]/count\n",
    "\n",
    "    objects = ('1','2','3','4','5','6','7','8','9','10')\n",
    "    y_pos = np.arange(len(objects))\n",
    "    performance = probs\n",
    "\n",
    "    plt.bar(y_pos, performance, align='center', alpha=0.5)\n",
    "    plt.xticks(y_pos, objects)\n",
    "    plt.title('Probability distribution')\n",
    "\n",
    "    plt.show()\n",
    "    \n",
    "    correct = 0\n",
    "    counter = 0\n",
    "    for k in range(0,y2_Testing.size):\n",
    "        if np.amax(values2[k]) == values2[k][int(y2_Testing.iloc[k])]:\n",
    "            correct += 1\n",
    "        counter += 1\n",
    "        \n",
    "    print('Accuracy: ',correct/counter)"
   ]
  },
  {
   "cell_type": "code",
   "execution_count": 29,
   "metadata": {},
   "outputs": [
    {
     "data": {
      "image/png": "[encoded data removed]",
      "text/plain": [
       "<Figure size 432x288 with 1 Axes>"
      ]
     },
     "metadata": {
      "needs_background": "light"
     },
     "output_type": "display_data"
    },
    {
     "name": "stdout",
     "output_type": "stream",
     "text": [
      "[45, 45, 47, 15, 39, 32, 27, 12, 27, 24]\n"
     ]
    }
   ],
   "source": [
    "wrongPredictions = [0,0,0,0,0,0,0,0,0,0]\n",
    "\n",
    "for i,row in data2.iterrows():\n",
    "    if row[int(row['Y'])] != np.amax(row[:10]):\n",
    "        wrongPredictions[(int(row['Y']))] += 1\n",
    "        #print(i)\n",
    "        \n",
    "objects = ('1','2','3','4','5','6','7','8','9','10')\n",
    "y_pos = np.arange(len(objects))\n",
    "performance = wrongPredictions\n",
    "\n",
    "plt.bar(y_pos, performance, align='center', alpha=0.5)\n",
    "plt.xticks(y_pos, objects)\n",
    "plt.show()\n",
    "\n",
    "print(wrongPredictions)"
   ]
  },
  {
   "cell_type": "code",
   "execution_count": 30,
   "metadata": {},
   "outputs": [
    {
     "data": {
      "image/png": "[encoded data removed]",
      "text/plain": [
       "<Figure size 432x288 with 1 Axes>"
      ]
     },
     "metadata": {
      "needs_background": "light"
     },
     "output_type": "display_data"
    }
   ],
   "source": [
    "objects = ('1','2','3','4','5','6','7','8','9','10')\n",
    "y_pos = np.arange(len(objects))\n",
    "performance = values2[233]\n",
    "\n",
    "plt.bar(y_pos, performance, align='center', alpha=0.5)\n",
    "plt.xticks(y_pos, objects)\n",
    "plt.title('Probability distribution')\n",
    "\n",
    "plt.show()"
   ]
  },
  {
   "cell_type": "markdown",
   "metadata": {},
   "source": [
    "## Split 3"
   ]
  },
  {
   "cell_type": "code",
   "execution_count": 31,
   "metadata": {},
   "outputs": [
    {
     "data": {
      "text/plain": [
       "RENDELL     707\n",
       "AMBRO       703\n",
       "FISHER      654\n",
       "FUENTES     641\n",
       "JORDAN      631\n",
       "SMITH       619\n",
       "CHAGARES    617\n",
       "HARDIMAN    579\n",
       "MCKEE       562\n",
       "ROTH        487\n",
       "Name: authorship, dtype: int64"
      ]
     },
     "execution_count": 31,
     "metadata": {},
     "output_type": "execute_result"
    }
   ],
   "source": [
    "split3.authorship.value_counts()"
   ]
  },
  {
   "cell_type": "code",
   "execution_count": 32,
   "metadata": {},
   "outputs": [
    {
     "name": "stdout",
     "output_type": "stream",
     "text": [
      "Number of Datapoints:  6200\n"
     ]
    }
   ],
   "source": [
    "print('Number of Datapoints: ', split3.shape[0])"
   ]
  },
  {
   "cell_type": "code",
   "execution_count": 33,
   "metadata": {},
   "outputs": [],
   "source": [
    "split3names = split3.authorship.unique()\n",
    "\n",
    "for index, name in enumerate(split3names):\n",
    "    split3.authorship = split3.authorship.str.replace(name, str(index))\n",
    "split3.authorship = split3.authorship.astype(int)"
   ]
  },
  {
   "cell_type": "code",
   "execution_count": 34,
   "metadata": {},
   "outputs": [],
   "source": [
    "vectorizer3 = CountVectorizer(lowercase=False, ngram_range=(1,3), min_df=30, max_features=3000)\n",
    "bowM3 = vectorizer3.fit_transform(split3.opinion)\n",
    "#print(bowM3.toarray().shape)\n",
    "#print(vectorizer3.get_feature_names())"
   ]
  },
  {
   "cell_type": "code",
   "execution_count": 35,
   "metadata": {},
   "outputs": [],
   "source": [
    "X3 = pd.DataFrame.sparse.from_spmatrix(bowM3)\n",
    "X3 = X3.sparse.to_dense()"
   ]
  },
  {
   "cell_type": "code",
   "execution_count": 36,
   "metadata": {},
   "outputs": [],
   "source": [
    "for x in range(0,len(X3.columns)):\n",
    "    mean = X3.iloc[:,x].mean()\n",
    "    std = X3.iloc[:,x].std()\n",
    "    X3.iloc[:,x] = (X3.iloc[:,x] - mean)/std"
   ]
  },
  {
   "cell_type": "code",
   "execution_count": 37,
   "metadata": {},
   "outputs": [],
   "source": [
    "Y3 = split3.authorship.to_frame().reset_index().drop(columns=['index'])\n",
    "\n",
    "X3_Training, X3_Testing, y3_Training, y3_Testing = train_test_split(X3, Y3, test_size=0.2, random_state=1234)"
   ]
  },
  {
   "cell_type": "code",
   "execution_count": 38,
   "metadata": {},
   "outputs": [
    {
     "name": "stderr",
     "output_type": "stream",
     "text": [
      "c:\\program files\\python37\\lib\\site-packages\\sklearn\\utils\\validation.py:73: DataConversionWarning: A column-vector y was passed when a 1d array was expected. Please change the shape of y to (n_samples, ), for example using ravel().\n",
      "  return f(**kwargs)\n"
     ]
    },
    {
     "name": "stdout",
     "output_type": "stream",
     "text": [
      "[LibSVM]0.7167338709677419\n"
     ]
    },
    {
     "name": "stderr",
     "output_type": "stream",
     "text": [
      "c:\\program files\\python37\\lib\\site-packages\\sklearn\\utils\\validation.py:73: DataConversionWarning: A column-vector y was passed when a 1d array was expected. Please change the shape of y to (n_samples, ), for example using ravel().\n",
      "  return f(**kwargs)\n"
     ]
    },
    {
     "name": "stdout",
     "output_type": "stream",
     "text": [
      "[LibSVM]0.6743951612903226\n"
     ]
    },
    {
     "name": "stderr",
     "output_type": "stream",
     "text": [
      "c:\\program files\\python37\\lib\\site-packages\\sklearn\\utils\\validation.py:73: DataConversionWarning: A column-vector y was passed when a 1d array was expected. Please change the shape of y to (n_samples, ), for example using ravel().\n",
      "  return f(**kwargs)\n"
     ]
    },
    {
     "name": "stdout",
     "output_type": "stream",
     "text": [
      "[LibSVM]0.717741935483871\n"
     ]
    },
    {
     "name": "stderr",
     "output_type": "stream",
     "text": [
      "c:\\program files\\python37\\lib\\site-packages\\sklearn\\utils\\validation.py:73: DataConversionWarning: A column-vector y was passed when a 1d array was expected. Please change the shape of y to (n_samples, ), for example using ravel().\n",
      "  return f(**kwargs)\n"
     ]
    },
    {
     "name": "stdout",
     "output_type": "stream",
     "text": [
      "[LibSVM]0.7127016129032258\n"
     ]
    },
    {
     "name": "stderr",
     "output_type": "stream",
     "text": [
      "c:\\program files\\python37\\lib\\site-packages\\sklearn\\utils\\validation.py:73: DataConversionWarning: A column-vector y was passed when a 1d array was expected. Please change the shape of y to (n_samples, ), for example using ravel().\n",
      "  return f(**kwargs)\n"
     ]
    },
    {
     "name": "stdout",
     "output_type": "stream",
     "text": [
      "[LibSVM]0.7066532258064516\n",
      "Accuracy:  0.7056451612903225  +/-  0.016103810925577285\n"
     ]
    }
   ],
   "source": [
    "scores = [0,0,0,0,0]\n",
    "\n",
    "for i in range(0,5):\n",
    "    classifier = svm.SVC(kernel='poly',degree=1,C=1,class_weight='balanced', verbose=True, probability=True)\n",
    "\n",
    "    X3_train, X3_test, y3_train, y3_test = train_test_split(X3_Training, y3_Training, test_size=0.2, random_state=i)\n",
    "    classifier.fit(np.array(X3_train), np.array(y3_train))\n",
    "    values = classifier.predict_proba(np.array(X3_test))\n",
    "    \n",
    "    correct = 0\n",
    "    counter = 0\n",
    "    for k in range(0,y3_test.size):\n",
    "        if np.amax(values[k]) == values[k][int(y3_test.iloc[k])]:\n",
    "            correct += 1\n",
    "        counter += 1\n",
    "        \n",
    "    scores[i] = correct/counter\n",
    "    print(scores[i])\n",
    "    \n",
    "print('Accuracy: ', np.array(scores).mean(), ' +/- ', np.array(scores).std())"
   ]
  },
  {
   "cell_type": "code",
   "execution_count": 39,
   "metadata": {},
   "outputs": [
    {
     "data": {
      "image/png": "[encoded data removed]",
      "text/plain": [
       "<Figure size 432x288 with 1 Axes>"
      ]
     },
     "metadata": {
      "needs_background": "light"
     },
     "output_type": "display_data"
    },
    {
     "data": {
      "image/png": "[encoded data removed]",
      "text/plain": [
       "<Figure size 432x288 with 1 Axes>"
      ]
     },
     "metadata": {
      "needs_background": "light"
     },
     "output_type": "display_data"
    },
    {
     "data": {
      "image/png": "[encoded data removed]",
      "text/plain": [
       "<Figure size 432x288 with 1 Axes>"
      ]
     },
     "metadata": {
      "needs_background": "light"
     },
     "output_type": "display_data"
    },
    {
     "data": {
      "image/png": "[encoded data removed]",
      "text/plain": [
       "<Figure size 432x288 with 1 Axes>"
      ]
     },
     "metadata": {
      "needs_background": "light"
     },
     "output_type": "display_data"
    },
    {
     "data": {
      "image/png": "[encoded data removed]",
      "text/plain": [
       "<Figure size 432x288 with 1 Axes>"
      ]
     },
     "metadata": {
      "needs_background": "light"
     },
     "output_type": "display_data"
    },
    {
     "data": {
      "image/png": "[encoded data removed]",
      "text/plain": [
       "<Figure size 432x288 with 1 Axes>"
      ]
     },
     "metadata": {
      "needs_background": "light"
     },
     "output_type": "display_data"
    },
    {
     "data": {
      "image/png": "[encoded data removed]",
      "text/plain": [
       "<Figure size 432x288 with 1 Axes>"
      ]
     },
     "metadata": {
      "needs_background": "light"
     },
     "output_type": "display_data"
    },
    {
     "data": {
      "image/png": "[encoded data removed]",
      "text/plain": [
       "<Figure size 432x288 with 1 Axes>"
      ]
     },
     "metadata": {
      "needs_background": "light"
     },
     "output_type": "display_data"
    },
    {
     "data": {
      "image/png": "[encoded data removed]",
      "text/plain": [
       "<Figure size 432x288 with 1 Axes>"
      ]
     },
     "metadata": {
      "needs_background": "light"
     },
     "output_type": "display_data"
    },
    {
     "data": {
      "image/png": "[encoded data removed]",
      "text/plain": [
       "<Figure size 432x288 with 1 Axes>"
      ]
     },
     "metadata": {
      "needs_background": "light"
     },
     "output_type": "display_data"
    }
   ],
   "source": [
    "values3 = classifier.predict_proba(np.array(X3_Testing))\n",
    "data3 = pd.DataFrame(data=values3)\n",
    "data3['Y'] = y3_Testing.authorship.to_frame().reset_index().drop(columns=['index'])\n",
    "data3.to_csv('87_split3_results.csv', index=False)\n",
    "\n",
    "for l in range(0,10):\n",
    "    probs = [0,0,0,0,0,0,0,0,0,0]\n",
    "    count = 0\n",
    "\n",
    "    for i,row in data3.iterrows():\n",
    "        if(row['Y'] == l):\n",
    "            count += 1\n",
    "            for k in range(0,10):\n",
    "                probs[k] += row[k]\n",
    "            count += 1\n",
    "\n",
    "    for k in range(0,10):\n",
    "        probs[k] = probs[k]/count\n",
    "\n",
    "    objects = ('1','2','3','4','5','6','7','8','9','10')\n",
    "    y_pos = np.arange(len(objects))\n",
    "    performance = probs\n",
    "\n",
    "    plt.bar(y_pos, performance, align='center', alpha=0.5)\n",
    "    plt.xticks(y_pos, objects)\n",
    "    plt.title('Probability distribution')\n",
    "\n",
    "    plt.show()"
   ]
  },
  {
   "cell_type": "code",
   "execution_count": 40,
   "metadata": {},
   "outputs": [
    {
     "data": {
      "image/png": "[encoded data removed]",
      "text/plain": [
       "<Figure size 432x288 with 1 Axes>"
      ]
     },
     "metadata": {
      "needs_background": "light"
     },
     "output_type": "display_data"
    },
    {
     "name": "stdout",
     "output_type": "stream",
     "text": [
      "[44, 37, 24, 53, 21, 39, 32, 33, 15, 38]\n"
     ]
    }
   ],
   "source": [
    "wrongPredictions = [0,0,0,0,0,0,0,0,0,0]\n",
    "\n",
    "for i,row in data3.iterrows():\n",
    "    if row[int(row['Y'])] != np.amax(row[:10]):\n",
    "        wrongPredictions[(int(row['Y']))] += 1\n",
    "        #print(i)\n",
    "        \n",
    "objects = ('1','2','3','4','5','6','7','8','9','10')\n",
    "y_pos = np.arange(len(objects))\n",
    "performance = wrongPredictions\n",
    "\n",
    "plt.bar(y_pos, performance, align='center', alpha=0.5)\n",
    "plt.xticks(y_pos, objects)\n",
    "plt.show()\n",
    "\n",
    "print(wrongPredictions)"
   ]
  },
  {
   "cell_type": "code",
   "execution_count": 41,
   "metadata": {},
   "outputs": [
    {
     "data": {
      "image/png": "[encoded data removed]",
      "text/plain": [
       "<Figure size 432x288 with 1 Axes>"
      ]
     },
     "metadata": {
      "needs_background": "light"
     },
     "output_type": "display_data"
    }
   ],
   "source": [
    "objects = ('1','2','3','4','5','6','7','8','9','10')\n",
    "y_pos = np.arange(len(objects))\n",
    "performance = values3[233]\n",
    "\n",
    "plt.bar(y_pos, performance, align='center', alpha=0.5)\n",
    "plt.xticks(y_pos, objects)\n",
    "plt.title('Probability distribution')\n",
    "\n",
    "plt.show()"
   ]
  },
  {
   "cell_type": "code",
   "execution_count": null,
   "metadata": {},
   "outputs": [],
   "source": []
  },
  {
   "cell_type": "code",
   "execution_count": null,
   "metadata": {},
   "outputs": [],
   "source": []
  }
 ],
 "metadata": {
  "kernelspec": {
   "display_name": "Python 3",
   "language": "python",
   "name": "python3"
  },
  "language_info": {
   "codemirror_mode": {
    "name": "ipython",
    "version": 3
   },
   "file_extension": ".py",
   "mimetype": "text/x-python",
   "name": "python",
   "nbconvert_exporter": "python",
   "pygments_lexer": "ipython3",
   "version": "3.7.6"
  }
 },
 "nbformat": 4,
 "nbformat_minor": 4
}
