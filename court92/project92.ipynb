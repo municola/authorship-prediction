{
 "cells": [
  {
   "cell_type": "code",
   "execution_count": 1,
   "metadata": {},
   "outputs": [],
   "source": [
    "import pandas as pd\n",
    "import matplotlib.pyplot as plt\n",
    "import re\n",
    "import nltk\n",
    "from sklearn.feature_extraction.text import CountVectorizer\n",
    "from sklearn.model_selection import train_test_split\n",
    "from sklearn import svm\n",
    "import numpy as np\n",
    "from sklearn.ensemble import RandomForestClassifier"
   ]
  },
  {
   "cell_type": "code",
   "execution_count": 2,
   "metadata": {},
   "outputs": [
    {
     "data": {
      "text/plain": [
       "PER CURIAM    2074\n",
       "TORRUELLA     1596\n",
       "SELYA         1589\n",
       "COFFIN        1401\n",
       "LYNCH         1233\n",
       "CAMPBELL      1195\n",
       "ALDRICH       1080\n",
       "BOWNES         973\n",
       "BOUDIN         818\n",
       "LIPEZ          755\n",
       "STORY          729\n",
       "PUTNAM         647\n",
       "STAHL          647\n",
       "BREYER         578\n",
       "BINGHAM        577\n",
       "WOODBURY       560\n",
       "COLT           493\n",
       "HOWARD         482\n",
       "LOWELL         453\n",
       "CYR            439\n",
       "MAGRUDER       407\n",
       "McENTEE        347\n",
       "ANDERSON       298\n",
       "BROWN          283\n",
       "THOMPSON       268\n",
       "CLIFFORD       263\n",
       "WILSON         256\n",
       "HARTIGAN       256\n",
       "CURTIS         195\n",
       "JOHNSON        190\n",
       "Name: authorship, dtype: int64"
      ]
     },
     "execution_count": 2,
     "metadata": {},
     "output_type": "execute_result"
    }
   ],
   "source": [
    "df = pd.read_csv(\"ca92.csv.gz\",compression='gzip')\n",
    "df.authorship.value_counts().head(30)"
   ]
  },
  {
   "cell_type": "code",
   "execution_count": 3,
   "metadata": {},
   "outputs": [
    {
     "data": {
      "text/html": [
       "<div>\n",
       "<style scoped>\n",
       "    .dataframe tbody tr th:only-of-type {\n",
       "        vertical-align: middle;\n",
       "    }\n",
       "\n",
       "    .dataframe tbody tr th {\n",
       "        vertical-align: top;\n",
       "    }\n",
       "\n",
       "    .dataframe thead th {\n",
       "        text-align: right;\n",
       "    }\n",
       "</style>\n",
       "<table border=\"1\" class=\"dataframe\">\n",
       "  <thead>\n",
       "    <tr style=\"text-align: right;\">\n",
       "      <th></th>\n",
       "      <th>dc_identifier</th>\n",
       "      <th>opinion</th>\n",
       "      <th>authorship</th>\n",
       "      <th>date_standard</th>\n",
       "    </tr>\n",
       "  </thead>\n",
       "  <tbody>\n",
       "    <tr>\n",
       "      <th>12</th>\n",
       "      <td>4W05-D4D0-TXFX-32GG-00000-00</td>\n",
       "      <td>HOWARD, Circuit Judge. Dwight John appeals fro...</td>\n",
       "      <td>HOWARD</td>\n",
       "      <td>2009</td>\n",
       "    </tr>\n",
       "    <tr>\n",
       "      <th>14</th>\n",
       "      <td>52ND-VH41-652P-Y061-00000-00</td>\n",
       "      <td>HOWARD, Circuit Judge. In this insurance cover...</td>\n",
       "      <td>HOWARD</td>\n",
       "      <td>2011</td>\n",
       "    </tr>\n",
       "    <tr>\n",
       "      <th>24</th>\n",
       "      <td>7X5T-BXC0-YB0V-C00R-00000-00</td>\n",
       "      <td>HOWARD, Circuit Judge. Plaintiff Luis Medina a...</td>\n",
       "      <td>HOWARD</td>\n",
       "      <td>2009</td>\n",
       "    </tr>\n",
       "    <tr>\n",
       "      <th>34</th>\n",
       "      <td>4CB7-H080-0038-X52P-00000-00</td>\n",
       "      <td>HOWARD, Circuit Judge. Linda L. Lalonde and Ma...</td>\n",
       "      <td>HOWARD</td>\n",
       "      <td>2004</td>\n",
       "    </tr>\n",
       "    <tr>\n",
       "      <th>69</th>\n",
       "      <td>4CVR-J2W0-0038-X0YD-00000-00</td>\n",
       "      <td>HOWARD, Circuit Judge. On May 6, 2002, Mary Go...</td>\n",
       "      <td>HOWARD</td>\n",
       "      <td>2004</td>\n",
       "    </tr>\n",
       "    <tr>\n",
       "      <th>...</th>\n",
       "      <td>...</td>\n",
       "      <td>...</td>\n",
       "      <td>...</td>\n",
       "      <td>...</td>\n",
       "    </tr>\n",
       "    <tr>\n",
       "      <th>22493</th>\n",
       "      <td>3S4X-3V10-003B-J258-00000-00</td>\n",
       "      <td>SHEPLEY, Circuit Judge.  Complainants claim un...</td>\n",
       "      <td>SHEPLEY</td>\n",
       "      <td>1875</td>\n",
       "    </tr>\n",
       "    <tr>\n",
       "      <th>22507</th>\n",
       "      <td>3S4X-43F0-003B-J3CJ-00000-00</td>\n",
       "      <td>SHEPLEY, Circuit Judge.  The complainant corpo...</td>\n",
       "      <td>SHEPLEY</td>\n",
       "      <td>1872</td>\n",
       "    </tr>\n",
       "    <tr>\n",
       "      <th>22509</th>\n",
       "      <td>3S4X-3WT0-003B-J2C3-00000-00</td>\n",
       "      <td>SHEPLEY, Circuit Judge.  This contract of bott...</td>\n",
       "      <td>SHEPLEY</td>\n",
       "      <td>1875</td>\n",
       "    </tr>\n",
       "    <tr>\n",
       "      <th>22510</th>\n",
       "      <td>3S4X-3XX0-003B-J2JJ-00000-00</td>\n",
       "      <td>SHEPLEY, Circuit Judge.  This suit is founded ...</td>\n",
       "      <td>SHEPLEY</td>\n",
       "      <td>1874</td>\n",
       "    </tr>\n",
       "    <tr>\n",
       "      <th>22519</th>\n",
       "      <td>3S4X-42C0-003B-J35W-00000-00</td>\n",
       "      <td>SHEPLEY, Circuit Judge.  Exceptions were duly ...</td>\n",
       "      <td>SHEPLEY</td>\n",
       "      <td>1873</td>\n",
       "    </tr>\n",
       "  </tbody>\n",
       "</table>\n",
       "<p>19833 rows × 4 columns</p>\n",
       "</div>"
      ],
      "text/plain": [
       "                      dc_identifier  \\\n",
       "12     4W05-D4D0-TXFX-32GG-00000-00   \n",
       "14     52ND-VH41-652P-Y061-00000-00   \n",
       "24     7X5T-BXC0-YB0V-C00R-00000-00   \n",
       "34     4CB7-H080-0038-X52P-00000-00   \n",
       "69     4CVR-J2W0-0038-X0YD-00000-00   \n",
       "...                             ...   \n",
       "22493  3S4X-3V10-003B-J258-00000-00   \n",
       "22507  3S4X-43F0-003B-J3CJ-00000-00   \n",
       "22509  3S4X-3WT0-003B-J2C3-00000-00   \n",
       "22510  3S4X-3XX0-003B-J2JJ-00000-00   \n",
       "22519  3S4X-42C0-003B-J35W-00000-00   \n",
       "\n",
       "                                                 opinion authorship  \\\n",
       "12     HOWARD, Circuit Judge. Dwight John appeals fro...     HOWARD   \n",
       "14     HOWARD, Circuit Judge. In this insurance cover...     HOWARD   \n",
       "24     HOWARD, Circuit Judge. Plaintiff Luis Medina a...     HOWARD   \n",
       "34     HOWARD, Circuit Judge. Linda L. Lalonde and Ma...     HOWARD   \n",
       "69     HOWARD, Circuit Judge. On May 6, 2002, Mary Go...     HOWARD   \n",
       "...                                                  ...        ...   \n",
       "22493  SHEPLEY, Circuit Judge.  Complainants claim un...    SHEPLEY   \n",
       "22507  SHEPLEY, Circuit Judge.  The complainant corpo...    SHEPLEY   \n",
       "22509  SHEPLEY, Circuit Judge.  This contract of bott...    SHEPLEY   \n",
       "22510  SHEPLEY, Circuit Judge.  This suit is founded ...    SHEPLEY   \n",
       "22519  SHEPLEY, Circuit Judge.  Exceptions were duly ...    SHEPLEY   \n",
       "\n",
       "       date_standard  \n",
       "12              2009  \n",
       "14              2011  \n",
       "24              2009  \n",
       "34              2004  \n",
       "69              2004  \n",
       "...              ...  \n",
       "22493           1875  \n",
       "22507           1872  \n",
       "22509           1875  \n",
       "22510           1874  \n",
       "22519           1873  \n",
       "\n",
       "[19833 rows x 4 columns]"
      ]
     },
     "execution_count": 3,
     "metadata": {},
     "output_type": "execute_result"
    }
   ],
   "source": [
    "df.authorship = df.authorship.str.upper()\n",
    "names = []\n",
    "for i in df.authorship.value_counts().head(30).index:\n",
    "    if i != 'PER CURIAM' and i != 'PER CURIAM:':\n",
    "        names.append(i)\n",
    "copy = pd.DataFrame()\n",
    "temp = df[df.word_count > 50]\n",
    "for name in names:\n",
    "    copy = copy.append(temp[temp.authorship == name])\n",
    "copy.date_standard = copy.date_standard.str[:4]\n",
    "copy.date_standard = copy.date_standard.astype(int)\n",
    "copy = copy.drop(columns=['opinion_type','opinion_id','word_count','authors','dc_source','judges_refined'])\n",
    "copy"
   ]
  },
  {
   "cell_type": "code",
   "execution_count": 4,
   "metadata": {},
   "outputs": [
    {
     "data": {
      "text/plain": [
       "<matplotlib.axes._subplots.AxesSubplot at 0x7f8944430a58>"
      ]
     },
     "execution_count": 4,
     "metadata": {},
     "output_type": "execute_result"
    },
    {
     "data": {
      "image/png": "[encoded data removed]",
      "text/plain": [
       "<Figure size 432x288 with 1 Axes>"
      ]
     },
     "metadata": {
      "needs_background": "light"
     },
     "output_type": "display_data"
    }
   ],
   "source": [
    "copy[copy.authorship == names[0]].date_standard.value_counts().sort_index().plot(kind='bar')"
   ]
  },
  {
   "cell_type": "code",
   "execution_count": 5,
   "metadata": {},
   "outputs": [],
   "source": [
    "copy.opinion = copy.opinion.str.replace('Senior Circuit Judge','')\n",
    "copy.opinion = copy.opinion.str.replace('Senior Circuit Judge'.upper(),'')\n",
    "copy.opinion = copy.opinion.str.replace('Senior District Judge','')\n",
    "copy.opinion = copy.opinion.str.replace('Senior District Judge'.upper(),'')\n",
    "copy.opinion = copy.opinion.str.replace('Circuit Judges','')\n",
    "copy.opinion = copy.opinion.str.replace('CIRCUIT JUDGES','')\n",
    "copy.opinion = copy.opinion.str.replace('District Judges','')\n",
    "copy.opinion = copy.opinion.str.replace('District Judges'.upper(),'')\n",
    "copy.opinion = copy.opinion.str.replace('District Judge','')\n",
    "copy.opinion = copy.opinion.str.replace('District Judge'.upper(),'')\n",
    "copy.opinion = copy.opinion.str.replace('Circuit Judge','')\n",
    "copy.opinion = copy.opinion.str.replace('CIRCUIT JUDGE','')\n",
    "copy.opinion = copy.opinion.str.replace('Circuit Justice','')\n",
    "copy.opinion = copy.opinion.str.replace('Circuit Justice'.upper(),'')\n",
    "copy.opinion = copy.opinion.str.replace('D\\.J\\.','')\n",
    "copy.opinion = copy.opinion.str.replace('D\\. J\\.','')\n",
    "copy.opinion = copy.opinion.str.replace('C\\.J\\.','')\n",
    "copy.opinion = copy.opinion.str.replace('C\\. J\\.','')\n",
    "copy.opinion = copy.opinion.str.replace('Senior Judge','')\n",
    "copy.opinion = copy.opinion.str.replace('Senior Judge'.upper(),'')\n",
    "copy.opinion = copy.opinion.str.replace('Associate Justice','')\n",
    "copy.opinion = copy.opinion.str.replace('Associate Justice'.upper(),'')\n",
    "copy.opinion = copy.opinion.str.replace('Chief Judge','')\n",
    "copy.opinion = copy.opinion.str.replace('Chief Judge'.upper(),'')\n",
    "copy.opinion = copy.opinion.str.replace('Judge','')\n",
    "copy.opinion = copy.opinion.str.replace('Judge'.upper(),'')\n",
    "copy.opinion = copy.opinion.str.replace('HONORABLE','')\n",
    "\n",
    "for name in names:\n",
    "    copy.opinion = copy.opinion.str.replace(name.upper(),'')\n",
    "    copy.opinion = copy.opinion.str.replace(name,'')\n",
    "    copy.opinion = copy.opinion.str.replace(name[:1].upper()+name[1:].lower(),'')\n",
    "\n",
    "\n",
    "\n",
    "copy.opinion = copy.opinion.str.replace('GERALD',' ')\n",
    "copy.opinion = copy.opinion.str.replace('Gerald',' ')\n",
    "copy.opinion = copy.opinion.str.replace('McMILLIAN',' ')\n",
    "copy.opinion = copy.opinion.str.replace('McMillian',' ')\n",
    "copy.opinion = copy.opinion.str.replace('FLOYD',' ')\n",
    "copy.opinion = copy.opinion.str.replace('Floyd',' ')\n",
    "copy.opinion = copy.opinion.str.replace('JOHN',' ')\n",
    "copy.opinion = copy.opinion.str.replace('John',' ')\n",
    "copy.opinion = copy.opinion.str.replace('MORRIS SHEPPARD',' ')\n",
    "copy.opinion = copy.opinion.str.replace('Morris Sheppard',' ')\n",
    "copy.opinion = copy.opinion.str.replace('Morris Sheppard'.lower(),' ')\n",
    "copy.opinion = copy.opinion.str.replace('\\n',' ')"
   ]
  },
  {
   "cell_type": "code",
   "execution_count": 6,
   "metadata": {},
   "outputs": [],
   "source": [
    "copy.opinion = copy.opinion.str.replace('\\\\\\'','')\n",
    "copy.opinion = copy.opinion.str.replace('(','')\n",
    "copy.opinion = copy.opinion.str.replace(')','')\n",
    "copy.opinion = copy.opinion.apply(lambda x: re.sub(r\"\\s\\w\\.\", \"\", x))\n",
    "copy.opinion = copy.opinion.apply(lambda x: re.sub(r\"\\s\\.\\s\", \" \", x))\n",
    "copy.opinion = copy.opinion.apply(lambda x: re.sub(r\"\\s\\.\\s\", \" \", x))\n",
    "copy.opinion = copy.opinion.apply(lambda x: re.sub(r\"\\s\\,\", \",\", x))\n",
    "copy.opinion = copy.opinion.apply(lambda x: re.sub(r\"\\d+\", \"\", x))\n",
    "copy.opinion = copy.opinion.apply(lambda x: re.sub(r\"-\", \"\", x))\n",
    "copy.opinion = copy.opinion.str.replace('S\\.C\\.','')\n",
    "copy.opinion = copy.opinion.str.replace('Ct\\.','Ct')\n",
    "copy.opinion = copy.opinion.str.replace('Ed\\.','Ed')\n",
    "copy.opinion = copy.opinion.str.replace('Dec\\.','Dec')\n",
    "copy.opinion = copy.opinion.str.replace(' No\\.',' No')\n",
    "copy.opinion = copy.opinion.str.replace(' pt\\.',' pt')\n",
    "copy.opinion = copy.opinion.str.replace(' Rep\\.',' Rep')\n",
    "copy.opinion = copy.opinion.str.replace(' Tr\\.',' Tr')\n",
    "copy.opinion = copy.opinion.str.replace(' Arg\\.',' Arg')\n",
    "copy.opinion = copy.opinion.str.replace(' Nev\\.',' Nev')\n",
    "copy.opinion = copy.opinion.str.replace(' Rev\\.',' Rev')\n",
    "copy.opinion = copy.opinion.str.replace(' Stat\\.',' Stat')\n",
    "copy.opinion = copy.opinion.str.replace(' Cent\\.',' Cent')\n",
    "copy.opinion = copy.opinion.str.replace(' Ore\\.',' Ore')\n",
    "copy.opinion = copy.opinion.str.replace(' Co\\.',' Co')\n",
    "copy.opinion = copy.opinion.str.replace(' Ins\\.',' Ins')\n",
    "copy.opinion = copy.opinion.str.replace('S\\.','')\n",
    "copy.opinion = copy.opinion.str.replace('Cf\\.','Cf')\n",
    "copy.opinion = copy.opinion.str.replace('Id\\.','Id')\n",
    "copy.opinion = copy.opinion.str.replace(' ,',',')\n",
    "copy.opinion = copy.opinion.str.replace(' \\.','.')\n",
    "copy.opinion = copy.opinion.str.replace('§','')\n",
    "copy.opinion = copy.opinion.str.replace('$','')\n",
    "copy.opinion = copy.opinion.str.replace('\\.\\.','.')\n",
    "copy.opinion = copy.opinion.str.replace('\\.\\.','.')\n",
    "copy.opinion = copy.opinion.str.replace(',,',',')\n",
    "copy.opinion = copy.opinion.str.replace(',,',',')\n",
    "copy.opinion = copy.opinion.str.replace(',\\.',',')\n",
    "copy.opinion = copy.opinion.str.replace('\"',' ')\n",
    "copy.opinion = copy.opinion.str.replace('II','')\n",
    "copy.opinion = copy.opinion.str.replace('III','')\n",
    "copy.opinion = copy.opinion.str.replace('  ',' ')"
   ]
  },
  {
   "cell_type": "code",
   "execution_count": 7,
   "metadata": {},
   "outputs": [
    {
     "name": "stdout",
     "output_type": "stream",
     "text": [
      "SHEPLEY\n",
      "\n",
      ", The complainants are engaged in the manufacture and sale of a patented buckle for use in connection with an iron strap for a tie or fastening to cotton bales. There can be no reasonable doubt that c\n",
      "\n",
      "\n",
      ", Limiting the first claim in this patent to that only which was invented by the patentee, e., his device, as described in his specification, of such a mode of attaching a halterdie or other harnessri\n",
      "\n",
      "\n",
      ", [charging jury.] This is an action brought by the American Hide and Leather Splitting and Dressing Machine Company, as plaintiff, against the American Tool and Machine Company and George Fox, as def\n",
      "\n",
      "\n",
      ", This action is brought to recover back a legacy tax paid under protest by plaintiffs to the defendant as collector of internal revenue for the Fourth Massachusetts district.  William Mason, the plai\n",
      "\n",
      "\n",
      "Before and KNOWLES, JJ. , The information in this case is by George Williams, as he is attorney general of the United States of America, at the relation of George Hecker, of the city of New York, agai\n",
      "\n",
      "\n",
      ", said that he never before had had any evidence, other than the patent itself, that Nathaniel Gear invented the patented machine; but that the affidavit of Ball and others satisfied him now that Nath\n",
      "\n",
      "\n",
      ", Letters patent of the United States [No. ,], issued June, to Cummings, for improvement in artificial gums and palates.The bill in equity in this case is filed against the defendant, alleging infring\n",
      "\n",
      "\n",
      ", The defendants have offered in evidence, against the objections of the complainant, certain exhibits purporting to be copies of drawings of foreign patents, accompanied with evidence respecting them\n",
      "\n",
      "\n",
      ", The defense in this case is based upon the alleged want of novelty in the invention described in the letters patent granted to William Beschke and others, August, No, for an improved method of using\n",
      "\n",
      "\n",
      ", The invention in question in this case relates to improvements in sparkarresters and consumers for locomotive engines.  The complainant is the assignee of letterspatent No, granted November, to Geor\n",
      "\n",
      "\n"
     ]
    }
   ],
   "source": [
    "# Prints the first 200 characters of the first 10 cleaned opinion texts of a given judge.\n",
    "judge = 0\n",
    "print(names[judge]+'\\n')\n",
    "for x in range(10):\n",
    "    print(copy.opinion[copy.loc[copy.authorship==names[judge]].index[x]][:200]+'\\n\\n')"
   ]
  },
  {
   "cell_type": "code",
   "execution_count": 8,
   "metadata": {
    "scrolled": true
   },
   "outputs": [
    {
     "name": "stderr",
     "output_type": "stream",
     "text": [
      "/home/nicolas/.local/lib/python3.6/site-packages/ipykernel_launcher.py:7: UserWarning: Boolean Series key will be reindexed to match DataFrame index.\n",
      "  import sys\n",
      "/home/nicolas/.local/lib/python3.6/site-packages/ipykernel_launcher.py:9: UserWarning: Boolean Series key will be reindexed to match DataFrame index.\n",
      "  if __name__ == '__main__':\n"
     ]
    }
   ],
   "source": [
    "#get rough estimate for total number of top 10 authors in all 3 splits\n",
    "top = 2000\n",
    "bot = 1970\n",
    "split1 = pd.DataFrame()\n",
    "for x in copy[copy.date_standard<=bot].authorship.value_counts().head(10).index:\n",
    "    temp = copy[copy.authorship == x]\n",
    "    split1 = split1.append(temp[temp.date_standard<=bot])\n",
    "split2 = pd.DataFrame()\n",
    "for x in copy[copy.date_standard<top][copy.date_standard>bot].authorship.value_counts().head(10).index:\n",
    "    temp = copy[copy.authorship == x]\n",
    "    split2 = split2.append(temp[temp.date_standard<top][temp.date_standard>bot])\n",
    "split3 = pd.DataFrame()\n",
    "for x in copy[copy.date_standard>=top].authorship.value_counts().head(10).index:\n",
    "    temp = copy[copy.authorship == x]\n",
    "    split3 = split3.append(temp[temp.date_standard>=top])\n",
    "\n",
    "for i in range(3):\n",
    "    totalNum = split1.shape[0]+split2.shape[0]+split3.shape[0]\n",
    "    print('totalNum = '+str(totalNum))\n",
    "    print(split1.shape)\n",
    "    print(split2.shape)\n",
    "    print(split3.shape)    \n",
    "\n",
    "    #initialize the splits so we can iterate over them\n",
    "    top = 2020\n",
    "    bot = 1800\n",
    "    split1 = pd.DataFrame()\n",
    "    for x in copy[copy.date_standard<=bot].authorship.value_counts().head(10).index:\n",
    "        temp = copy[copy.authorship == x]\n",
    "        split1 = split1.append(temp[temp.date_standard<=bot])\n",
    "    split2 = pd.DataFrame()\n",
    "    for x in copy[copy.date_standard<top][copy.date_standard>bot].authorship.value_counts().head(10).index:\n",
    "        temp = copy[copy.authorship == x]\n",
    "        split2 = split2.append(temp[temp.date_standard<top][temp.date_standard>bot])\n",
    "    split3 = pd.DataFrame()\n",
    "    for x in copy[copy.date_standard>=top].authorship.value_counts().head(10).index:\n",
    "        temp = copy[copy.authorship == x]\n",
    "        split3 = split3.append(temp[temp.date_standard>=top])\n",
    "    \n",
    "    \n",
    "    \n",
    "    \n",
    "    #loop to iterate \n",
    "    while split1.shape[0] < totalNum/3:\n",
    "        bot += 1\n",
    "        split1 = pd.DataFrame()\n",
    "        for x in copy[copy.date_standard<=bot].authorship.value_counts().head(10).index:\n",
    "            temp = copy[copy.authorship == x]\n",
    "            split1 = split1.append(temp[temp.date_standard<=bot])    \n",
    "    while split3.shape[0] < totalNum/3:\n",
    "        top -= 1\n",
    "        split3 = pd.DataFrame()\n",
    "        for x in copy[copy.date_standard>=top].authorship.value_counts().head(10).index:\n",
    "            temp = copy[copy.authorship == x]\n",
    "            split3 = split3.append(temp[temp.date_standard>=top])\n",
    "    split2 = pd.DataFrame()\n",
    "    for x in copy[copy.date_standard<top][copy.date_standard>bot].authorship.value_counts().head(10).index:\n",
    "        temp = copy[copy.authorship == x]\n",
    "        split2 = split2.append(temp[temp.date_standard<top][temp.date_standard>bot])\n",
    "    \n",
    "\n",
    "    print(split1.shape)\n",
    "    print(split2.shape)\n",
    "    print(split3.shape)\n",
    "    print('top = '+str(top)+' bot = '+str(bot))"
   ]
  },
  {
   "cell_type": "markdown",
   "metadata": {},
   "source": [
    "# Bag of Words approach"
   ]
  },
  {
   "cell_type": "markdown",
   "metadata": {},
   "source": [
    "## Split 1"
   ]
  },
  {
   "cell_type": "code",
   "execution_count": 9,
   "metadata": {},
   "outputs": [
    {
     "data": {
      "text/plain": [
       "STORY       727\n",
       "PUTNAM      645\n",
       "BINGHAM     576\n",
       "ALDRICH     570\n",
       "WOODBURY    555\n",
       "COLT        488\n",
       "LOWELL      450\n",
       "MAGRUDER    405\n",
       "ANDERSON    298\n",
       "CLIFFORD    262\n",
       "Name: authorship, dtype: int64"
      ]
     },
     "execution_count": 9,
     "metadata": {},
     "output_type": "execute_result"
    }
   ],
   "source": [
    "split1.authorship.value_counts()"
   ]
  },
  {
   "cell_type": "code",
   "execution_count": 10,
   "metadata": {},
   "outputs": [
    {
     "name": "stdout",
     "output_type": "stream",
     "text": [
      "Number of Datapoints:  4976\n"
     ]
    }
   ],
   "source": [
    "print('Number of Datapoints: ', split1.shape[0])"
   ]
  },
  {
   "cell_type": "code",
   "execution_count": 11,
   "metadata": {},
   "outputs": [],
   "source": [
    "split1names = split1.authorship.unique()\n",
    "\n",
    "for index, name in enumerate(split1names):\n",
    "    split1.authorship = split1.authorship.str.replace(name, str(index))\n",
    "split1.authorship = split1.authorship.astype(int)"
   ]
  },
  {
   "cell_type": "code",
   "execution_count": 12,
   "metadata": {},
   "outputs": [],
   "source": [
    "vectorizer1 = CountVectorizer(lowercase=False, ngram_range=(1,3), min_df=30, max_features=3000)\n",
    "bowM1 = vectorizer1.fit_transform(split1.opinion)\n",
    "#print(bowM1.toarray().shape)\n",
    "#print(vectorizer1.get_feature_names())"
   ]
  },
  {
   "cell_type": "code",
   "execution_count": 13,
   "metadata": {},
   "outputs": [],
   "source": [
    "X1 = pd.DataFrame.sparse.from_spmatrix(bowM1)\n",
    "X1 = X1.sparse.to_dense()"
   ]
  },
  {
   "cell_type": "code",
   "execution_count": 14,
   "metadata": {},
   "outputs": [],
   "source": [
    "for x in range(0,len(X1.columns)):\n",
    "    mean = X1.iloc[:,x].mean()\n",
    "    std = X1.iloc[:,x].std()\n",
    "    X1.iloc[:,x] = (X1.iloc[:,x] - mean)/std"
   ]
  },
  {
   "cell_type": "code",
   "execution_count": 15,
   "metadata": {},
   "outputs": [],
   "source": [
    "Y1 = split1.authorship.to_frame().reset_index().drop(columns=['index'])\n",
    "\n",
    "X1_Training, X1_Testing, y1_Training, y1_Testing = train_test_split(X1, Y1, test_size=0.2, random_state=1234)"
   ]
  },
  {
   "cell_type": "code",
   "execution_count": 16,
   "metadata": {},
   "outputs": [
    {
     "name": "stderr",
     "output_type": "stream",
     "text": [
      "/home/nicolas/.local/lib/python3.6/site-packages/sklearn/utils/validation.py:760: DataConversionWarning: A column-vector y was passed when a 1d array was expected. Please change the shape of y to (n_samples, ), for example using ravel().\n",
      "  y = column_or_1d(y, warn=True)\n"
     ]
    },
    {
     "name": "stdout",
     "output_type": "stream",
     "text": [
      "[LibSVM]0.8969849246231156\n",
      "[LibSVM]"
     ]
    },
    {
     "name": "stderr",
     "output_type": "stream",
     "text": [
      "/home/nicolas/.local/lib/python3.6/site-packages/sklearn/utils/validation.py:760: DataConversionWarning: A column-vector y was passed when a 1d array was expected. Please change the shape of y to (n_samples, ), for example using ravel().\n",
      "  y = column_or_1d(y, warn=True)\n"
     ]
    },
    {
     "name": "stdout",
     "output_type": "stream",
     "text": [
      "0.8844221105527639\n",
      "[LibSVM]"
     ]
    },
    {
     "name": "stderr",
     "output_type": "stream",
     "text": [
      "/home/nicolas/.local/lib/python3.6/site-packages/sklearn/utils/validation.py:760: DataConversionWarning: A column-vector y was passed when a 1d array was expected. Please change the shape of y to (n_samples, ), for example using ravel().\n",
      "  y = column_or_1d(y, warn=True)\n"
     ]
    },
    {
     "name": "stdout",
     "output_type": "stream",
     "text": [
      "0.9095477386934674\n",
      "[LibSVM]"
     ]
    },
    {
     "name": "stderr",
     "output_type": "stream",
     "text": [
      "/home/nicolas/.local/lib/python3.6/site-packages/sklearn/utils/validation.py:760: DataConversionWarning: A column-vector y was passed when a 1d array was expected. Please change the shape of y to (n_samples, ), for example using ravel().\n",
      "  y = column_or_1d(y, warn=True)\n"
     ]
    },
    {
     "name": "stdout",
     "output_type": "stream",
     "text": [
      "0.8932160804020101\n",
      "[LibSVM]"
     ]
    },
    {
     "name": "stderr",
     "output_type": "stream",
     "text": [
      "/home/nicolas/.local/lib/python3.6/site-packages/sklearn/utils/validation.py:760: DataConversionWarning: A column-vector y was passed when a 1d array was expected. Please change the shape of y to (n_samples, ), for example using ravel().\n",
      "  y = column_or_1d(y, warn=True)\n"
     ]
    },
    {
     "name": "stdout",
     "output_type": "stream",
     "text": [
      "0.8806532663316583\n",
      "Accuracy:  0.8929648241206032  +/-  0.01015647383487827\n"
     ]
    }
   ],
   "source": [
    "scores = [0,0,0,0,0]\n",
    "\n",
    "for i in range(0,5):\n",
    "    classifier = svm.SVC(kernel='poly',degree=1,C=1,class_weight='balanced', verbose=True, probability=True)\n",
    "\n",
    "    X1_train, X1_test, y1_train, y1_test = train_test_split(X1_Training, y1_Training, test_size=0.2, random_state=i)\n",
    "    classifier.fit(np.array(X1_train), np.array(y1_train))\n",
    "    values = classifier.predict_proba(np.array(X1_test))\n",
    "    \n",
    "    correct = 0\n",
    "    counter = 0\n",
    "    for k in range(0,y1_test.size):\n",
    "        if np.amax(values[k]) == values[k][int(y1_test.iloc[k])]:\n",
    "            correct += 1\n",
    "        counter += 1\n",
    "        \n",
    "    scores[i] = correct/counter\n",
    "    print(scores[i])\n",
    "    \n",
    "print('Accuracy: ', np.array(scores).mean(), ' +/- ', np.array(scores).std())"
   ]
  },
  {
   "cell_type": "code",
   "execution_count": 17,
   "metadata": {},
   "outputs": [
    {
     "data": {
      "image/png": "[encoded data removed]",
      "text/plain": [
       "<Figure size 432x288 with 1 Axes>"
      ]
     },
     "metadata": {
      "needs_background": "light"
     },
     "output_type": "display_data"
    },
    {
     "name": "stdout",
     "output_type": "stream",
     "text": [
      "Accuracy:  0.9006024096385542\n"
     ]
    },
    {
     "data": {
      "image/png": "[encoded data removed]",
      "text/plain": [
       "<Figure size 432x288 with 1 Axes>"
      ]
     },
     "metadata": {
      "needs_background": "light"
     },
     "output_type": "display_data"
    },
    {
     "name": "stdout",
     "output_type": "stream",
     "text": [
      "Accuracy:  0.9006024096385542\n"
     ]
    },
    {
     "data": {
      "image/png": "[encoded data removed]",
      "text/plain": [
       "<Figure size 432x288 with 1 Axes>"
      ]
     },
     "metadata": {
      "needs_background": "light"
     },
     "output_type": "display_data"
    },
    {
     "name": "stdout",
     "output_type": "stream",
     "text": [
      "Accuracy:  0.9006024096385542\n"
     ]
    },
    {
     "data": {
      "image/png": "[encoded data removed]",
      "text/plain": [
       "<Figure size 432x288 with 1 Axes>"
      ]
     },
     "metadata": {
      "needs_background": "light"
     },
     "output_type": "display_data"
    },
    {
     "name": "stdout",
     "output_type": "stream",
     "text": [
      "Accuracy:  0.9006024096385542\n"
     ]
    },
    {
     "data": {
      "image/png": "[encoded data removed]",
      "text/plain": [
       "<Figure size 432x288 with 1 Axes>"
      ]
     },
     "metadata": {
      "needs_background": "light"
     },
     "output_type": "display_data"
    },
    {
     "name": "stdout",
     "output_type": "stream",
     "text": [
      "Accuracy:  0.9006024096385542\n"
     ]
    },
    {
     "data": {
      "image/png": "[encoded data removed]",
      "text/plain": [
       "<Figure size 432x288 with 1 Axes>"
      ]
     },
     "metadata": {
      "needs_background": "light"
     },
     "output_type": "display_data"
    },
    {
     "name": "stdout",
     "output_type": "stream",
     "text": [
      "Accuracy:  0.9006024096385542\n"
     ]
    },
    {
     "data": {
      "image/png": "[encoded data removed]",
      "text/plain": [
       "<Figure size 432x288 with 1 Axes>"
      ]
     },
     "metadata": {
      "needs_background": "light"
     },
     "output_type": "display_data"
    },
    {
     "name": "stdout",
     "output_type": "stream",
     "text": [
      "Accuracy:  0.9006024096385542\n"
     ]
    },
    {
     "data": {
      "image/png": "[encoded data removed]",
      "text/plain": [
       "<Figure size 432x288 with 1 Axes>"
      ]
     },
     "metadata": {
      "needs_background": "light"
     },
     "output_type": "display_data"
    },
    {
     "name": "stdout",
     "output_type": "stream",
     "text": [
      "Accuracy:  0.9006024096385542\n"
     ]
    },
    {
     "data": {
      "image/png": "[encoded data removed]",
      "text/plain": [
       "<Figure size 432x288 with 1 Axes>"
      ]
     },
     "metadata": {
      "needs_background": "light"
     },
     "output_type": "display_data"
    },
    {
     "name": "stdout",
     "output_type": "stream",
     "text": [
      "Accuracy:  0.9006024096385542\n"
     ]
    },
    {
     "data": {
      "image/png": "[encoded data removed]",
      "text/plain": [
       "<Figure size 432x288 with 1 Axes>"
      ]
     },
     "metadata": {
      "needs_background": "light"
     },
     "output_type": "display_data"
    },
    {
     "name": "stdout",
     "output_type": "stream",
     "text": [
      "Accuracy:  0.9006024096385542\n"
     ]
    }
   ],
   "source": [
    "values1 = classifier.predict_proba(np.array(X1_Testing))\n",
    "data1 = pd.DataFrame(data=values1)\n",
    "data1['Y'] = y1_Testing.authorship.to_frame().reset_index().drop(columns=['index'])\n",
    "data1.to_csv('92_split1_results.csv', index=False)\n",
    "\n",
    "for l in range(0,10):\n",
    "    probs = [0,0,0,0,0,0,0,0,0,0]\n",
    "    count = 0\n",
    "\n",
    "    for i,row in data1.iterrows():\n",
    "        if(row['Y'] == l):\n",
    "            for k in range(0,10):\n",
    "                probs[k] += row[k]\n",
    "            count += 1\n",
    "    \n",
    "    for k in range(0,10):\n",
    "        probs[k] = probs[k]/count\n",
    "\n",
    "    objects = ('1','2','3','4','5','6','7','8','9','10')\n",
    "    y_pos = np.arange(len(objects))\n",
    "    performance = probs\n",
    "\n",
    "    plt.bar(y_pos, performance, align='center', alpha=0.5)\n",
    "    plt.xticks(y_pos, objects)\n",
    "    plt.title('Probability distribution')\n",
    "\n",
    "    plt.show()\n",
    "    \n",
    "    correct = 0\n",
    "    counter = 0\n",
    "    for k in range(0,y1_Testing.size):\n",
    "        if np.amax(values1[k]) == values1[k][int(y1_Testing.iloc[k])]:\n",
    "            correct += 1\n",
    "        counter += 1\n",
    "        \n",
    "    print('Accuracy: ',correct/counter)"
   ]
  },
  {
   "cell_type": "code",
   "execution_count": 18,
   "metadata": {},
   "outputs": [
    {
     "data": {
      "image/png": "[encoded data removed]",
      "text/plain": [
       "<Figure size 432x288 with 1 Axes>"
      ]
     },
     "metadata": {
      "needs_background": "light"
     },
     "output_type": "display_data"
    },
    {
     "name": "stdout",
     "output_type": "stream",
     "text": [
      "[7, 10, 6, 16, 10, 11, 18, 4, 11, 6]\n"
     ]
    }
   ],
   "source": [
    "wrongPredictions = [0,0,0,0,0,0,0,0,0,0]\n",
    "\n",
    "for i,row in data1.iterrows():\n",
    "    if row[int(row['Y'])] != np.amax(row[:10]):\n",
    "        wrongPredictions[(int(row['Y']))] += 1\n",
    "        #print(i)\n",
    "        \n",
    "objects = ('1','2','3','4','5','6','7','8','9','10')\n",
    "y_pos = np.arange(len(objects))\n",
    "performance = wrongPredictions\n",
    "\n",
    "plt.bar(y_pos, performance, align='center', alpha=0.5)\n",
    "plt.xticks(y_pos, objects)\n",
    "plt.show()\n",
    "\n",
    "print(wrongPredictions)"
   ]
  },
  {
   "cell_type": "code",
   "execution_count": 19,
   "metadata": {},
   "outputs": [
    {
     "data": {
      "image/png": "[encoded data removed]",
      "text/plain": [
       "<Figure size 432x288 with 1 Axes>"
      ]
     },
     "metadata": {
      "needs_background": "light"
     },
     "output_type": "display_data"
    }
   ],
   "source": [
    "objects = ('1','2','3','4','5','6','7','8','9','10')\n",
    "y_pos = np.arange(len(objects))\n",
    "performance = values1[233]\n",
    "\n",
    "plt.bar(y_pos, performance, align='center', alpha=0.5)\n",
    "plt.xticks(y_pos, objects)\n",
    "plt.title('Probability distribution')\n",
    "\n",
    "plt.show()"
   ]
  },
  {
   "cell_type": "markdown",
   "metadata": {},
   "source": [
    "## Split 2"
   ]
  },
  {
   "cell_type": "code",
   "execution_count": 20,
   "metadata": {},
   "outputs": [
    {
     "data": {
      "text/plain": [
       "COFFIN       1127\n",
       "CAMPBELL     1093\n",
       "BOWNES        898\n",
       "SELYA         727\n",
       "TORRUELLA     712\n",
       "BREYER        577\n",
       "ALDRICH       467\n",
       "CYR           343\n",
       "BOUDIN        298\n",
       "STAHL         259\n",
       "Name: authorship, dtype: int64"
      ]
     },
     "execution_count": 20,
     "metadata": {},
     "output_type": "execute_result"
    }
   ],
   "source": [
    "split2.authorship.value_counts()"
   ]
  },
  {
   "cell_type": "code",
   "execution_count": 21,
   "metadata": {},
   "outputs": [
    {
     "name": "stdout",
     "output_type": "stream",
     "text": [
      "Number of Datapoints:  6501\n"
     ]
    }
   ],
   "source": [
    "print('Number of Datapoints: ', split2.shape[0])"
   ]
  },
  {
   "cell_type": "code",
   "execution_count": 22,
   "metadata": {},
   "outputs": [],
   "source": [
    "split2names = split2.authorship.unique()\n",
    "\n",
    "for index, name in enumerate(split2names):\n",
    "    split2.authorship = split2.authorship.str.replace(name, str(index))\n",
    "split2.authorship = split2.authorship.astype(int)"
   ]
  },
  {
   "cell_type": "code",
   "execution_count": 23,
   "metadata": {},
   "outputs": [],
   "source": [
    "vectorizer2 = CountVectorizer(lowercase=False, ngram_range=(1,3), min_df=30, max_features=3000)\n",
    "bowM2 = vectorizer2.fit_transform(split2.opinion)\n",
    "#print(bowM2.toarray().shape)\n",
    "#print(vectorizer2.get_feature_names())"
   ]
  },
  {
   "cell_type": "code",
   "execution_count": 24,
   "metadata": {},
   "outputs": [],
   "source": [
    "X2 = pd.DataFrame.sparse.from_spmatrix(bowM2)\n",
    "X2 = X2.sparse.to_dense()"
   ]
  },
  {
   "cell_type": "code",
   "execution_count": 25,
   "metadata": {},
   "outputs": [],
   "source": [
    "for x in range(0,len(X2.columns)):\n",
    "    mean = X2.iloc[:,x].mean()\n",
    "    std = X2.iloc[:,x].std()\n",
    "    X2.iloc[:,x] = (X2.iloc[:,x] - mean)/std"
   ]
  },
  {
   "cell_type": "code",
   "execution_count": 26,
   "metadata": {},
   "outputs": [],
   "source": [
    "Y2 = split2.authorship.to_frame().reset_index().drop(columns=['index'])\n",
    "\n",
    "X2_Training, X2_Testing, y2_Training, y2_Testing = train_test_split(X2, Y2, test_size=0.2, random_state=1234)"
   ]
  },
  {
   "cell_type": "code",
   "execution_count": 27,
   "metadata": {},
   "outputs": [
    {
     "name": "stderr",
     "output_type": "stream",
     "text": [
      "/home/nicolas/.local/lib/python3.6/site-packages/sklearn/utils/validation.py:760: DataConversionWarning: A column-vector y was passed when a 1d array was expected. Please change the shape of y to (n_samples, ), for example using ravel().\n",
      "  y = column_or_1d(y, warn=True)\n"
     ]
    },
    {
     "name": "stdout",
     "output_type": "stream",
     "text": [
      "[LibSVM]0.7721153846153846\n",
      "[LibSVM]"
     ]
    },
    {
     "name": "stderr",
     "output_type": "stream",
     "text": [
      "/home/nicolas/.local/lib/python3.6/site-packages/sklearn/utils/validation.py:760: DataConversionWarning: A column-vector y was passed when a 1d array was expected. Please change the shape of y to (n_samples, ), for example using ravel().\n",
      "  y = column_or_1d(y, warn=True)\n"
     ]
    },
    {
     "name": "stdout",
     "output_type": "stream",
     "text": [
      "0.7778846153846154\n",
      "[LibSVM]"
     ]
    },
    {
     "name": "stderr",
     "output_type": "stream",
     "text": [
      "/home/nicolas/.local/lib/python3.6/site-packages/sklearn/utils/validation.py:760: DataConversionWarning: A column-vector y was passed when a 1d array was expected. Please change the shape of y to (n_samples, ), for example using ravel().\n",
      "  y = column_or_1d(y, warn=True)\n"
     ]
    },
    {
     "name": "stdout",
     "output_type": "stream",
     "text": [
      "0.7721153846153846\n",
      "[LibSVM]"
     ]
    },
    {
     "name": "stderr",
     "output_type": "stream",
     "text": [
      "/home/nicolas/.local/lib/python3.6/site-packages/sklearn/utils/validation.py:760: DataConversionWarning: A column-vector y was passed when a 1d array was expected. Please change the shape of y to (n_samples, ), for example using ravel().\n",
      "  y = column_or_1d(y, warn=True)\n"
     ]
    },
    {
     "name": "stdout",
     "output_type": "stream",
     "text": [
      "0.7807692307692308\n",
      "[LibSVM]"
     ]
    },
    {
     "name": "stderr",
     "output_type": "stream",
     "text": [
      "/home/nicolas/.local/lib/python3.6/site-packages/sklearn/utils/validation.py:760: DataConversionWarning: A column-vector y was passed when a 1d array was expected. Please change the shape of y to (n_samples, ), for example using ravel().\n",
      "  y = column_or_1d(y, warn=True)\n"
     ]
    },
    {
     "name": "stdout",
     "output_type": "stream",
     "text": [
      "0.7644230769230769\n",
      "Accuracy:  0.7734615384615384  +/-  0.005626438014741475\n"
     ]
    }
   ],
   "source": [
    "scores = [0,0,0,0,0]\n",
    "\n",
    "for i in range(0,5):\n",
    "    classifier = svm.SVC(kernel='poly',degree=1,C=1,class_weight='balanced', verbose=True, probability=True)\n",
    "\n",
    "    X2_train, X2_test, y2_train, y2_test = train_test_split(X2_Training, y2_Training, test_size=0.2, random_state=i)\n",
    "    classifier.fit(np.array(X2_train), np.array(y2_train))\n",
    "    values = classifier.predict_proba(np.array(X2_test))\n",
    "    \n",
    "    correct = 0\n",
    "    counter = 0\n",
    "    for k in range(0,y2_test.size):\n",
    "        if np.amax(values[k]) == values[k][int(y2_test.iloc[k])]:\n",
    "            correct += 1\n",
    "        counter += 1\n",
    "        \n",
    "    scores[i] = correct/counter\n",
    "    print(scores[i])\n",
    "    \n",
    "print('Accuracy: ', np.array(scores).mean(), ' +/- ', np.array(scores).std())"
   ]
  },
  {
   "cell_type": "code",
   "execution_count": 28,
   "metadata": {},
   "outputs": [
    {
     "data": {
      "image/png": "[encoded data removed]",
      "text/plain": [
       "<Figure size 432x288 with 1 Axes>"
      ]
     },
     "metadata": {
      "needs_background": "light"
     },
     "output_type": "display_data"
    },
    {
     "name": "stdout",
     "output_type": "stream",
     "text": [
      "Accuracy:  0.7517294388931591\n"
     ]
    },
    {
     "data": {
      "image/png": "[encoded data removed]",
      "text/plain": [
       "<Figure size 432x288 with 1 Axes>"
      ]
     },
     "metadata": {
      "needs_background": "light"
     },
     "output_type": "display_data"
    },
    {
     "name": "stdout",
     "output_type": "stream",
     "text": [
      "Accuracy:  0.7517294388931591\n"
     ]
    },
    {
     "data": {
      "image/png": "[encoded data removed]",
      "text/plain": [
       "<Figure size 432x288 with 1 Axes>"
      ]
     },
     "metadata": {
      "needs_background": "light"
     },
     "output_type": "display_data"
    },
    {
     "name": "stdout",
     "output_type": "stream",
     "text": [
      "Accuracy:  0.7517294388931591\n"
     ]
    },
    {
     "data": {
      "image/png": "[encoded data removed]",
      "text/plain": [
       "<Figure size 432x288 with 1 Axes>"
      ]
     },
     "metadata": {
      "needs_background": "light"
     },
     "output_type": "display_data"
    },
    {
     "name": "stdout",
     "output_type": "stream",
     "text": [
      "Accuracy:  0.7517294388931591\n"
     ]
    },
    {
     "data": {
      "image/png": "[encoded data removed]",
      "text/plain": [
       "<Figure size 432x288 with 1 Axes>"
      ]
     },
     "metadata": {
      "needs_background": "light"
     },
     "output_type": "display_data"
    },
    {
     "name": "stdout",
     "output_type": "stream",
     "text": [
      "Accuracy:  0.7517294388931591\n"
     ]
    },
    {
     "data": {
      "image/png": "[encoded data removed]",
      "text/plain": [
       "<Figure size 432x288 with 1 Axes>"
      ]
     },
     "metadata": {
      "needs_background": "light"
     },
     "output_type": "display_data"
    },
    {
     "name": "stdout",
     "output_type": "stream",
     "text": [
      "Accuracy:  0.7517294388931591\n"
     ]
    },
    {
     "data": {
      "image/png": "[encoded data removed]",
      "text/plain": [
       "<Figure size 432x288 with 1 Axes>"
      ]
     },
     "metadata": {
      "needs_background": "light"
     },
     "output_type": "display_data"
    },
    {
     "name": "stdout",
     "output_type": "stream",
     "text": [
      "Accuracy:  0.7517294388931591\n"
     ]
    },
    {
     "data": {
      "image/png": "[encoded data removed]",
      "text/plain": [
       "<Figure size 432x288 with 1 Axes>"
      ]
     },
     "metadata": {
      "needs_background": "light"
     },
     "output_type": "display_data"
    },
    {
     "name": "stdout",
     "output_type": "stream",
     "text": [
      "Accuracy:  0.7517294388931591\n"
     ]
    },
    {
     "data": {
      "image/png": "[encoded data removed]",
      "text/plain": [
       "<Figure size 432x288 with 1 Axes>"
      ]
     },
     "metadata": {
      "needs_background": "light"
     },
     "output_type": "display_data"
    },
    {
     "name": "stdout",
     "output_type": "stream",
     "text": [
      "Accuracy:  0.7517294388931591\n"
     ]
    },
    {
     "data": {
      "image/png": "[encoded data removed]",
      "text/plain": [
       "<Figure size 432x288 with 1 Axes>"
      ]
     },
     "metadata": {
      "needs_background": "light"
     },
     "output_type": "display_data"
    },
    {
     "name": "stdout",
     "output_type": "stream",
     "text": [
      "Accuracy:  0.7517294388931591\n"
     ]
    }
   ],
   "source": [
    "values2 = classifier.predict_proba(np.array(X2_Testing))\n",
    "data2 = pd.DataFrame(data=values2)\n",
    "data2['Y'] = y2_Testing.authorship.to_frame().reset_index().drop(columns=['index'])\n",
    "data2.to_csv('92_split2_results.csv', index=False)\n",
    "\n",
    "for l in range(0,10):\n",
    "    probs = [0,0,0,0,0,0,0,0,0,0]\n",
    "    count = 0\n",
    "\n",
    "    for i,row in data2.iterrows():\n",
    "        if(row['Y'] == l):\n",
    "            count += 1\n",
    "            for k in range(0,10):\n",
    "                probs[k] += row[k]\n",
    "            count += 1\n",
    "\n",
    "    for k in range(0,10):\n",
    "        probs[k] = probs[k]/count\n",
    "\n",
    "    objects = ('1','2','3','4','5','6','7','8','9','10')\n",
    "    y_pos = np.arange(len(objects))\n",
    "    performance = probs\n",
    "\n",
    "    plt.bar(y_pos, performance, align='center', alpha=0.5)\n",
    "    plt.xticks(y_pos, objects)\n",
    "    plt.title('Probability distribution')\n",
    "\n",
    "    plt.show()\n",
    "    \n",
    "    correct = 0\n",
    "    counter = 0\n",
    "    for k in range(0,y2_Testing.size):\n",
    "        if np.amax(values2[k]) == values2[k][int(y2_Testing.iloc[k])]:\n",
    "            correct += 1\n",
    "        counter += 1\n",
    "        \n",
    "    print('Accuracy: ',correct/counter)"
   ]
  },
  {
   "cell_type": "code",
   "execution_count": 29,
   "metadata": {},
   "outputs": [
    {
     "data": {
      "image/png": "[encoded data removed]",
      "text/plain": [
       "<Figure size 432x288 with 1 Axes>"
      ]
     },
     "metadata": {
      "needs_background": "light"
     },
     "output_type": "display_data"
    },
    {
     "name": "stdout",
     "output_type": "stream",
     "text": [
      "[62, 70, 66, 5, 66, 12, 13, 6, 3, 20]\n"
     ]
    }
   ],
   "source": [
    "wrongPredictions = [0,0,0,0,0,0,0,0,0,0]\n",
    "\n",
    "for i,row in data2.iterrows():\n",
    "    if row[int(row['Y'])] != np.amax(row[:10]):\n",
    "        wrongPredictions[(int(row['Y']))] += 1\n",
    "        #print(i)\n",
    "        \n",
    "objects = ('1','2','3','4','5','6','7','8','9','10')\n",
    "y_pos = np.arange(len(objects))\n",
    "performance = wrongPredictions\n",
    "\n",
    "plt.bar(y_pos, performance, align='center', alpha=0.5)\n",
    "plt.xticks(y_pos, objects)\n",
    "plt.show()\n",
    "\n",
    "print(wrongPredictions)"
   ]
  },
  {
   "cell_type": "code",
   "execution_count": 30,
   "metadata": {},
   "outputs": [
    {
     "data": {
      "image/png": "[encoded data removed]",
      "text/plain": [
       "<Figure size 432x288 with 1 Axes>"
      ]
     },
     "metadata": {
      "needs_background": "light"
     },
     "output_type": "display_data"
    }
   ],
   "source": [
    "objects = ('1','2','3','4','5','6','7','8','9','10')\n",
    "y_pos = np.arange(len(objects))\n",
    "performance = values2[233]\n",
    "\n",
    "plt.bar(y_pos, performance, align='center', alpha=0.5)\n",
    "plt.xticks(y_pos, objects)\n",
    "plt.title('Probability distribution')\n",
    "\n",
    "plt.show()"
   ]
  },
  {
   "cell_type": "markdown",
   "metadata": {},
   "source": [
    "## Split 3"
   ]
  },
  {
   "cell_type": "code",
   "execution_count": 31,
   "metadata": {},
   "outputs": [
    {
     "data": {
      "text/plain": [
       "LYNCH        1025\n",
       "TORRUELLA     841\n",
       "SELYA         819\n",
       "LIPEZ         691\n",
       "HOWARD        516\n",
       "BOUDIN        488\n",
       "STAHL         361\n",
       "THOMPSON      271\n",
       "KAYATTA       180\n",
       "BARRON        139\n",
       "Name: authorship, dtype: int64"
      ]
     },
     "execution_count": 31,
     "metadata": {},
     "output_type": "execute_result"
    }
   ],
   "source": [
    "split3.authorship.value_counts()"
   ]
  },
  {
   "cell_type": "code",
   "execution_count": 32,
   "metadata": {},
   "outputs": [
    {
     "name": "stdout",
     "output_type": "stream",
     "text": [
      "Number of Datapoints:  5331\n"
     ]
    }
   ],
   "source": [
    "print('Number of Datapoints: ', split3.shape[0])"
   ]
  },
  {
   "cell_type": "code",
   "execution_count": 33,
   "metadata": {},
   "outputs": [],
   "source": [
    "split3names = split3.authorship.unique()\n",
    "\n",
    "for index, name in enumerate(split3names):\n",
    "    split3.authorship = split3.authorship.str.replace(name, str(index))\n",
    "split3.authorship = split3.authorship.astype(int)"
   ]
  },
  {
   "cell_type": "code",
   "execution_count": 34,
   "metadata": {},
   "outputs": [],
   "source": [
    "vectorizer3 = CountVectorizer(lowercase=False, ngram_range=(1,3), min_df=30, max_features=3000)\n",
    "bowM3 = vectorizer3.fit_transform(split3.opinion)\n",
    "#print(bowM3.toarray().shape)\n",
    "#print(vectorizer3.get_feature_names())"
   ]
  },
  {
   "cell_type": "code",
   "execution_count": 35,
   "metadata": {},
   "outputs": [],
   "source": [
    "X3 = pd.DataFrame.sparse.from_spmatrix(bowM3)\n",
    "X3 = X3.sparse.to_dense()"
   ]
  },
  {
   "cell_type": "code",
   "execution_count": 36,
   "metadata": {},
   "outputs": [],
   "source": [
    "for x in range(0,len(X3.columns)):\n",
    "    mean = X3.iloc[:,x].mean()\n",
    "    std = X3.iloc[:,x].std()\n",
    "    X3.iloc[:,x] = (X3.iloc[:,x] - mean)/std"
   ]
  },
  {
   "cell_type": "code",
   "execution_count": 37,
   "metadata": {},
   "outputs": [],
   "source": [
    "Y3 = split3.authorship.to_frame().reset_index().drop(columns=['index'])\n",
    "\n",
    "X3_Training, X3_Testing, y3_Training, y3_Testing = train_test_split(X3, Y3, test_size=0.2, random_state=1234)"
   ]
  },
  {
   "cell_type": "code",
   "execution_count": 38,
   "metadata": {},
   "outputs": [
    {
     "name": "stderr",
     "output_type": "stream",
     "text": [
      "/home/nicolas/.local/lib/python3.6/site-packages/sklearn/utils/validation.py:760: DataConversionWarning: A column-vector y was passed when a 1d array was expected. Please change the shape of y to (n_samples, ), for example using ravel().\n",
      "  y = column_or_1d(y, warn=True)\n"
     ]
    },
    {
     "name": "stdout",
     "output_type": "stream",
     "text": [
      "[LibSVM]0.7655334114888629\n",
      "[LibSVM]"
     ]
    },
    {
     "name": "stderr",
     "output_type": "stream",
     "text": [
      "/home/nicolas/.local/lib/python3.6/site-packages/sklearn/utils/validation.py:760: DataConversionWarning: A column-vector y was passed when a 1d array was expected. Please change the shape of y to (n_samples, ), for example using ravel().\n",
      "  y = column_or_1d(y, warn=True)\n"
     ]
    },
    {
     "name": "stdout",
     "output_type": "stream",
     "text": [
      "0.7831184056271981\n",
      "[LibSVM]"
     ]
    },
    {
     "name": "stderr",
     "output_type": "stream",
     "text": [
      "/home/nicolas/.local/lib/python3.6/site-packages/sklearn/utils/validation.py:760: DataConversionWarning: A column-vector y was passed when a 1d array was expected. Please change the shape of y to (n_samples, ), for example using ravel().\n",
      "  y = column_or_1d(y, warn=True)\n"
     ]
    },
    {
     "name": "stdout",
     "output_type": "stream",
     "text": [
      "0.7702227432590856\n",
      "[LibSVM]"
     ]
    },
    {
     "name": "stderr",
     "output_type": "stream",
     "text": [
      "/home/nicolas/.local/lib/python3.6/site-packages/sklearn/utils/validation.py:760: DataConversionWarning: A column-vector y was passed when a 1d array was expected. Please change the shape of y to (n_samples, ), for example using ravel().\n",
      "  y = column_or_1d(y, warn=True)\n"
     ]
    },
    {
     "name": "stdout",
     "output_type": "stream",
     "text": [
      "0.7995310668229777\n",
      "[LibSVM]"
     ]
    },
    {
     "name": "stderr",
     "output_type": "stream",
     "text": [
      "/home/nicolas/.local/lib/python3.6/site-packages/sklearn/utils/validation.py:760: DataConversionWarning: A column-vector y was passed when a 1d array was expected. Please change the shape of y to (n_samples, ), for example using ravel().\n",
      "  y = column_or_1d(y, warn=True)\n"
     ]
    },
    {
     "name": "stdout",
     "output_type": "stream",
     "text": [
      "0.7549824150058617\n",
      "Accuracy:  0.7746776084407971  +/-  0.015364271911283327\n"
     ]
    }
   ],
   "source": [
    "scores = [0,0,0,0,0]\n",
    "\n",
    "for i in range(0,5):\n",
    "    classifier = svm.SVC(kernel='poly',degree=1,C=1,class_weight='balanced', verbose=True, probability=True)\n",
    "\n",
    "    X3_train, X3_test, y3_train, y3_test = train_test_split(X3_Training, y3_Training, test_size=0.2, random_state=i)\n",
    "    classifier.fit(np.array(X3_train), np.array(y3_train))\n",
    "    values = classifier.predict_proba(np.array(X3_test))\n",
    "    \n",
    "    correct = 0\n",
    "    counter = 0\n",
    "    for k in range(0,y3_test.size):\n",
    "        if np.amax(values[k]) == values[k][int(y3_test.iloc[k])]:\n",
    "            correct += 1\n",
    "        counter += 1\n",
    "        \n",
    "    scores[i] = correct/counter\n",
    "    print(scores[i])\n",
    "    \n",
    "print('Accuracy: ', np.array(scores).mean(), ' +/- ', np.array(scores).std())"
   ]
  },
  {
   "cell_type": "code",
   "execution_count": 39,
   "metadata": {},
   "outputs": [
    {
     "data": {
      "image/png": "[encoded data removed]",
      "text/plain": [
       "<Figure size 432x288 with 1 Axes>"
      ]
     },
     "metadata": {
      "needs_background": "light"
     },
     "output_type": "display_data"
    },
    {
     "data": {
      "image/png": "[encoded data removed]",
      "text/plain": [
       "<Figure size 432x288 with 1 Axes>"
      ]
     },
     "metadata": {
      "needs_background": "light"
     },
     "output_type": "display_data"
    },
    {
     "data": {
      "image/png": "[encoded data removed]",
      "text/plain": [
       "<Figure size 432x288 with 1 Axes>"
      ]
     },
     "metadata": {
      "needs_background": "light"
     },
     "output_type": "display_data"
    },
    {
     "data": {
      "image/png": "[encoded data removed]",
      "text/plain": [
       "<Figure size 432x288 with 1 Axes>"
      ]
     },
     "metadata": {
      "needs_background": "light"
     },
     "output_type": "display_data"
    },
    {
     "data": {
      "image/png": "[encoded data removed]",
      "text/plain": [
       "<Figure size 432x288 with 1 Axes>"
      ]
     },
     "metadata": {
      "needs_background": "light"
     },
     "output_type": "display_data"
    },
    {
     "data": {
      "image/png": "[encoded data removed]",
      "text/plain": [
       "<Figure size 432x288 with 1 Axes>"
      ]
     },
     "metadata": {
      "needs_background": "light"
     },
     "output_type": "display_data"
    },
    {
     "data": {
      "image/png": "[encoded data removed]",
      "text/plain": [
       "<Figure size 432x288 with 1 Axes>"
      ]
     },
     "metadata": {
      "needs_background": "light"
     },
     "output_type": "display_data"
    },
    {
     "data": {
      "image/png": "[encoded data removed]",
      "text/plain": [
       "<Figure size 432x288 with 1 Axes>"
      ]
     },
     "metadata": {
      "needs_background": "light"
     },
     "output_type": "display_data"
    },
    {
     "data": {
      "image/png": "[encoded data removed]",
      "text/plain": [
       "<Figure size 432x288 with 1 Axes>"
      ]
     },
     "metadata": {
      "needs_background": "light"
     },
     "output_type": "display_data"
    },
    {
     "data": {
      "image/png": "[encoded data removed]",
      "text/plain": [
       "<Figure size 432x288 with 1 Axes>"
      ]
     },
     "metadata": {
      "needs_background": "light"
     },
     "output_type": "display_data"
    }
   ],
   "source": [
    "values3 = classifier.predict_proba(np.array(X3_Testing))\n",
    "data3 = pd.DataFrame(data=values3)\n",
    "data3['Y'] = y3_Testing.authorship.to_frame().reset_index().drop(columns=['index'])\n",
    "data3.to_csv('92_split3_results.csv', index=False)\n",
    "\n",
    "for l in range(0,10):\n",
    "    probs = [0,0,0,0,0,0,0,0,0,0]\n",
    "    count = 0\n",
    "\n",
    "    for i,row in data3.iterrows():\n",
    "        if(row['Y'] == l):\n",
    "            count += 1\n",
    "            for k in range(0,10):\n",
    "                probs[k] += row[k]\n",
    "            count += 1\n",
    "\n",
    "    for k in range(0,10):\n",
    "        probs[k] = probs[k]/count\n",
    "\n",
    "    objects = ('1','2','3','4','5','6','7','8','9','10')\n",
    "    y_pos = np.arange(len(objects))\n",
    "    performance = probs\n",
    "\n",
    "    plt.bar(y_pos, performance, align='center', alpha=0.5)\n",
    "    plt.xticks(y_pos, objects)\n",
    "    plt.title('Probability distribution')\n",
    "\n",
    "    plt.show()"
   ]
  },
  {
   "cell_type": "code",
   "execution_count": 40,
   "metadata": {},
   "outputs": [
    {
     "data": {
      "image/png": "[encoded data removed]",
      "text/plain": [
       "<Figure size 432x288 with 1 Axes>"
      ]
     },
     "metadata": {
      "needs_background": "light"
     },
     "output_type": "display_data"
    },
    {
     "name": "stdout",
     "output_type": "stream",
     "text": [
      "[31, 45, 1, 33, 32, 5, 55, 13, 10, 5]\n"
     ]
    }
   ],
   "source": [
    "wrongPredictions = [0,0,0,0,0,0,0,0,0,0]\n",
    "\n",
    "for i,row in data3.iterrows():\n",
    "    if row[int(row['Y'])] != np.amax(row[:10]):\n",
    "        wrongPredictions[(int(row['Y']))] += 1\n",
    "        #print(i)\n",
    "        \n",
    "objects = ('1','2','3','4','5','6','7','8','9','10')\n",
    "y_pos = np.arange(len(objects))\n",
    "performance = wrongPredictions\n",
    "\n",
    "plt.bar(y_pos, performance, align='center', alpha=0.5)\n",
    "plt.xticks(y_pos, objects)\n",
    "plt.show()\n",
    "\n",
    "print(wrongPredictions)"
   ]
  },
  {
   "cell_type": "code",
   "execution_count": 41,
   "metadata": {},
   "outputs": [
    {
     "data": {
      "image/png": "[encoded data removed]",
      "text/plain": [
       "<Figure size 432x288 with 1 Axes>"
      ]
     },
     "metadata": {
      "needs_background": "light"
     },
     "output_type": "display_data"
    }
   ],
   "source": [
    "objects = ('1','2','3','4','5','6','7','8','9','10')\n",
    "y_pos = np.arange(len(objects))\n",
    "performance = values3[233]\n",
    "\n",
    "plt.bar(y_pos, performance, align='center', alpha=0.5)\n",
    "plt.xticks(y_pos, objects)\n",
    "plt.title('Probability distribution')\n",
    "\n",
    "plt.show()"
   ]
  },
  {
   "cell_type": "code",
   "execution_count": null,
   "metadata": {},
   "outputs": [],
   "source": []
  },
  {
   "cell_type": "code",
   "execution_count": null,
   "metadata": {},
   "outputs": [],
   "source": []
  }
 ],
 "metadata": {
  "kernelspec": {
   "display_name": "Python 3",
   "language": "python",
   "name": "python3"
  },
  "language_info": {
   "codemirror_mode": {
    "name": "ipython",
    "version": 3
   },
   "file_extension": ".py",
   "mimetype": "text/x-python",
   "name": "python",
   "nbconvert_exporter": "python",
   "pygments_lexer": "ipython3",
   "version": "3.7.6"
  }
 },
 "nbformat": 4,
 "nbformat_minor": 4
}
