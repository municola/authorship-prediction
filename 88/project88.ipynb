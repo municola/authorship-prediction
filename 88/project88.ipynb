{
 "cells": [
  {
   "cell_type": "code",
   "execution_count": 1,
   "metadata": {},
   "outputs": [],
   "source": [
    "import pandas as pd\n",
    "import matplotlib.pyplot as plt\n",
    "import re\n",
    "import nltk\n",
    "from sklearn.feature_extraction.text import CountVectorizer\n",
    "from sklearn.model_selection import train_test_split\n",
    "from sklearn import svm\n",
    "import numpy as np\n",
    "from sklearn.ensemble import RandomForestClassifier"
   ]
  },
  {
   "cell_type": "code",
   "execution_count": 2,
   "metadata": {},
   "outputs": [
    {
     "data": {
      "text/plain": [
       "PER CURIAM    12268\n",
       "WIDENER        1085\n",
       "WILKINSON      1021\n",
       "PARKER          941\n",
       "SOPER           922\n",
       "NIEMEYER        869\n",
       "WINTER          796\n",
       "BUTZNER         773\n",
       "MURNAGHAN       661\n",
       "ERVIN           648\n",
       "HAYNSWORTH      637\n",
       "RUSSELL         584\n",
       "PHILLIPS        569\n",
       "SOBELOFF        540\n",
       "SIMONTON        473\n",
       "DOBIE           467\n",
       "HALL            464\n",
       "WILKINS         462\n",
       "BRYAN           446\n",
       "GREGORY         429\n",
       "KING            417\n",
       "SPROUSE         410\n",
       "NORTHCOTT       407\n",
       "LUTTIG          383\n",
       "CHAPMAN         370\n",
       "WILLIAMS        366\n",
       "WOODS           366\n",
       "TRAXLER         360\n",
       "BOREMAN         355\n",
       "CRAVEN          327\n",
       "Name: authorship, dtype: int64"
      ]
     },
     "execution_count": 2,
     "metadata": {},
     "output_type": "execute_result"
    }
   ],
   "source": [
    "df = pd.read_csv(\"ca88.csv.gz\",compression='gzip')\n",
    "df.authorship.value_counts().head(30)"
   ]
  },
  {
   "cell_type": "code",
   "execution_count": 3,
   "metadata": {},
   "outputs": [
    {
     "data": {
      "text/html": [
       "<div>\n",
       "<style scoped>\n",
       "    .dataframe tbody tr th:only-of-type {\n",
       "        vertical-align: middle;\n",
       "    }\n",
       "\n",
       "    .dataframe tbody tr th {\n",
       "        vertical-align: top;\n",
       "    }\n",
       "\n",
       "    .dataframe thead th {\n",
       "        text-align: right;\n",
       "    }\n",
       "</style>\n",
       "<table border=\"1\" class=\"dataframe\">\n",
       "  <thead>\n",
       "    <tr style=\"text-align: right;\">\n",
       "      <th></th>\n",
       "      <th>dc_identifier</th>\n",
       "      <th>opinion</th>\n",
       "      <th>authorship</th>\n",
       "      <th>date_standard</th>\n",
       "    </tr>\n",
       "  </thead>\n",
       "  <tbody>\n",
       "    <tr>\n",
       "      <th>1</th>\n",
       "      <td>3S4W-WCK0-0039-M4FH-00000-00</td>\n",
       "      <td>The plaintiffs, National Carloading Corp. and ...</td>\n",
       "      <td>WIDENER</td>\n",
       "      <td>1979</td>\n",
       "    </tr>\n",
       "    <tr>\n",
       "      <th>2</th>\n",
       "      <td>3YMS-NDR0-0038-X1JY-00000-00</td>\n",
       "      <td>WIDENER, Circuit Judge:\\n\\nThe claimant, Zeb A...</td>\n",
       "      <td>WIDENER</td>\n",
       "      <td>2000</td>\n",
       "    </tr>\n",
       "    <tr>\n",
       "      <th>22</th>\n",
       "      <td>3S4X-4SJ0-0039-P13N-00000-00</td>\n",
       "      <td>WIDENER, Circuit Judge: \\n\\nAppellant, Michael...</td>\n",
       "      <td>WIDENER</td>\n",
       "      <td>1986</td>\n",
       "    </tr>\n",
       "    <tr>\n",
       "      <th>58</th>\n",
       "      <td>3S4X-HFJ0-0039-P0TV-00000-00</td>\n",
       "      <td>Following reargument en banc, and prior to our...</td>\n",
       "      <td>WIDENER</td>\n",
       "      <td>1985</td>\n",
       "    </tr>\n",
       "    <tr>\n",
       "      <th>121</th>\n",
       "      <td>3S4X-D2B0-003B-54PR-00000-00</td>\n",
       "      <td>WIDENER, Circuit Judge: \\n\\nFrank Garcia was c...</td>\n",
       "      <td>WIDENER</td>\n",
       "      <td>1989</td>\n",
       "    </tr>\n",
       "    <tr>\n",
       "      <th>...</th>\n",
       "      <td>...</td>\n",
       "      <td>...</td>\n",
       "      <td>...</td>\n",
       "      <td>...</td>\n",
       "    </tr>\n",
       "    <tr>\n",
       "      <th>35998</th>\n",
       "      <td>3S4X-1DB0-0039-Y1SD-00000-00</td>\n",
       "      <td>Smarting from the forfeiture of its $ 4,585.68...</td>\n",
       "      <td>CRAVEN</td>\n",
       "      <td>1964</td>\n",
       "    </tr>\n",
       "    <tr>\n",
       "      <th>36036</th>\n",
       "      <td>3S4X-49R0-0039-Y38N-00000-00</td>\n",
       "      <td>This is a criminal case in which appellant was...</td>\n",
       "      <td>CRAVEN</td>\n",
       "      <td>1961</td>\n",
       "    </tr>\n",
       "    <tr>\n",
       "      <th>36615</th>\n",
       "      <td>3S4X-KYM0-0039-X3BN-00000-00</td>\n",
       "      <td>[EDITOR'S NOTE: The page numbers of this docum...</td>\n",
       "      <td>CRAVEN</td>\n",
       "      <td>1970</td>\n",
       "    </tr>\n",
       "    <tr>\n",
       "      <th>36827</th>\n",
       "      <td>3S4W-YFY0-0039-Y4V2-00000-00</td>\n",
       "      <td>CRAVEN, District Judge. \\n\\nThese are three ap...</td>\n",
       "      <td>CRAVEN</td>\n",
       "      <td>1966</td>\n",
       "    </tr>\n",
       "    <tr>\n",
       "      <th>37959</th>\n",
       "      <td>3S4X-2VN0-0039-Y2RC-00000-00</td>\n",
       "      <td>CRAVEN, District Judge (dissenting).\\n\\nOrdina...</td>\n",
       "      <td>CRAVEN</td>\n",
       "      <td>1963</td>\n",
       "    </tr>\n",
       "  </tbody>\n",
       "</table>\n",
       "<p>16480 rows × 4 columns</p>\n",
       "</div>"
      ],
      "text/plain": [
       "                      dc_identifier  \\\n",
       "1      3S4W-WCK0-0039-M4FH-00000-00   \n",
       "2      3YMS-NDR0-0038-X1JY-00000-00   \n",
       "22     3S4X-4SJ0-0039-P13N-00000-00   \n",
       "58     3S4X-HFJ0-0039-P0TV-00000-00   \n",
       "121    3S4X-D2B0-003B-54PR-00000-00   \n",
       "...                             ...   \n",
       "35998  3S4X-1DB0-0039-Y1SD-00000-00   \n",
       "36036  3S4X-49R0-0039-Y38N-00000-00   \n",
       "36615  3S4X-KYM0-0039-X3BN-00000-00   \n",
       "36827  3S4W-YFY0-0039-Y4V2-00000-00   \n",
       "37959  3S4X-2VN0-0039-Y2RC-00000-00   \n",
       "\n",
       "                                                 opinion authorship  \\\n",
       "1      The plaintiffs, National Carloading Corp. and ...    WIDENER   \n",
       "2      WIDENER, Circuit Judge:\\n\\nThe claimant, Zeb A...    WIDENER   \n",
       "22     WIDENER, Circuit Judge: \\n\\nAppellant, Michael...    WIDENER   \n",
       "58     Following reargument en banc, and prior to our...    WIDENER   \n",
       "121    WIDENER, Circuit Judge: \\n\\nFrank Garcia was c...    WIDENER   \n",
       "...                                                  ...        ...   \n",
       "35998  Smarting from the forfeiture of its $ 4,585.68...     CRAVEN   \n",
       "36036  This is a criminal case in which appellant was...     CRAVEN   \n",
       "36615  [EDITOR'S NOTE: The page numbers of this docum...     CRAVEN   \n",
       "36827  CRAVEN, District Judge. \\n\\nThese are three ap...     CRAVEN   \n",
       "37959  CRAVEN, District Judge (dissenting).\\n\\nOrdina...     CRAVEN   \n",
       "\n",
       "       date_standard  \n",
       "1               1979  \n",
       "2               2000  \n",
       "22              1986  \n",
       "58              1985  \n",
       "121             1989  \n",
       "...              ...  \n",
       "35998           1964  \n",
       "36036           1961  \n",
       "36615           1970  \n",
       "36827           1966  \n",
       "37959           1963  \n",
       "\n",
       "[16480 rows x 4 columns]"
      ]
     },
     "execution_count": 3,
     "metadata": {},
     "output_type": "execute_result"
    }
   ],
   "source": [
    "df.authorship = df.authorship.str.upper()\n",
    "names = []\n",
    "for i in df.authorship.value_counts().head(100).index:\n",
    "    if i != 'PER CURIAM':\n",
    "        names.append(i)\n",
    "copy = pd.DataFrame()\n",
    "temp = df[df.word_count > 50]\n",
    "for name in names:\n",
    "    copy = copy.append(temp[temp.authorship == name])\n",
    "copy.date_standard = copy.date_standard.str[:4]\n",
    "copy.date_standard = copy.date_standard.astype(int)\n",
    "copy = copy.drop(columns=['opinion_type','opinion_id','word_count','authors','dc_source','judges_refined'])\n",
    "copy"
   ]
  },
  {
   "cell_type": "code",
   "execution_count": 4,
   "metadata": {},
   "outputs": [
    {
     "data": {
      "text/plain": [
       "<matplotlib.axes._subplots.AxesSubplot at 0x299c400f388>"
      ]
     },
     "execution_count": 4,
     "metadata": {},
     "output_type": "execute_result"
    },
    {
     "data": {
      "image/png": "[encoded data removed]",
      "text/plain": [
       "<Figure size 432x288 with 1 Axes>"
      ]
     },
     "metadata": {
      "needs_background": "light"
     },
     "output_type": "display_data"
    }
   ],
   "source": [
    "copy[copy.authorship == names[0]].date_standard.value_counts().sort_index().plot(kind='bar')"
   ]
  },
  {
   "cell_type": "code",
   "execution_count": 5,
   "metadata": {},
   "outputs": [],
   "source": [
    "copy.opinion = copy.opinion.str.replace('Senior Circuit Judge','')\n",
    "copy.opinion = copy.opinion.str.replace('Senior Circuit Judge'.upper(),'')\n",
    "copy.opinion = copy.opinion.str.replace('Senior District Judge','')\n",
    "copy.opinion = copy.opinion.str.replace('Senior District Judge'.upper(),'')\n",
    "copy.opinion = copy.opinion.str.replace('Circuit Judges','')\n",
    "copy.opinion = copy.opinion.str.replace('CIRCUIT JUDGES','')\n",
    "copy.opinion = copy.opinion.str.replace('District Judges','')\n",
    "copy.opinion = copy.opinion.str.replace('District Judges'.upper(),'')\n",
    "copy.opinion = copy.opinion.str.replace('District Judge','')\n",
    "copy.opinion = copy.opinion.str.replace('District Judge'.upper(),'')\n",
    "copy.opinion = copy.opinion.str.replace('Circuit Judge','')\n",
    "copy.opinion = copy.opinion.str.replace('CIRCUIT JUDGE','')\n",
    "copy.opinion = copy.opinion.str.replace('Circuit Justice','')\n",
    "copy.opinion = copy.opinion.str.replace('Circuit Justice'.upper(),'')\n",
    "copy.opinion = copy.opinion.str.replace('D\\.J\\.','')\n",
    "copy.opinion = copy.opinion.str.replace('D\\. J\\.','')\n",
    "copy.opinion = copy.opinion.str.replace('C\\.J\\.','')\n",
    "copy.opinion = copy.opinion.str.replace('C\\. J\\.','')\n",
    "copy.opinion = copy.opinion.str.replace('Senior Judge','')\n",
    "copy.opinion = copy.opinion.str.replace('Senior Judge'.upper(),'')\n",
    "copy.opinion = copy.opinion.str.replace('Associate Justice','')\n",
    "copy.opinion = copy.opinion.str.replace('Associate Justice'.upper(),'')\n",
    "copy.opinion = copy.opinion.str.replace('Chief Judge','')\n",
    "copy.opinion = copy.opinion.str.replace('Chief Judge'.upper(),'')\n",
    "copy.opinion = copy.opinion.str.replace('Judge','')\n",
    "copy.opinion = copy.opinion.str.replace('Judge'.upper(),'')\n",
    "\n",
    "for name in names:\n",
    "    copy.opinion = copy.opinion.str.replace(name.upper(),'')\n",
    "    copy.opinion = copy.opinion.str.replace(name,'')\n",
    "    copy.opinion = copy.opinion.str.replace(name[:1].upper()+name[1:].lower(),'')\n",
    "\n",
    "\n",
    "copy.opinion = copy.opinion.str.replace('ALBERT',' ')\n",
    "copy.opinion = copy.opinion.str.replace('DONALD',' ')\n",
    "copy.opinion = copy.opinion.str.replace('Albert',' ')\n",
    "copy.opinion = copy.opinion.str.replace('Donald',' ')\n",
    "copy.opinion = copy.opinion.str.replace('\\n',' ')"
   ]
  },
  {
   "cell_type": "code",
   "execution_count": 6,
   "metadata": {},
   "outputs": [],
   "source": [
    "copy.opinion = copy.opinion.str.replace('\\\\\\'','')\n",
    "copy.opinion = copy.opinion.str.replace('(','')\n",
    "copy.opinion = copy.opinion.str.replace(')','')\n",
    "copy.opinion = copy.opinion.apply(lambda x: re.sub(r\"\\s\\w\\.\", \"\", x))\n",
    "copy.opinion = copy.opinion.apply(lambda x: re.sub(r\"\\s\\.\\s\", \" \", x))\n",
    "copy.opinion = copy.opinion.apply(lambda x: re.sub(r\"\\s\\.\\s\", \" \", x))\n",
    "copy.opinion = copy.opinion.apply(lambda x: re.sub(r\"\\s\\,\", \",\", x))\n",
    "copy.opinion = copy.opinion.apply(lambda x: re.sub(r\"\\d+\", \"\", x))\n",
    "copy.opinion = copy.opinion.apply(lambda x: re.sub(r\"-\", \"\", x))\n",
    "copy.opinion = copy.opinion.str.replace('S\\.C\\.','')\n",
    "copy.opinion = copy.opinion.str.replace('Ct\\.','Ct')\n",
    "copy.opinion = copy.opinion.str.replace('Ed\\.','Ed')\n",
    "copy.opinion = copy.opinion.str.replace('Dec\\.','Dec')\n",
    "copy.opinion = copy.opinion.str.replace(' No\\.',' No')\n",
    "copy.opinion = copy.opinion.str.replace(' pt\\.',' pt')\n",
    "copy.opinion = copy.opinion.str.replace(' Rep\\.',' Rep')\n",
    "copy.opinion = copy.opinion.str.replace(' Tr\\.',' Tr')\n",
    "copy.opinion = copy.opinion.str.replace(' Arg\\.',' Arg')\n",
    "copy.opinion = copy.opinion.str.replace(' Nev\\.',' Nev')\n",
    "copy.opinion = copy.opinion.str.replace(' Rev\\.',' Rev')\n",
    "copy.opinion = copy.opinion.str.replace(' Stat\\.',' Stat')\n",
    "copy.opinion = copy.opinion.str.replace(' Cent\\.',' Cent')\n",
    "copy.opinion = copy.opinion.str.replace(' Ore\\.',' Ore')\n",
    "copy.opinion = copy.opinion.str.replace(' Co\\.',' Co')\n",
    "copy.opinion = copy.opinion.str.replace(' Ins\\.',' Ins')\n",
    "copy.opinion = copy.opinion.str.replace('S\\.','')\n",
    "copy.opinion = copy.opinion.str.replace('Cf\\.','Cf')\n",
    "copy.opinion = copy.opinion.str.replace('Id\\.','Id')\n",
    "copy.opinion = copy.opinion.str.replace(' ,',',')\n",
    "copy.opinion = copy.opinion.str.replace(' \\.','.')\n",
    "copy.opinion = copy.opinion.str.replace('§','')\n",
    "copy.opinion = copy.opinion.str.replace('$','')\n",
    "copy.opinion = copy.opinion.str.replace('\\.\\.','.')\n",
    "copy.opinion = copy.opinion.str.replace('\\.\\.','.')\n",
    "copy.opinion = copy.opinion.str.replace(',,',',')\n",
    "copy.opinion = copy.opinion.str.replace(',,',',')\n",
    "copy.opinion = copy.opinion.str.replace(',\\.',',')\n",
    "copy.opinion = copy.opinion.str.replace('\"',' ')\n",
    "copy.opinion = copy.opinion.str.replace('II','')\n",
    "copy.opinion = copy.opinion.str.replace('III','')\n",
    "copy.opinion = copy.opinion.str.replace('  ',' ')"
   ]
  },
  {
   "cell_type": "code",
   "execution_count": 7,
   "metadata": {},
   "outputs": [
    {
     "name": "stdout",
     "output_type": "stream",
     "text": [
      "WIDENER\n",
      "\n",
      "The plaintiffs, National Carloading Corp. and Goodyear Tire and Rubber Co, brought this diversity action against Astro Van Lines, Inc. Astro and Jerry Sills Sills to recover debts originally owed by V\n",
      "\n",
      "\n",
      ", : The claimant, Zeb Artis, Jr., worked as a brakeman at the Norfolk & Western Railway Companys Barney Yard at Lamberts Point terminal in Norfolk, Virginia. He assisted in moving loaded and empty rai\n",
      "\n",
      "\n",
      ", :  Appellant, Michael Robert Brown, was tried and convicted in the United States District Court for the Western District of North Carolina on two counts of mail fraud in violation of  and b, one cou\n",
      "\n",
      "\n",
      "Following reargument en banc, and prior to our decision, Hellenic Lines filed a bankruptcy proceeding in the United States Bankruptcy Court for the Southern District of New York, Case No B. As a resul\n",
      "\n",
      "\n",
      ", :  Frank Garcia was convicted, following a jury trial, of using a deadly or dangerous weapon in resisting a federal officer, in violation of  and ; transporting a stolen vehicle in interstate commer\n",
      "\n",
      "\n",
      ", dissenting: I respectfully dissent from the majority opinion that the exclusion of pregnancy related disability from the application of an employee disability benefits program is prohibited by Title\n",
      "\n",
      "\n",
      ", concurring:  Although I concur in s opinion on the question of the validity of the search and in the result reached in that opinion on the admissibility of Officer Neals statement and Officer Hernan\n",
      "\n",
      "\n",
      ", concurring: I concur in the result. I write separately, however, because I am of opinion that the district court correctly determined that it lacked subject matter jurisdiction under the RookerFeldm\n",
      "\n",
      "\n",
      ", dissenting: I respectfully dissent with respect to Section of the majority opinion and would reverse the judgment of the district court denying the defendants motion to dismiss the indictment on the\n",
      "\n",
      "\n",
      ", : This case involves a suit for refund of federal excise taxes on wagering and a counterclaim on account of such taxes filed by the United States for the years and in the total amount of , No issue \n",
      "\n",
      "\n"
     ]
    }
   ],
   "source": [
    "# Prints the first 200 characters of the first 10 cleaned opinion texts of a given judge.\n",
    "judge = 0\n",
    "print(names[judge]+'\\n')\n",
    "for x in range(10):\n",
    "    print(copy.opinion[copy.loc[copy.authorship==names[judge]].index[x]][:200]+'\\n\\n')"
   ]
  },
  {
   "cell_type": "code",
   "execution_count": 8,
   "metadata": {
    "scrolled": true
   },
   "outputs": [
    {
     "name": "stdout",
     "output_type": "stream",
     "text": [
      "totalNum = 13846\n",
      "(4902, 4)\n",
      "(6027, 4)\n",
      "(2917, 4)\n"
     ]
    },
    {
     "name": "stderr",
     "output_type": "stream",
     "text": [
      "c:\\program files\\python37\\lib\\site-packages\\ipykernel_launcher.py:9: UserWarning: Boolean Series key will be reindexed to match DataFrame index.\n",
      "  if __name__ == '__main__':\n",
      "c:\\program files\\python37\\lib\\site-packages\\ipykernel_launcher.py:11: UserWarning: Boolean Series key will be reindexed to match DataFrame index.\n",
      "  # This is added back by InteractiveShellApp.init_path()\n",
      "c:\\program files\\python37\\lib\\site-packages\\ipykernel_launcher.py:57: UserWarning: Boolean Series key will be reindexed to match DataFrame index.\n",
      "c:\\program files\\python37\\lib\\site-packages\\ipykernel_launcher.py:59: UserWarning: Boolean Series key will be reindexed to match DataFrame index.\n"
     ]
    },
    {
     "name": "stdout",
     "output_type": "stream",
     "text": [
      "(4656, 4)\n",
      "(4603, 4)\n",
      "(4700, 4)\n",
      "top = 1991 bot = 1967\n",
      "totalNum = 13959\n",
      "(4656, 4)\n",
      "(4603, 4)\n",
      "(4700, 4)\n",
      "(4656, 4)\n",
      "(4603, 4)\n",
      "(4700, 4)\n",
      "top = 1991 bot = 1967\n",
      "totalNum = 13959\n",
      "(4656, 4)\n",
      "(4603, 4)\n",
      "(4700, 4)\n",
      "(4656, 4)\n",
      "(4603, 4)\n",
      "(4700, 4)\n",
      "top = 1991 bot = 1967\n"
     ]
    }
   ],
   "source": [
    "#get rough estimate for total number of top 10 authors in all 3 splits\n",
    "top = 2000\n",
    "bot = 1970\n",
    "split1 = pd.DataFrame()\n",
    "for x in copy[copy.date_standard<=bot].authorship.value_counts().head(10).index:\n",
    "    temp = copy[copy.authorship == x]\n",
    "    split1 = split1.append(temp[temp.date_standard<=bot])\n",
    "split2 = pd.DataFrame()\n",
    "for x in copy[copy.date_standard<top][copy.date_standard>bot].authorship.value_counts().head(10).index:\n",
    "    temp = copy[copy.authorship == x]\n",
    "    split2 = split2.append(temp[temp.date_standard<top][temp.date_standard>bot])\n",
    "split3 = pd.DataFrame()\n",
    "for x in copy[copy.date_standard>=top].authorship.value_counts().head(10).index:\n",
    "    temp = copy[copy.authorship == x]\n",
    "    split3 = split3.append(temp[temp.date_standard>=top])\n",
    "\n",
    "for i in range(3):\n",
    "    totalNum = split1.shape[0]+split2.shape[0]+split3.shape[0]\n",
    "    print('totalNum = '+str(totalNum))\n",
    "    print(split1.shape)\n",
    "    print(split2.shape)\n",
    "    print(split3.shape)    \n",
    "\n",
    "    #initialize the splits so we can iterate over them\n",
    "    top = 2020\n",
    "    bot = 1800\n",
    "    split1 = pd.DataFrame()\n",
    "    for x in copy[copy.date_standard<=bot].authorship.value_counts().head(10).index:\n",
    "        temp = copy[copy.authorship == x]\n",
    "        split1 = split1.append(temp[temp.date_standard<=bot])\n",
    "    split2 = pd.DataFrame()\n",
    "    for x in copy[copy.date_standard<top][copy.date_standard>bot].authorship.value_counts().head(10).index:\n",
    "        temp = copy[copy.authorship == x]\n",
    "        split2 = split2.append(temp[temp.date_standard<top][temp.date_standard>bot])\n",
    "    split3 = pd.DataFrame()\n",
    "    for x in copy[copy.date_standard>=top].authorship.value_counts().head(10).index:\n",
    "        temp = copy[copy.authorship == x]\n",
    "        split3 = split3.append(temp[temp.date_standard>=top])\n",
    "    \n",
    "    \n",
    "    \n",
    "    \n",
    "    #loop to iterate \n",
    "    while split1.shape[0] < totalNum/3:\n",
    "        bot += 1\n",
    "        split1 = pd.DataFrame()\n",
    "        for x in copy[copy.date_standard<=bot].authorship.value_counts().head(10).index:\n",
    "            temp = copy[copy.authorship == x]\n",
    "            split1 = split1.append(temp[temp.date_standard<=bot])    \n",
    "    while split3.shape[0] < totalNum/3:\n",
    "        top -= 1\n",
    "        split3 = pd.DataFrame()\n",
    "        for x in copy[copy.date_standard>=top].authorship.value_counts().head(10).index:\n",
    "            temp = copy[copy.authorship == x]\n",
    "            split3 = split3.append(temp[temp.date_standard>=top])\n",
    "    split2 = pd.DataFrame()\n",
    "    for x in copy[copy.date_standard<top][copy.date_standard>bot].authorship.value_counts().head(10).index:\n",
    "        temp = copy[copy.authorship == x]\n",
    "        split2 = split2.append(temp[temp.date_standard<top][temp.date_standard>bot])\n",
    "    \n",
    "\n",
    "    print(split1.shape)\n",
    "    print(split2.shape)\n",
    "    print(split3.shape)\n",
    "    print('top = '+str(top)+' bot = '+str(bot))"
   ]
  },
  {
   "cell_type": "markdown",
   "metadata": {},
   "source": [
    "# Bag of Words approach"
   ]
  },
  {
   "cell_type": "markdown",
   "metadata": {},
   "source": [
    "## Split 1"
   ]
  },
  {
   "cell_type": "code",
   "execution_count": 9,
   "metadata": {},
   "outputs": [
    {
     "data": {
      "text/plain": [
       "PARKER        941\n",
       "SOPER         918\n",
       "SIMONTON      472\n",
       "DOBIE         466\n",
       "SOBELOFF      407\n",
       "NORTHCOTT     404\n",
       "WOODS         360\n",
       "HAYNSWORTH    293\n",
       "BOREMAN       216\n",
       "BRYAN         179\n",
       "Name: authorship, dtype: int64"
      ]
     },
     "execution_count": 9,
     "metadata": {},
     "output_type": "execute_result"
    }
   ],
   "source": [
    "split1.authorship.value_counts()"
   ]
  },
  {
   "cell_type": "code",
   "execution_count": 10,
   "metadata": {},
   "outputs": [
    {
     "name": "stdout",
     "output_type": "stream",
     "text": [
      "Number of Datapoints:  4656\n"
     ]
    }
   ],
   "source": [
    "print('Number of Datapoints: ', split1.shape[0])"
   ]
  },
  {
   "cell_type": "code",
   "execution_count": 11,
   "metadata": {},
   "outputs": [],
   "source": [
    "split1names = split1.authorship.unique()\n",
    "\n",
    "for index, name in enumerate(split1names):\n",
    "    split1.authorship = split1.authorship.str.replace(name, str(index))\n",
    "split1.authorship = split1.authorship.astype(int)"
   ]
  },
  {
   "cell_type": "code",
   "execution_count": 12,
   "metadata": {},
   "outputs": [],
   "source": [
    "vectorizer1 = CountVectorizer(lowercase=False, ngram_range=(1,3), min_df=30, max_features=3000)\n",
    "bowM1 = vectorizer1.fit_transform(split1.opinion)\n",
    "#print(bowM1.toarray().shape)\n",
    "#print(vectorizer1.get_feature_names())"
   ]
  },
  {
   "cell_type": "code",
   "execution_count": 13,
   "metadata": {},
   "outputs": [],
   "source": [
    "X1 = pd.DataFrame.sparse.from_spmatrix(bowM1)\n",
    "X1 = X1.sparse.to_dense()"
   ]
  },
  {
   "cell_type": "code",
   "execution_count": 14,
   "metadata": {},
   "outputs": [],
   "source": [
    "for x in range(0,len(X1.columns)):\n",
    "    mean = X1.iloc[:,x].mean()\n",
    "    std = X1.iloc[:,x].std()\n",
    "    X1.iloc[:,x] = (X1.iloc[:,x] - mean)/std"
   ]
  },
  {
   "cell_type": "code",
   "execution_count": 15,
   "metadata": {},
   "outputs": [],
   "source": [
    "Y1 = split1.authorship.to_frame().reset_index().drop(columns=['index'])\n",
    "\n",
    "X1_Training, X1_Testing, y1_Training, y1_Testing = train_test_split(X1, Y1, test_size=0.2, random_state=1234)"
   ]
  },
  {
   "cell_type": "code",
   "execution_count": 16,
   "metadata": {},
   "outputs": [
    {
     "name": "stderr",
     "output_type": "stream",
     "text": [
      "c:\\program files\\python37\\lib\\site-packages\\sklearn\\utils\\validation.py:73: DataConversionWarning: A column-vector y was passed when a 1d array was expected. Please change the shape of y to (n_samples, ), for example using ravel().\n",
      "  return f(**kwargs)\n"
     ]
    },
    {
     "name": "stdout",
     "output_type": "stream",
     "text": [
      "[LibSVM]0.9530201342281879\n",
      "[LibSVM]"
     ]
    },
    {
     "name": "stderr",
     "output_type": "stream",
     "text": [
      "c:\\program files\\python37\\lib\\site-packages\\sklearn\\utils\\validation.py:73: DataConversionWarning: A column-vector y was passed when a 1d array was expected. Please change the shape of y to (n_samples, ), for example using ravel().\n",
      "  return f(**kwargs)\n"
     ]
    },
    {
     "name": "stdout",
     "output_type": "stream",
     "text": [
      "0.9543624161073826\n",
      "[LibSVM]"
     ]
    },
    {
     "name": "stderr",
     "output_type": "stream",
     "text": [
      "c:\\program files\\python37\\lib\\site-packages\\sklearn\\utils\\validation.py:73: DataConversionWarning: A column-vector y was passed when a 1d array was expected. Please change the shape of y to (n_samples, ), for example using ravel().\n",
      "  return f(**kwargs)\n"
     ]
    },
    {
     "name": "stdout",
     "output_type": "stream",
     "text": [
      "0.9583892617449664\n",
      "[LibSVM]"
     ]
    },
    {
     "name": "stderr",
     "output_type": "stream",
     "text": [
      "c:\\program files\\python37\\lib\\site-packages\\sklearn\\utils\\validation.py:73: DataConversionWarning: A column-vector y was passed when a 1d array was expected. Please change the shape of y to (n_samples, ), for example using ravel().\n",
      "  return f(**kwargs)\n"
     ]
    },
    {
     "name": "stdout",
     "output_type": "stream",
     "text": [
      "0.9651006711409396\n"
     ]
    },
    {
     "name": "stderr",
     "output_type": "stream",
     "text": [
      "c:\\program files\\python37\\lib\\site-packages\\sklearn\\utils\\validation.py:73: DataConversionWarning: A column-vector y was passed when a 1d array was expected. Please change the shape of y to (n_samples, ), for example using ravel().\n",
      "  return f(**kwargs)\n"
     ]
    },
    {
     "name": "stdout",
     "output_type": "stream",
     "text": [
      "[LibSVM]0.9409395973154362\n",
      "Accuracy:  0.9543624161073826  +/-  0.007918325478524904\n"
     ]
    }
   ],
   "source": [
    "scores = [0,0,0,0,0]\n",
    "\n",
    "for i in range(0,5):\n",
    "    classifier = svm.SVC(kernel='poly',degree=1,C=1,class_weight='balanced', verbose=True, probability=True)\n",
    "\n",
    "    X1_train, X1_test, y1_train, y1_test = train_test_split(X1_Training, y1_Training, test_size=0.2, random_state=i)\n",
    "    classifier.fit(np.array(X1_train), np.array(y1_train))\n",
    "    values = classifier.predict_proba(np.array(X1_test))\n",
    "    \n",
    "    correct = 0\n",
    "    counter = 0\n",
    "    for k in range(0,y1_test.size):\n",
    "        if np.amax(values[k]) == values[k][int(y1_test.iloc[k])]:\n",
    "            correct += 1\n",
    "        counter += 1\n",
    "        \n",
    "    scores[i] = correct/counter\n",
    "    print(scores[i])\n",
    "    \n",
    "print('Accuracy: ', np.array(scores).mean(), ' +/- ', np.array(scores).std())"
   ]
  },
  {
   "cell_type": "code",
   "execution_count": 17,
   "metadata": {},
   "outputs": [
    {
     "data": {
      "image/png": "[encoded data removed]",
      "text/plain": [
       "<Figure size 432x288 with 1 Axes>"
      ]
     },
     "metadata": {
      "needs_background": "light"
     },
     "output_type": "display_data"
    },
    {
     "name": "stdout",
     "output_type": "stream",
     "text": [
      "Accuracy:  0.9366952789699571\n"
     ]
    },
    {
     "data": {
      "image/png": "[encoded data removed]",
      "text/plain": [
       "<Figure size 432x288 with 1 Axes>"
      ]
     },
     "metadata": {
      "needs_background": "light"
     },
     "output_type": "display_data"
    },
    {
     "name": "stdout",
     "output_type": "stream",
     "text": [
      "Accuracy:  0.9366952789699571\n"
     ]
    },
    {
     "data": {
      "image/png": "[encoded data removed]",
      "text/plain": [
       "<Figure size 432x288 with 1 Axes>"
      ]
     },
     "metadata": {
      "needs_background": "light"
     },
     "output_type": "display_data"
    },
    {
     "name": "stdout",
     "output_type": "stream",
     "text": [
      "Accuracy:  0.9366952789699571\n"
     ]
    },
    {
     "data": {
      "image/png": "[encoded data removed]",
      "text/plain": [
       "<Figure size 432x288 with 1 Axes>"
      ]
     },
     "metadata": {
      "needs_background": "light"
     },
     "output_type": "display_data"
    },
    {
     "name": "stdout",
     "output_type": "stream",
     "text": [
      "Accuracy:  0.9366952789699571\n"
     ]
    },
    {
     "data": {
      "image/png": "[encoded data removed]",
      "text/plain": [
       "<Figure size 432x288 with 1 Axes>"
      ]
     },
     "metadata": {
      "needs_background": "light"
     },
     "output_type": "display_data"
    },
    {
     "name": "stdout",
     "output_type": "stream",
     "text": [
      "Accuracy:  0.9366952789699571\n"
     ]
    },
    {
     "data": {
      "image/png": "[encoded data removed]",
      "text/plain": [
       "<Figure size 432x288 with 1 Axes>"
      ]
     },
     "metadata": {
      "needs_background": "light"
     },
     "output_type": "display_data"
    },
    {
     "name": "stdout",
     "output_type": "stream",
     "text": [
      "Accuracy:  0.9366952789699571\n"
     ]
    },
    {
     "data": {
      "image/png": "[encoded data removed]",
      "text/plain": [
       "<Figure size 432x288 with 1 Axes>"
      ]
     },
     "metadata": {
      "needs_background": "light"
     },
     "output_type": "display_data"
    },
    {
     "name": "stdout",
     "output_type": "stream",
     "text": [
      "Accuracy:  0.9366952789699571\n"
     ]
    },
    {
     "data": {
      "image/png": "[encoded data removed]",
      "text/plain": [
       "<Figure size 432x288 with 1 Axes>"
      ]
     },
     "metadata": {
      "needs_background": "light"
     },
     "output_type": "display_data"
    },
    {
     "name": "stdout",
     "output_type": "stream",
     "text": [
      "Accuracy:  0.9366952789699571\n"
     ]
    },
    {
     "data": {
      "image/png": "[encoded data removed]",
      "text/plain": [
       "<Figure size 432x288 with 1 Axes>"
      ]
     },
     "metadata": {
      "needs_background": "light"
     },
     "output_type": "display_data"
    },
    {
     "name": "stdout",
     "output_type": "stream",
     "text": [
      "Accuracy:  0.9366952789699571\n"
     ]
    },
    {
     "data": {
      "image/png": "[encoded data removed]",
      "text/plain": [
       "<Figure size 432x288 with 1 Axes>"
      ]
     },
     "metadata": {
      "needs_background": "light"
     },
     "output_type": "display_data"
    },
    {
     "name": "stdout",
     "output_type": "stream",
     "text": [
      "Accuracy:  0.9366952789699571\n"
     ]
    }
   ],
   "source": [
    "values1 = classifier.predict_proba(np.array(X1_Testing))\n",
    "data1 = pd.DataFrame(data=values1)\n",
    "data1['Y'] = y1_Testing.authorship.to_frame().reset_index().drop(columns=['index'])\n",
    "data1.to_csv('88_split1_results.csv', index=False)\n",
    "\n",
    "for l in range(0,10):\n",
    "    probs = [0,0,0,0,0,0,0,0,0,0]\n",
    "    count = 0\n",
    "\n",
    "    for i,row in data1.iterrows():\n",
    "        if(row['Y'] == l):\n",
    "            for k in range(0,10):\n",
    "                probs[k] += row[k]\n",
    "            count += 1\n",
    "    \n",
    "    for k in range(0,10):\n",
    "        probs[k] = probs[k]/count\n",
    "\n",
    "    objects = ('1','2','3','4','5','6','7','8','9','10')\n",
    "    y_pos = np.arange(len(objects))\n",
    "    performance = probs\n",
    "\n",
    "    plt.bar(y_pos, performance, align='center', alpha=0.5)\n",
    "    plt.xticks(y_pos, objects)\n",
    "    plt.title('Probability distribution')\n",
    "\n",
    "    plt.show()\n",
    "    \n",
    "    correct = 0\n",
    "    counter = 0\n",
    "    for k in range(0,y1_Testing.size):\n",
    "        if np.amax(values1[k]) == values1[k][int(y1_Testing.iloc[k])]:\n",
    "            correct += 1\n",
    "        counter += 1\n",
    "        \n",
    "    print('Accuracy: ',correct/counter)"
   ]
  },
  {
   "cell_type": "code",
   "execution_count": 18,
   "metadata": {},
   "outputs": [
    {
     "data": {
      "image/png": "[encoded data removed]",
      "text/plain": [
       "<Figure size 432x288 with 1 Axes>"
      ]
     },
     "metadata": {
      "needs_background": "light"
     },
     "output_type": "display_data"
    },
    {
     "name": "stdout",
     "output_type": "stream",
     "text": [
      "[4, 4, 2, 5, 13, 12, 3, 2, 11, 3]\n"
     ]
    }
   ],
   "source": [
    "wrongPredictions = [0,0,0,0,0,0,0,0,0,0]\n",
    "\n",
    "for i,row in data1.iterrows():\n",
    "    if row[int(row['Y'])] != np.amax(row[:10]):\n",
    "        wrongPredictions[(int(row['Y']))] += 1\n",
    "        #print(i)\n",
    "        \n",
    "objects = ('1','2','3','4','5','6','7','8','9','10')\n",
    "y_pos = np.arange(len(objects))\n",
    "performance = wrongPredictions\n",
    "\n",
    "plt.bar(y_pos, performance, align='center', alpha=0.5)\n",
    "plt.xticks(y_pos, objects)\n",
    "plt.show()\n",
    "\n",
    "print(wrongPredictions)"
   ]
  },
  {
   "cell_type": "code",
   "execution_count": 19,
   "metadata": {},
   "outputs": [
    {
     "data": {
      "image/png": "[encoded data removed]",
      "text/plain": [
       "<Figure size 432x288 with 1 Axes>"
      ]
     },
     "metadata": {
      "needs_background": "light"
     },
     "output_type": "display_data"
    }
   ],
   "source": [
    "objects = ('1','2','3','4','5','6','7','8','9','10')\n",
    "y_pos = np.arange(len(objects))\n",
    "performance = values1[233]\n",
    "\n",
    "plt.bar(y_pos, performance, align='center', alpha=0.5)\n",
    "plt.xticks(y_pos, objects)\n",
    "plt.title('Probability distribution')\n",
    "\n",
    "plt.show()"
   ]
  },
  {
   "cell_type": "markdown",
   "metadata": {},
   "source": [
    "## Split 2"
   ]
  },
  {
   "cell_type": "code",
   "execution_count": 20,
   "metadata": {},
   "outputs": [
    {
     "data": {
      "text/plain": [
       "WINTER        748\n",
       "WIDENER       654\n",
       "BUTZNER       623\n",
       "RUSSELL       449\n",
       "MURNAGHAN     410\n",
       "PHILLIPS      376\n",
       "HAYNSWORTH    341\n",
       "HALL          340\n",
       "ERVIN         338\n",
       "SPROUSE       324\n",
       "Name: authorship, dtype: int64"
      ]
     },
     "execution_count": 20,
     "metadata": {},
     "output_type": "execute_result"
    }
   ],
   "source": [
    "split2.authorship.value_counts()"
   ]
  },
  {
   "cell_type": "code",
   "execution_count": 21,
   "metadata": {},
   "outputs": [
    {
     "name": "stdout",
     "output_type": "stream",
     "text": [
      "Number of Datapoints:  4603\n"
     ]
    }
   ],
   "source": [
    "print('Number of Datapoints: ', split2.shape[0])"
   ]
  },
  {
   "cell_type": "code",
   "execution_count": 22,
   "metadata": {},
   "outputs": [],
   "source": [
    "split2names = split2.authorship.unique()\n",
    "\n",
    "for index, name in enumerate(split2names):\n",
    "    split2.authorship = split2.authorship.str.replace(name, str(index))\n",
    "split2.authorship = split2.authorship.astype(int)"
   ]
  },
  {
   "cell_type": "code",
   "execution_count": 23,
   "metadata": {},
   "outputs": [],
   "source": [
    "vectorizer2 = CountVectorizer(lowercase=False, ngram_range=(1,3), min_df=30, max_features=3000)\n",
    "bowM2 = vectorizer2.fit_transform(split2.opinion)\n",
    "#print(bowM2.toarray().shape)\n",
    "#print(vectorizer2.get_feature_names())"
   ]
  },
  {
   "cell_type": "code",
   "execution_count": 24,
   "metadata": {},
   "outputs": [],
   "source": [
    "X2 = pd.DataFrame.sparse.from_spmatrix(bowM2)\n",
    "X2 = X2.sparse.to_dense()"
   ]
  },
  {
   "cell_type": "code",
   "execution_count": 25,
   "metadata": {},
   "outputs": [],
   "source": [
    "for x in range(0,len(X2.columns)):\n",
    "    mean = X2.iloc[:,x].mean()\n",
    "    std = X2.iloc[:,x].std()\n",
    "    X2.iloc[:,x] = (X2.iloc[:,x] - mean)/std"
   ]
  },
  {
   "cell_type": "code",
   "execution_count": 26,
   "metadata": {},
   "outputs": [],
   "source": [
    "Y2 = split2.authorship.to_frame().reset_index().drop(columns=['index'])\n",
    "\n",
    "X2_Training, X2_Testing, y2_Training, y2_Testing = train_test_split(X2, Y2, test_size=0.2, random_state=1234)"
   ]
  },
  {
   "cell_type": "code",
   "execution_count": 27,
   "metadata": {},
   "outputs": [
    {
     "name": "stderr",
     "output_type": "stream",
     "text": [
      "c:\\program files\\python37\\lib\\site-packages\\sklearn\\utils\\validation.py:73: DataConversionWarning: A column-vector y was passed when a 1d array was expected. Please change the shape of y to (n_samples, ), for example using ravel().\n",
      "  return f(**kwargs)\n"
     ]
    },
    {
     "name": "stdout",
     "output_type": "stream",
     "text": [
      "[LibSVM]0.7421981004070556\n",
      "[LibSVM]"
     ]
    },
    {
     "name": "stderr",
     "output_type": "stream",
     "text": [
      "c:\\program files\\python37\\lib\\site-packages\\sklearn\\utils\\validation.py:73: DataConversionWarning: A column-vector y was passed when a 1d array was expected. Please change the shape of y to (n_samples, ), for example using ravel().\n",
      "  return f(**kwargs)\n"
     ]
    },
    {
     "name": "stdout",
     "output_type": "stream",
     "text": [
      "0.7367706919945726\n"
     ]
    },
    {
     "name": "stderr",
     "output_type": "stream",
     "text": [
      "c:\\program files\\python37\\lib\\site-packages\\sklearn\\utils\\validation.py:73: DataConversionWarning: A column-vector y was passed when a 1d array was expected. Please change the shape of y to (n_samples, ), for example using ravel().\n",
      "  return f(**kwargs)\n"
     ]
    },
    {
     "name": "stdout",
     "output_type": "stream",
     "text": [
      "[LibSVM]0.7611940298507462\n",
      "[LibSVM]"
     ]
    },
    {
     "name": "stderr",
     "output_type": "stream",
     "text": [
      "c:\\program files\\python37\\lib\\site-packages\\sklearn\\utils\\validation.py:73: DataConversionWarning: A column-vector y was passed when a 1d array was expected. Please change the shape of y to (n_samples, ), for example using ravel().\n",
      "  return f(**kwargs)\n"
     ]
    },
    {
     "name": "stdout",
     "output_type": "stream",
     "text": [
      "0.7489823609226595\n",
      "[LibSVM]"
     ]
    },
    {
     "name": "stderr",
     "output_type": "stream",
     "text": [
      "c:\\program files\\python37\\lib\\site-packages\\sklearn\\utils\\validation.py:73: DataConversionWarning: A column-vector y was passed when a 1d array was expected. Please change the shape of y to (n_samples, ), for example using ravel().\n",
      "  return f(**kwargs)\n"
     ]
    },
    {
     "name": "stdout",
     "output_type": "stream",
     "text": [
      "0.7259158751696065\n",
      "Accuracy:  0.7430122116689282  +/-  0.011816304508590081\n"
     ]
    }
   ],
   "source": [
    "scores = [0,0,0,0,0]\n",
    "\n",
    "for i in range(0,5):\n",
    "    classifier = svm.SVC(kernel='poly',degree=1,C=1,class_weight='balanced', verbose=True, probability=True)\n",
    "\n",
    "    X2_train, X2_test, y2_train, y2_test = train_test_split(X2_Training, y2_Training, test_size=0.2, random_state=i)\n",
    "    classifier.fit(np.array(X2_train), np.array(y2_train))\n",
    "    values = classifier.predict_proba(np.array(X2_test))\n",
    "    \n",
    "    correct = 0\n",
    "    counter = 0\n",
    "    for k in range(0,y2_test.size):\n",
    "        if np.amax(values[k]) == values[k][int(y2_test.iloc[k])]:\n",
    "            correct += 1\n",
    "        counter += 1\n",
    "        \n",
    "    scores[i] = correct/counter\n",
    "    print(scores[i])\n",
    "    \n",
    "print('Accuracy: ', np.array(scores).mean(), ' +/- ', np.array(scores).std())"
   ]
  },
  {
   "cell_type": "code",
   "execution_count": 28,
   "metadata": {},
   "outputs": [
    {
     "data": {
      "image/png": "[encoded data removed]",
      "text/plain": [
       "<Figure size 432x288 with 1 Axes>"
      ]
     },
     "metadata": {
      "needs_background": "light"
     },
     "output_type": "display_data"
    },
    {
     "name": "stdout",
     "output_type": "stream",
     "text": [
      "Accuracy:  0.740499457111835\n"
     ]
    },
    {
     "data": {
      "image/png": "[encoded data removed]",
      "text/plain": [
       "<Figure size 432x288 with 1 Axes>"
      ]
     },
     "metadata": {
      "needs_background": "light"
     },
     "output_type": "display_data"
    },
    {
     "name": "stdout",
     "output_type": "stream",
     "text": [
      "Accuracy:  0.740499457111835\n"
     ]
    },
    {
     "data": {
      "image/png": "[encoded data removed]",
      "text/plain": [
       "<Figure size 432x288 with 1 Axes>"
      ]
     },
     "metadata": {
      "needs_background": "light"
     },
     "output_type": "display_data"
    },
    {
     "name": "stdout",
     "output_type": "stream",
     "text": [
      "Accuracy:  0.740499457111835\n"
     ]
    },
    {
     "data": {
      "image/png": "[encoded data removed]",
      "text/plain": [
       "<Figure size 432x288 with 1 Axes>"
      ]
     },
     "metadata": {
      "needs_background": "light"
     },
     "output_type": "display_data"
    },
    {
     "name": "stdout",
     "output_type": "stream",
     "text": [
      "Accuracy:  0.740499457111835\n"
     ]
    },
    {
     "data": {
      "image/png": "[encoded data removed]",
      "text/plain": [
       "<Figure size 432x288 with 1 Axes>"
      ]
     },
     "metadata": {
      "needs_background": "light"
     },
     "output_type": "display_data"
    },
    {
     "name": "stdout",
     "output_type": "stream",
     "text": [
      "Accuracy:  0.740499457111835\n"
     ]
    },
    {
     "data": {
      "image/png": "[encoded data removed]",
      "text/plain": [
       "<Figure size 432x288 with 1 Axes>"
      ]
     },
     "metadata": {
      "needs_background": "light"
     },
     "output_type": "display_data"
    },
    {
     "name": "stdout",
     "output_type": "stream",
     "text": [
      "Accuracy:  0.740499457111835\n"
     ]
    },
    {
     "data": {
      "image/png": "[encoded data removed]",
      "text/plain": [
       "<Figure size 432x288 with 1 Axes>"
      ]
     },
     "metadata": {
      "needs_background": "light"
     },
     "output_type": "display_data"
    },
    {
     "name": "stdout",
     "output_type": "stream",
     "text": [
      "Accuracy:  0.740499457111835\n"
     ]
    },
    {
     "data": {
      "image/png": "[encoded data removed]",
      "text/plain": [
       "<Figure size 432x288 with 1 Axes>"
      ]
     },
     "metadata": {
      "needs_background": "light"
     },
     "output_type": "display_data"
    },
    {
     "name": "stdout",
     "output_type": "stream",
     "text": [
      "Accuracy:  0.740499457111835\n"
     ]
    },
    {
     "data": {
      "image/png": "[encoded data removed]",
      "text/plain": [
       "<Figure size 432x288 with 1 Axes>"
      ]
     },
     "metadata": {
      "needs_background": "light"
     },
     "output_type": "display_data"
    },
    {
     "name": "stdout",
     "output_type": "stream",
     "text": [
      "Accuracy:  0.740499457111835\n"
     ]
    },
    {
     "data": {
      "image/png": "[encoded data removed]",
      "text/plain": [
       "<Figure size 432x288 with 1 Axes>"
      ]
     },
     "metadata": {
      "needs_background": "light"
     },
     "output_type": "display_data"
    },
    {
     "name": "stdout",
     "output_type": "stream",
     "text": [
      "Accuracy:  0.740499457111835\n"
     ]
    }
   ],
   "source": [
    "values2 = classifier.predict_proba(np.array(X2_Testing))\n",
    "data2 = pd.DataFrame(data=values2)\n",
    "data2['Y'] = y2_Testing.authorship.to_frame().reset_index().drop(columns=['index'])\n",
    "data2.to_csv('88_split2_results.csv', index=False)\n",
    "\n",
    "for l in range(0,10):\n",
    "    probs = [0,0,0,0,0,0,0,0,0,0]\n",
    "    count = 0\n",
    "\n",
    "    for i,row in data2.iterrows():\n",
    "        if(row['Y'] == l):\n",
    "            count += 1\n",
    "            for k in range(0,10):\n",
    "                probs[k] += row[k]\n",
    "            count += 1\n",
    "\n",
    "    for k in range(0,10):\n",
    "        probs[k] = probs[k]/count\n",
    "\n",
    "    objects = ('1','2','3','4','5','6','7','8','9','10')\n",
    "    y_pos = np.arange(len(objects))\n",
    "    performance = probs\n",
    "\n",
    "    plt.bar(y_pos, performance, align='center', alpha=0.5)\n",
    "    plt.xticks(y_pos, objects)\n",
    "    plt.title('Probability distribution')\n",
    "\n",
    "    plt.show()\n",
    "    \n",
    "    correct = 0\n",
    "    counter = 0\n",
    "    for k in range(0,y2_Testing.size):\n",
    "        if np.amax(values2[k]) == values2[k][int(y2_Testing.iloc[k])]:\n",
    "            correct += 1\n",
    "        counter += 1\n",
    "        \n",
    "    print('Accuracy: ',correct/counter)"
   ]
  },
  {
   "cell_type": "code",
   "execution_count": 29,
   "metadata": {},
   "outputs": [
    {
     "data": {
      "image/png": "[encoded data removed]",
      "text/plain": [
       "<Figure size 432x288 with 1 Axes>"
      ]
     },
     "metadata": {
      "needs_background": "light"
     },
     "output_type": "display_data"
    },
    {
     "name": "stdout",
     "output_type": "stream",
     "text": [
      "[32, 21, 16, 21, 23, 25, 16, 19, 37, 29]\n"
     ]
    }
   ],
   "source": [
    "wrongPredictions = [0,0,0,0,0,0,0,0,0,0]\n",
    "\n",
    "for i,row in data2.iterrows():\n",
    "    if row[int(row['Y'])] != np.amax(row[:10]):\n",
    "        wrongPredictions[(int(row['Y']))] += 1\n",
    "        #print(i)\n",
    "        \n",
    "objects = ('1','2','3','4','5','6','7','8','9','10')\n",
    "y_pos = np.arange(len(objects))\n",
    "performance = wrongPredictions\n",
    "\n",
    "plt.bar(y_pos, performance, align='center', alpha=0.5)\n",
    "plt.xticks(y_pos, objects)\n",
    "plt.show()\n",
    "\n",
    "print(wrongPredictions)"
   ]
  },
  {
   "cell_type": "code",
   "execution_count": 30,
   "metadata": {},
   "outputs": [
    {
     "data": {
      "image/png": "[encoded data removed]",
      "text/plain": [
       "<Figure size 432x288 with 1 Axes>"
      ]
     },
     "metadata": {
      "needs_background": "light"
     },
     "output_type": "display_data"
    }
   ],
   "source": [
    "objects = ('1','2','3','4','5','6','7','8','9','10')\n",
    "y_pos = np.arange(len(objects))\n",
    "performance = values2[233]\n",
    "\n",
    "plt.bar(y_pos, performance, align='center', alpha=0.5)\n",
    "plt.xticks(y_pos, objects)\n",
    "plt.title('Probability distribution')\n",
    "\n",
    "plt.show()"
   ]
  },
  {
   "cell_type": "markdown",
   "metadata": {},
   "source": [
    "## Split 3"
   ]
  },
  {
   "cell_type": "code",
   "execution_count": 31,
   "metadata": {},
   "outputs": [
    {
     "data": {
      "text/plain": [
       "NIEMEYER     862\n",
       "WILKINSON    818\n",
       "GREGORY      454\n",
       "KING         424\n",
       "WIDENER      397\n",
       "LUTTIG       375\n",
       "TRAXLER      359\n",
       "WILKINS      351\n",
       "WILLIAMS     351\n",
       "ERVIN        309\n",
       "Name: authorship, dtype: int64"
      ]
     },
     "execution_count": 31,
     "metadata": {},
     "output_type": "execute_result"
    }
   ],
   "source": [
    "split3.authorship.value_counts()"
   ]
  },
  {
   "cell_type": "code",
   "execution_count": 32,
   "metadata": {},
   "outputs": [
    {
     "name": "stdout",
     "output_type": "stream",
     "text": [
      "Number of Datapoints:  4700\n"
     ]
    }
   ],
   "source": [
    "print('Number of Datapoints: ', split3.shape[0])"
   ]
  },
  {
   "cell_type": "code",
   "execution_count": 33,
   "metadata": {},
   "outputs": [],
   "source": [
    "split3names = split3.authorship.unique()\n",
    "\n",
    "for index, name in enumerate(split3names):\n",
    "    split3.authorship = split3.authorship.str.replace(name, str(index))\n",
    "split3.authorship = split3.authorship.astype(int)"
   ]
  },
  {
   "cell_type": "code",
   "execution_count": 34,
   "metadata": {},
   "outputs": [],
   "source": [
    "vectorizer3 = CountVectorizer(lowercase=False, ngram_range=(1,3), min_df=30, max_features=3000)\n",
    "bowM3 = vectorizer3.fit_transform(split3.opinion)\n",
    "#print(bowM3.toarray().shape)\n",
    "#print(vectorizer3.get_feature_names())"
   ]
  },
  {
   "cell_type": "code",
   "execution_count": 35,
   "metadata": {},
   "outputs": [],
   "source": [
    "X3 = pd.DataFrame.sparse.from_spmatrix(bowM3)\n",
    "X3 = X3.sparse.to_dense()"
   ]
  },
  {
   "cell_type": "code",
   "execution_count": 36,
   "metadata": {},
   "outputs": [],
   "source": [
    "for x in range(0,len(X3.columns)):\n",
    "    mean = X3.iloc[:,x].mean()\n",
    "    std = X3.iloc[:,x].std()\n",
    "    X3.iloc[:,x] = (X3.iloc[:,x] - mean)/std"
   ]
  },
  {
   "cell_type": "code",
   "execution_count": 37,
   "metadata": {},
   "outputs": [],
   "source": [
    "Y3 = split3.authorship.to_frame().reset_index().drop(columns=['index'])\n",
    "\n",
    "X3_Training, X3_Testing, y3_Training, y3_Testing = train_test_split(X3, Y3, test_size=0.2, random_state=1234)"
   ]
  },
  {
   "cell_type": "code",
   "execution_count": 38,
   "metadata": {},
   "outputs": [
    {
     "name": "stderr",
     "output_type": "stream",
     "text": [
      "c:\\program files\\python37\\lib\\site-packages\\sklearn\\utils\\validation.py:73: DataConversionWarning: A column-vector y was passed when a 1d array was expected. Please change the shape of y to (n_samples, ), for example using ravel().\n",
      "  return f(**kwargs)\n"
     ]
    },
    {
     "name": "stdout",
     "output_type": "stream",
     "text": [
      "[LibSVM]0.7672872340425532\n",
      "[LibSVM]"
     ]
    },
    {
     "name": "stderr",
     "output_type": "stream",
     "text": [
      "c:\\program files\\python37\\lib\\site-packages\\sklearn\\utils\\validation.py:73: DataConversionWarning: A column-vector y was passed when a 1d array was expected. Please change the shape of y to (n_samples, ), for example using ravel().\n",
      "  return f(**kwargs)\n"
     ]
    },
    {
     "name": "stdout",
     "output_type": "stream",
     "text": [
      "0.7686170212765957\n",
      "[LibSVM]"
     ]
    },
    {
     "name": "stderr",
     "output_type": "stream",
     "text": [
      "c:\\program files\\python37\\lib\\site-packages\\sklearn\\utils\\validation.py:73: DataConversionWarning: A column-vector y was passed when a 1d array was expected. Please change the shape of y to (n_samples, ), for example using ravel().\n",
      "  return f(**kwargs)\n"
     ]
    },
    {
     "name": "stdout",
     "output_type": "stream",
     "text": [
      "0.7593085106382979\n",
      "[LibSVM]"
     ]
    },
    {
     "name": "stderr",
     "output_type": "stream",
     "text": [
      "c:\\program files\\python37\\lib\\site-packages\\sklearn\\utils\\validation.py:73: DataConversionWarning: A column-vector y was passed when a 1d array was expected. Please change the shape of y to (n_samples, ), for example using ravel().\n",
      "  return f(**kwargs)\n"
     ]
    },
    {
     "name": "stdout",
     "output_type": "stream",
     "text": [
      "0.761968085106383\n"
     ]
    },
    {
     "name": "stderr",
     "output_type": "stream",
     "text": [
      "c:\\program files\\python37\\lib\\site-packages\\sklearn\\utils\\validation.py:73: DataConversionWarning: A column-vector y was passed when a 1d array was expected. Please change the shape of y to (n_samples, ), for example using ravel().\n",
      "  return f(**kwargs)\n"
     ]
    },
    {
     "name": "stdout",
     "output_type": "stream",
     "text": [
      "[LibSVM]0.7832446808510638\n",
      "Accuracy:  0.7680851063829788  +/-  0.008308776250964512\n"
     ]
    }
   ],
   "source": [
    "scores = [0,0,0,0,0]\n",
    "\n",
    "for i in range(0,5):\n",
    "    classifier = svm.SVC(kernel='poly',degree=1,C=1,class_weight='balanced', verbose=True, probability=True)\n",
    "\n",
    "    X3_train, X3_test, y3_train, y3_test = train_test_split(X3_Training, y3_Training, test_size=0.2, random_state=i)\n",
    "    classifier.fit(np.array(X3_train), np.array(y3_train))\n",
    "    values = classifier.predict_proba(np.array(X3_test))\n",
    "    \n",
    "    correct = 0\n",
    "    counter = 0\n",
    "    for k in range(0,y3_test.size):\n",
    "        if np.amax(values[k]) == values[k][int(y3_test.iloc[k])]:\n",
    "            correct += 1\n",
    "        counter += 1\n",
    "        \n",
    "    scores[i] = correct/counter\n",
    "    print(scores[i])\n",
    "    \n",
    "print('Accuracy: ', np.array(scores).mean(), ' +/- ', np.array(scores).std())"
   ]
  },
  {
   "cell_type": "code",
   "execution_count": 39,
   "metadata": {},
   "outputs": [
    {
     "data": {
      "image/png": "[encoded data removed]",
      "text/plain": [
       "<Figure size 432x288 with 1 Axes>"
      ]
     },
     "metadata": {
      "needs_background": "light"
     },
     "output_type": "display_data"
    },
    {
     "data": {
      "image/png": "[encoded data removed]",
      "text/plain": [
       "<Figure size 432x288 with 1 Axes>"
      ]
     },
     "metadata": {
      "needs_background": "light"
     },
     "output_type": "display_data"
    },
    {
     "data": {
      "image/png": "[encoded data removed]",
      "text/plain": [
       "<Figure size 432x288 with 1 Axes>"
      ]
     },
     "metadata": {
      "needs_background": "light"
     },
     "output_type": "display_data"
    },
    {
     "data": {
      "image/png": "[encoded data removed]",
      "text/plain": [
       "<Figure size 432x288 with 1 Axes>"
      ]
     },
     "metadata": {
      "needs_background": "light"
     },
     "output_type": "display_data"
    },
    {
     "data": {
      "image/png": "[encoded data removed]",
      "text/plain": [
       "<Figure size 432x288 with 1 Axes>"
      ]
     },
     "metadata": {
      "needs_background": "light"
     },
     "output_type": "display_data"
    },
    {
     "data": {
      "image/png": "[encoded data removed]",
      "text/plain": [
       "<Figure size 432x288 with 1 Axes>"
      ]
     },
     "metadata": {
      "needs_background": "light"
     },
     "output_type": "display_data"
    },
    {
     "data": {
      "image/png": "[encoded data removed]",
      "text/plain": [
       "<Figure size 432x288 with 1 Axes>"
      ]
     },
     "metadata": {
      "needs_background": "light"
     },
     "output_type": "display_data"
    },
    {
     "data": {
      "image/png": "[encoded data removed]",
      "text/plain": [
       "<Figure size 432x288 with 1 Axes>"
      ]
     },
     "metadata": {
      "needs_background": "light"
     },
     "output_type": "display_data"
    },
    {
     "data": {
      "image/png": "[encoded data removed]",
      "text/plain": [
       "<Figure size 432x288 with 1 Axes>"
      ]
     },
     "metadata": {
      "needs_background": "light"
     },
     "output_type": "display_data"
    },
    {
     "data": {
      "image/png": "[encoded data removed]",
      "text/plain": [
       "<Figure size 432x288 with 1 Axes>"
      ]
     },
     "metadata": {
      "needs_background": "light"
     },
     "output_type": "display_data"
    }
   ],
   "source": [
    "values3 = classifier.predict_proba(np.array(X3_Testing))\n",
    "data3 = pd.DataFrame(data=values3)\n",
    "data3['Y'] = y3_Testing.authorship.to_frame().reset_index().drop(columns=['index'])\n",
    "data3.to_csv('88_split3_results.csv', index=False)\n",
    "\n",
    "for l in range(0,10):\n",
    "    probs = [0,0,0,0,0,0,0,0,0,0]\n",
    "    count = 0\n",
    "\n",
    "    for i,row in data3.iterrows():\n",
    "        if(row['Y'] == l):\n",
    "            count += 1\n",
    "            for k in range(0,10):\n",
    "                probs[k] += row[k]\n",
    "            count += 1\n",
    "\n",
    "    for k in range(0,10):\n",
    "        probs[k] = probs[k]/count\n",
    "\n",
    "    objects = ('1','2','3','4','5','6','7','8','9','10')\n",
    "    y_pos = np.arange(len(objects))\n",
    "    performance = probs\n",
    "\n",
    "    plt.bar(y_pos, performance, align='center', alpha=0.5)\n",
    "    plt.xticks(y_pos, objects)\n",
    "    plt.title('Probability distribution')\n",
    "\n",
    "    plt.show()"
   ]
  },
  {
   "cell_type": "code",
   "execution_count": 40,
   "metadata": {},
   "outputs": [
    {
     "data": {
      "image/png": "[encoded data removed]",
      "text/plain": [
       "<Figure size 432x288 with 1 Axes>"
      ]
     },
     "metadata": {
      "needs_background": "light"
     },
     "output_type": "display_data"
    },
    {
     "name": "stdout",
     "output_type": "stream",
     "text": [
      "[26, 22, 30, 12, 15, 17, 20, 24, 12, 21]\n"
     ]
    }
   ],
   "source": [
    "wrongPredictions = [0,0,0,0,0,0,0,0,0,0]\n",
    "\n",
    "for i,row in data3.iterrows():\n",
    "    if row[int(row['Y'])] != np.amax(row[:10]):\n",
    "        wrongPredictions[(int(row['Y']))] += 1\n",
    "        #print(i)\n",
    "        \n",
    "objects = ('1','2','3','4','5','6','7','8','9','10')\n",
    "y_pos = np.arange(len(objects))\n",
    "performance = wrongPredictions\n",
    "\n",
    "plt.bar(y_pos, performance, align='center', alpha=0.5)\n",
    "plt.xticks(y_pos, objects)\n",
    "plt.show()\n",
    "\n",
    "print(wrongPredictions)"
   ]
  },
  {
   "cell_type": "code",
   "execution_count": 41,
   "metadata": {},
   "outputs": [
    {
     "data": {
      "image/png": "[encoded data removed]",
      "text/plain": [
       "<Figure size 432x288 with 1 Axes>"
      ]
     },
     "metadata": {
      "needs_background": "light"
     },
     "output_type": "display_data"
    }
   ],
   "source": [
    "objects = ('1','2','3','4','5','6','7','8','9','10')\n",
    "y_pos = np.arange(len(objects))\n",
    "performance = values3[233]\n",
    "\n",
    "plt.bar(y_pos, performance, align='center', alpha=0.5)\n",
    "plt.xticks(y_pos, objects)\n",
    "plt.title('Probability distribution')\n",
    "\n",
    "plt.show()"
   ]
  },
  {
   "cell_type": "code",
   "execution_count": null,
   "metadata": {},
   "outputs": [],
   "source": []
  },
  {
   "cell_type": "code",
   "execution_count": null,
   "metadata": {},
   "outputs": [],
   "source": []
  }
 ],
 "metadata": {
  "kernelspec": {
   "display_name": "Python 3",
   "language": "python",
   "name": "python3"
  },
  "language_info": {
   "codemirror_mode": {
    "name": "ipython",
    "version": 3
   },
   "file_extension": ".py",
   "mimetype": "text/x-python",
   "name": "python",
   "nbconvert_exporter": "python",
   "pygments_lexer": "ipython3",
   "version": "3.7.6"
  }
 },
 "nbformat": 4,
 "nbformat_minor": 4
}
