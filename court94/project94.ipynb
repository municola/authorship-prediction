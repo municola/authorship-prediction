{
 "cells": [
  {
   "cell_type": "code",
   "execution_count": 2,
   "metadata": {},
   "outputs": [],
   "source": [
    "import pandas as pd\n",
    "import matplotlib.pyplot as plt\n",
    "import re\n",
    "import nltk\n",
    "from sklearn.feature_extraction.text import CountVectorizer\n",
    "from sklearn.model_selection import train_test_split\n",
    "from sklearn import svm\n",
    "import numpy as np\n",
    "from sklearn.ensemble import RandomForestClassifier"
   ]
  },
  {
   "cell_type": "code",
   "execution_count": 3,
   "metadata": {},
   "outputs": [
    {
     "data": {
      "text/plain": [
       "PER CURIAM              1470\n",
       "PHILLIPS                1174\n",
       "McKAY                   1063\n",
       "SEYMOUR                  964\n",
       "EBEL                     947\n",
       "WADE BRORBY              942\n",
       "Mary Beck Briscoe        856\n",
       "SETH                     845\n",
       "LOGAN                    844\n",
       "Carlos F. Lucero         843\n",
       "MURRAH                   840\n",
       "BRATTON                  825\n",
       "TACHA                    821\n",
       "BARRETT                  786\n",
       "HOLLOWAY                 744\n",
       "BALDOCK                  733\n",
       "Michael R. Murphy        709\n",
       "Stephen H. Anderson      700\n",
       "LEWIS                    695\n",
       "BREITENSTEIN             688\n",
       "Harris L Hartz           684\n",
       "McWILLIAMS               682\n",
       "Timothy M. Tymkovich     649\n",
       "HUXMAN                   644\n",
       "STEPHEN H. ANDERSON      640\n",
       "KELLY                    632\n",
       "Terrence L. O'Brien      612\n",
       "BRORBY                   611\n",
       "Monroe G. McKay          605\n",
       "DOYLE                    601\n",
       "Name: authorship, dtype: int64"
      ]
     },
     "execution_count": 3,
     "metadata": {},
     "output_type": "execute_result"
    }
   ],
   "source": [
    "df = pd.read_csv(\"ca94.csv.gz\",compression='gzip')\n",
    "df.authorship.value_counts().head(30)"
   ]
  },
  {
   "cell_type": "code",
   "execution_count": 4,
   "metadata": {},
   "outputs": [
    {
     "data": {
      "text/html": [
       "<div>\n",
       "<style scoped>\n",
       "    .dataframe tbody tr th:only-of-type {\n",
       "        vertical-align: middle;\n",
       "    }\n",
       "\n",
       "    .dataframe tbody tr th {\n",
       "        vertical-align: top;\n",
       "    }\n",
       "\n",
       "    .dataframe thead th {\n",
       "        text-align: right;\n",
       "    }\n",
       "</style>\n",
       "<table border=\"1\" class=\"dataframe\">\n",
       "  <thead>\n",
       "    <tr style=\"text-align: right;\">\n",
       "      <th></th>\n",
       "      <th>dc_identifier</th>\n",
       "      <th>opinion</th>\n",
       "      <th>authorship</th>\n",
       "      <th>date_standard</th>\n",
       "    </tr>\n",
       "  </thead>\n",
       "  <tbody>\n",
       "    <tr>\n",
       "      <th>95</th>\n",
       "      <td>41K1-XWX0-0038-X10K-00000-00</td>\n",
       "      <td>ORDER AND JUDGMENT*This order and judgment is ...</td>\n",
       "      <td>STEPHEN H. ANDERSON</td>\n",
       "      <td>2000</td>\n",
       "    </tr>\n",
       "    <tr>\n",
       "      <th>109</th>\n",
       "      <td>803B-7YB1-2RHT-1009-00000-00</td>\n",
       "      <td>ORDER AND JUDGMENT*This order and judgment is ...</td>\n",
       "      <td>STEPHEN H. ANDERSON</td>\n",
       "      <td>2010</td>\n",
       "    </tr>\n",
       "    <tr>\n",
       "      <th>133</th>\n",
       "      <td>591P-6WG1-F04K-W000-00000-00</td>\n",
       "      <td>ORDER AND JUDGMENT*After examining the briefs ...</td>\n",
       "      <td>STEPHEN H. ANDERSON</td>\n",
       "      <td>2013</td>\n",
       "    </tr>\n",
       "    <tr>\n",
       "      <th>141</th>\n",
       "      <td>4T3V-H500-TXFX-F2B7-00000-00</td>\n",
       "      <td>ORDER AND JUDGMENT*After examining the briefs ...</td>\n",
       "      <td>STEPHEN H. ANDERSON</td>\n",
       "      <td>2008</td>\n",
       "    </tr>\n",
       "    <tr>\n",
       "      <th>142</th>\n",
       "      <td>3RWF-7N70-00B1-D4TH-00000-00</td>\n",
       "      <td>ORDER AND JUDGMENT * This order and judgment i...</td>\n",
       "      <td>STEPHEN H. ANDERSON</td>\n",
       "      <td>1997</td>\n",
       "    </tr>\n",
       "    <tr>\n",
       "      <th>...</th>\n",
       "      <td>...</td>\n",
       "      <td>...</td>\n",
       "      <td>...</td>\n",
       "      <td>...</td>\n",
       "    </tr>\n",
       "    <tr>\n",
       "      <th>47817</th>\n",
       "      <td>3S4W-Y2G0-006F-M53N-00000-00</td>\n",
       "      <td>ORDER AND JUDGMENT*This order and judgment is ...</td>\n",
       "      <td>ROBERT H. HENRY</td>\n",
       "      <td>1996</td>\n",
       "    </tr>\n",
       "    <tr>\n",
       "      <th>47973</th>\n",
       "      <td>3S4W-Y2G0-006F-M53P-00000-00</td>\n",
       "      <td>ORDER AND JUDGMENT*This order and judgment is ...</td>\n",
       "      <td>ROBERT H. HENRY</td>\n",
       "      <td>1996</td>\n",
       "    </tr>\n",
       "    <tr>\n",
       "      <th>48013</th>\n",
       "      <td>42N1-63X0-0038-X19T-00000-00</td>\n",
       "      <td>ORDER AND JUDGMENT *This order and judgment is...</td>\n",
       "      <td>ROBERT H. HENRY</td>\n",
       "      <td>2001</td>\n",
       "    </tr>\n",
       "    <tr>\n",
       "      <th>48036</th>\n",
       "      <td>3S22-8JJ0-0038-X4BC-00000-00</td>\n",
       "      <td>ORDER AND JUDGMENT *After examining the briefs...</td>\n",
       "      <td>ROBERT H. HENRY</td>\n",
       "      <td>1998</td>\n",
       "    </tr>\n",
       "    <tr>\n",
       "      <th>52058</th>\n",
       "      <td>3RFP-5TG0-0038-X0FT-00000-00</td>\n",
       "      <td>ORDER AND JUDGMENT*This order and judgment is ...</td>\n",
       "      <td>ROBERT H. HENRY</td>\n",
       "      <td>1997</td>\n",
       "    </tr>\n",
       "  </tbody>\n",
       "</table>\n",
       "<p>25971 rows × 4 columns</p>\n",
       "</div>"
      ],
      "text/plain": [
       "                      dc_identifier  \\\n",
       "95     41K1-XWX0-0038-X10K-00000-00   \n",
       "109    803B-7YB1-2RHT-1009-00000-00   \n",
       "133    591P-6WG1-F04K-W000-00000-00   \n",
       "141    4T3V-H500-TXFX-F2B7-00000-00   \n",
       "142    3RWF-7N70-00B1-D4TH-00000-00   \n",
       "...                             ...   \n",
       "47817  3S4W-Y2G0-006F-M53N-00000-00   \n",
       "47973  3S4W-Y2G0-006F-M53P-00000-00   \n",
       "48013  42N1-63X0-0038-X19T-00000-00   \n",
       "48036  3S22-8JJ0-0038-X4BC-00000-00   \n",
       "52058  3RFP-5TG0-0038-X0FT-00000-00   \n",
       "\n",
       "                                                 opinion           authorship  \\\n",
       "95     ORDER AND JUDGMENT*This order and judgment is ...  STEPHEN H. ANDERSON   \n",
       "109    ORDER AND JUDGMENT*This order and judgment is ...  STEPHEN H. ANDERSON   \n",
       "133    ORDER AND JUDGMENT*After examining the briefs ...  STEPHEN H. ANDERSON   \n",
       "141    ORDER AND JUDGMENT*After examining the briefs ...  STEPHEN H. ANDERSON   \n",
       "142    ORDER AND JUDGMENT * This order and judgment i...  STEPHEN H. ANDERSON   \n",
       "...                                                  ...                  ...   \n",
       "47817  ORDER AND JUDGMENT*This order and judgment is ...      ROBERT H. HENRY   \n",
       "47973  ORDER AND JUDGMENT*This order and judgment is ...      ROBERT H. HENRY   \n",
       "48013  ORDER AND JUDGMENT *This order and judgment is...      ROBERT H. HENRY   \n",
       "48036  ORDER AND JUDGMENT *After examining the briefs...      ROBERT H. HENRY   \n",
       "52058  ORDER AND JUDGMENT*This order and judgment is ...      ROBERT H. HENRY   \n",
       "\n",
       "       date_standard  \n",
       "95              2000  \n",
       "109             2010  \n",
       "133             2013  \n",
       "141             2008  \n",
       "142             1997  \n",
       "...              ...  \n",
       "47817           1996  \n",
       "47973           1996  \n",
       "48013           2001  \n",
       "48036           1998  \n",
       "52058           1997  \n",
       "\n",
       "[25971 rows x 4 columns]"
      ]
     },
     "execution_count": 4,
     "metadata": {},
     "output_type": "execute_result"
    }
   ],
   "source": [
    "df.authorship = df.authorship.str.upper()\n",
    "names = []\n",
    "for i in df.authorship.value_counts().head(30).index:\n",
    "    if i != 'PER CURIAM' and i != 'PER CURIAM:':\n",
    "        names.append(i)\n",
    "copy = pd.DataFrame()\n",
    "temp = df[df.word_count > 50]\n",
    "for name in names:\n",
    "    copy = copy.append(temp[temp.authorship == name])\n",
    "copy.date_standard = copy.date_standard.str[:4]\n",
    "copy.date_standard = copy.date_standard.astype(int)\n",
    "copy = copy.drop(columns=['opinion_type','opinion_id','word_count','authors','dc_source','judges_refined'])\n",
    "copy"
   ]
  },
  {
   "cell_type": "code",
   "execution_count": 5,
   "metadata": {},
   "outputs": [
    {
     "data": {
      "text/plain": [
       "<matplotlib.axes._subplots.AxesSubplot at 0x199d3436788>"
      ]
     },
     "execution_count": 5,
     "metadata": {},
     "output_type": "execute_result"
    },
    {
     "data": {
      "image/png": "[encoded data removed]",
      "text/plain": [
       "<Figure size 432x288 with 1 Axes>"
      ]
     },
     "metadata": {
      "needs_background": "light"
     },
     "output_type": "display_data"
    }
   ],
   "source": [
    "copy[copy.authorship == names[0]].date_standard.value_counts().sort_index().plot(kind='bar')"
   ]
  },
  {
   "cell_type": "code",
   "execution_count": 6,
   "metadata": {},
   "outputs": [],
   "source": [
    "copy.opinion = copy.opinion.str.replace('Senior Circuit Judge','')\n",
    "copy.opinion = copy.opinion.str.replace('Senior Circuit Judge'.upper(),'')\n",
    "copy.opinion = copy.opinion.str.replace('Senior District Judge','')\n",
    "copy.opinion = copy.opinion.str.replace('Senior District Judge'.upper(),'')\n",
    "copy.opinion = copy.opinion.str.replace('Circuit Judges','')\n",
    "copy.opinion = copy.opinion.str.replace('CIRCUIT JUDGES','')\n",
    "copy.opinion = copy.opinion.str.replace('District Judges','')\n",
    "copy.opinion = copy.opinion.str.replace('District Judges'.upper(),'')\n",
    "copy.opinion = copy.opinion.str.replace('District Judge','')\n",
    "copy.opinion = copy.opinion.str.replace('District Judge'.upper(),'')\n",
    "copy.opinion = copy.opinion.str.replace('Circuit Judge','')\n",
    "copy.opinion = copy.opinion.str.replace('CIRCUIT JUDGE','')\n",
    "copy.opinion = copy.opinion.str.replace('Circuit Justice','')\n",
    "copy.opinion = copy.opinion.str.replace('Circuit Justice'.upper(),'')\n",
    "copy.opinion = copy.opinion.str.replace('D\\.J\\.','')\n",
    "copy.opinion = copy.opinion.str.replace('D\\. J\\.','')\n",
    "copy.opinion = copy.opinion.str.replace('C\\.J\\.','')\n",
    "copy.opinion = copy.opinion.str.replace('C\\. J\\.','')\n",
    "copy.opinion = copy.opinion.str.replace('Senior Judge','')\n",
    "copy.opinion = copy.opinion.str.replace('Senior Judge'.upper(),'')\n",
    "copy.opinion = copy.opinion.str.replace('Associate Justice','')\n",
    "copy.opinion = copy.opinion.str.replace('Associate Justice'.upper(),'')\n",
    "copy.opinion = copy.opinion.str.replace('Chief Judge','')\n",
    "copy.opinion = copy.opinion.str.replace('Chief Judge'.upper(),'')\n",
    "copy.opinion = copy.opinion.str.replace('Judge','')\n",
    "copy.opinion = copy.opinion.str.replace('Judge'.upper(),'')\n",
    "copy.opinion = copy.opinion.str.replace('HONORABLE','')\n",
    "\n",
    "for name in names:\n",
    "    copy.opinion = copy.opinion.str.replace(name.upper(),'')\n",
    "    copy.opinion = copy.opinion.str.replace(name,'')\n",
    "    copy.opinion = copy.opinion.str.replace(name[:1].upper()+name[1:].lower(),'')\n",
    "\n",
    "\n",
    "\n",
    "\n",
    "copy.opinion = copy.opinion.str.replace('ORIE',' ')\n",
    "copy.opinion = copy.opinion.str.replace('Orie',' ')\n",
    "copy.opinion = copy.opinion.str.replace('McKAY',' ')\n",
    "copy.opinion = copy.opinion.str.replace('McKay',' ')\n",
    "copy.opinion = copy.opinion.str.replace('McWILLIAMS',' ')\n",
    "copy.opinion = copy.opinion.str.replace('McWiliams',' ')\n",
    "copy.opinion = copy.opinion.str.replace('DAVID',' ')\n",
    "copy.opinion = copy.opinion.str.replace('David',' ')\n",
    "copy.opinion = copy.opinion.str.replace('\\n',' ')"
   ]
  },
  {
   "cell_type": "code",
   "execution_count": 7,
   "metadata": {},
   "outputs": [],
   "source": [
    "copy.opinion = copy.opinion.str.replace('\\\\\\'','')\n",
    "copy.opinion = copy.opinion.str.replace('(','')\n",
    "copy.opinion = copy.opinion.str.replace(')','')\n",
    "copy.opinion = copy.opinion.apply(lambda x: re.sub(r\"\\s\\w\\.\", \"\", x))\n",
    "copy.opinion = copy.opinion.apply(lambda x: re.sub(r\"\\s\\.\\s\", \" \", x))\n",
    "copy.opinion = copy.opinion.apply(lambda x: re.sub(r\"\\s\\.\\s\", \" \", x))\n",
    "copy.opinion = copy.opinion.apply(lambda x: re.sub(r\"\\s\\,\", \",\", x))\n",
    "copy.opinion = copy.opinion.apply(lambda x: re.sub(r\"\\d+\", \"\", x))\n",
    "copy.opinion = copy.opinion.apply(lambda x: re.sub(r\"-\", \"\", x))\n",
    "copy.opinion = copy.opinion.str.replace('S\\.C\\.','')\n",
    "copy.opinion = copy.opinion.str.replace('Ct\\.','Ct')\n",
    "copy.opinion = copy.opinion.str.replace('Ed\\.','Ed')\n",
    "copy.opinion = copy.opinion.str.replace('Dec\\.','Dec')\n",
    "copy.opinion = copy.opinion.str.replace(' No\\.',' No')\n",
    "copy.opinion = copy.opinion.str.replace(' pt\\.',' pt')\n",
    "copy.opinion = copy.opinion.str.replace(' Rep\\.',' Rep')\n",
    "copy.opinion = copy.opinion.str.replace(' Tr\\.',' Tr')\n",
    "copy.opinion = copy.opinion.str.replace(' Arg\\.',' Arg')\n",
    "copy.opinion = copy.opinion.str.replace(' Nev\\.',' Nev')\n",
    "copy.opinion = copy.opinion.str.replace(' Rev\\.',' Rev')\n",
    "copy.opinion = copy.opinion.str.replace(' Stat\\.',' Stat')\n",
    "copy.opinion = copy.opinion.str.replace(' Cent\\.',' Cent')\n",
    "copy.opinion = copy.opinion.str.replace(' Ore\\.',' Ore')\n",
    "copy.opinion = copy.opinion.str.replace(' Co\\.',' Co')\n",
    "copy.opinion = copy.opinion.str.replace(' Ins\\.',' Ins')\n",
    "copy.opinion = copy.opinion.str.replace('S\\.','')\n",
    "copy.opinion = copy.opinion.str.replace('Cf\\.','Cf')\n",
    "copy.opinion = copy.opinion.str.replace('Id\\.','Id')\n",
    "copy.opinion = copy.opinion.str.replace(' ,',',')\n",
    "copy.opinion = copy.opinion.str.replace(' \\.','.')\n",
    "copy.opinion = copy.opinion.str.replace('§','')\n",
    "copy.opinion = copy.opinion.str.replace('$','')\n",
    "copy.opinion = copy.opinion.str.replace('\\.\\.','.')\n",
    "copy.opinion = copy.opinion.str.replace('\\.\\.','.')\n",
    "copy.opinion = copy.opinion.str.replace(',,',',')\n",
    "copy.opinion = copy.opinion.str.replace(',,',',')\n",
    "copy.opinion = copy.opinion.str.replace(',\\.',',')\n",
    "copy.opinion = copy.opinion.str.replace('\"',' ')\n",
    "copy.opinion = copy.opinion.str.replace('II','')\n",
    "copy.opinion = copy.opinion.str.replace('III','')\n",
    "copy.opinion = copy.opinion.str.replace('  ',' ')"
   ]
  },
  {
   "cell_type": "code",
   "execution_count": 8,
   "metadata": {},
   "outputs": [
    {
     "name": "stdout",
     "output_type": "stream",
     "text": [
      "STEPHEN H. ANDERSON\n",
      "\n",
      "ORDER AND JUDGMENT*This order and judgment is not binding precedent, except under the doctrines of law of the case, res judicata, and collateral estoppel. The court generally disfavors the citation of\n",
      "\n",
      "\n",
      "ORDER AND JUDGMENT*This order and judgment is not binding precedent except under the doctrines of law of the case, res judicata, and collateral estoppel. It may be cited, however, for its persuasive v\n",
      "\n",
      "\n",
      "ORDER AND JUDGMENT*After examining the briefs and appellate record, this panel has determined unanimously to grant the parties request for a decision on the briefs without oral argument. SeeFed. App. \n",
      "\n",
      "\n",
      "ORDER AND JUDGMENT*After examining the briefs and appellate record, this panel has determined unanimously to grant the parties request for a decision on the briefs without oral argument. SeeFed. App. \n",
      "\n",
      "\n",
      "ORDER AND JUDGMENT * This order and judgment is not binding precedent, except under the doctrines of law of the case, res judicata, and collateral estoppel. The court generally disfavors the citation \n",
      "\n",
      "\n",
      "ORDER AND JUDGMENT*This order and judgment is not binding precedent, except under the doctrines of law of the case, res judicata, and collateral estoppel. The court generally disfavors the citation of\n",
      "\n",
      "\n",
      "ORDER AND JUDGMENT*This order and judgment is not binding precedent except under the doctrines of law of the case, res judicata, and collateral estoppel. It may be cited, however, for its persuasive v\n",
      "\n",
      "\n",
      "ORDER AND JUDGMENT* This order and judgment is not binding precedent, except under the doctrines of law of the case, res judicata, and collateral estoppel. The court generally disfavors the citation o\n",
      "\n",
      "\n",
      "ORDER DENYING CERTIFICATE OF APPEALABILITY*This order is not binding precedent except under the doctrines of law of the case, res judicata, and collateral estoppel. It may be cited, however, for its p\n",
      "\n",
      "\n",
      "ORDER AND JUDGMENT *This order and judgment is not binding precedent, except under the doctrines of law of the case, res judicata, and collateral estoppel. The court generally disfavors the citation o\n",
      "\n",
      "\n"
     ]
    }
   ],
   "source": [
    "# Prints the first 200 characters of the first 10 cleaned opinion texts of a given judge.\n",
    "judge = 0\n",
    "print(names[judge]+'\\n')\n",
    "for x in range(10):\n",
    "    print(copy.opinion[copy.loc[copy.authorship==names[judge]].index[x]][:200]+'\\n\\n')"
   ]
  },
  {
   "cell_type": "code",
   "execution_count": 30,
   "metadata": {
    "scrolled": true
   },
   "outputs": [
    {
     "name": "stderr",
     "output_type": "stream",
     "text": [
      "c:\\program files\\python37\\lib\\site-packages\\ipykernel_launcher.py:9: UserWarning: Boolean Series key will be reindexed to match DataFrame index.\n",
      "  if __name__ == '__main__':\n",
      "c:\\program files\\python37\\lib\\site-packages\\ipykernel_launcher.py:11: UserWarning: Boolean Series key will be reindexed to match DataFrame index.\n",
      "  # This is added back by InteractiveShellApp.init_path()\n"
     ]
    },
    {
     "name": "stdout",
     "output_type": "stream",
     "text": [
      "totalNum = 17915\n",
      "(4515, 4)\n",
      "(6891, 4)\n",
      "(6509, 4)\n"
     ]
    },
    {
     "name": "stderr",
     "output_type": "stream",
     "text": [
      "c:\\program files\\python37\\lib\\site-packages\\ipykernel_launcher.py:57: UserWarning: Boolean Series key will be reindexed to match DataFrame index.\n",
      "c:\\program files\\python37\\lib\\site-packages\\ipykernel_launcher.py:59: UserWarning: Boolean Series key will be reindexed to match DataFrame index.\n"
     ]
    },
    {
     "name": "stdout",
     "output_type": "stream",
     "text": [
      "(6090, 4)\n",
      "(5967, 4)\n",
      "(6509, 4)\n",
      "top = 2000 bot = 1980\n",
      "totalNum = 18566\n",
      "(6090, 4)\n",
      "(5967, 4)\n",
      "(6509, 4)\n",
      "(6214, 4)\n",
      "(5836, 4)\n",
      "(6509, 4)\n",
      "top = 2000 bot = 1981\n",
      "totalNum = 18559\n",
      "(6214, 4)\n",
      "(5836, 4)\n",
      "(6509, 4)\n",
      "(6214, 4)\n",
      "(5836, 4)\n",
      "(6509, 4)\n",
      "top = 2000 bot = 1981\n"
     ]
    }
   ],
   "source": [
    "#get rough estimate for total number of top 10 authors in all 3 splits\n",
    "top = 2000\n",
    "bot = 1970\n",
    "split1 = pd.DataFrame()\n",
    "for x in copy[copy.date_standard<=bot].authorship.value_counts().head(10).index:\n",
    "    temp = copy[copy.authorship == x]\n",
    "    split1 = split1.append(temp[temp.date_standard<=bot])\n",
    "split2 = pd.DataFrame()\n",
    "for x in copy[copy.date_standard<top][copy.date_standard>bot].authorship.value_counts().head(10).index:\n",
    "    temp = copy[copy.authorship == x]\n",
    "    split2 = split2.append(temp[temp.date_standard<top][temp.date_standard>bot])\n",
    "split3 = pd.DataFrame()\n",
    "for x in copy[copy.date_standard>=top].authorship.value_counts().head(10).index:\n",
    "    temp = copy[copy.authorship == x]\n",
    "    split3 = split3.append(temp[temp.date_standard>=top])\n",
    "\n",
    "for i in range(3):\n",
    "    totalNum = split1.shape[0]+split2.shape[0]+split3.shape[0]\n",
    "    print('totalNum = '+str(totalNum))\n",
    "    print(split1.shape)\n",
    "    print(split2.shape)\n",
    "    print(split3.shape)    \n",
    "\n",
    "    #initialize the splits so we can iterate over them\n",
    "    top = 2020\n",
    "    bot = 1800\n",
    "    split1 = pd.DataFrame()\n",
    "    for x in copy[copy.date_standard<=bot].authorship.value_counts().head(10).index:\n",
    "        temp = copy[copy.authorship == x]\n",
    "        split1 = split1.append(temp[temp.date_standard<=bot])\n",
    "    split2 = pd.DataFrame()\n",
    "    for x in copy[copy.date_standard<top][copy.date_standard>bot].authorship.value_counts().head(10).index:\n",
    "        temp = copy[copy.authorship == x]\n",
    "        split2 = split2.append(temp[temp.date_standard<top][temp.date_standard>bot])\n",
    "    split3 = pd.DataFrame()\n",
    "    for x in copy[copy.date_standard>=top].authorship.value_counts().head(10).index:\n",
    "        temp = copy[copy.authorship == x]\n",
    "        split3 = split3.append(temp[temp.date_standard>=top])\n",
    "    \n",
    "    \n",
    "    \n",
    "    \n",
    "    #loop to iterate \n",
    "    while split1.shape[0] < totalNum/3:\n",
    "        bot += 1\n",
    "        split1 = pd.DataFrame()\n",
    "        for x in copy[copy.date_standard<=bot].authorship.value_counts().head(10).index:\n",
    "            temp = copy[copy.authorship == x]\n",
    "            split1 = split1.append(temp[temp.date_standard<=bot])    \n",
    "    while split3.shape[0] < totalNum/3:\n",
    "        top -= 1\n",
    "        split3 = pd.DataFrame()\n",
    "        for x in copy[copy.date_standard>=top].authorship.value_counts().head(10).index:\n",
    "            temp = copy[copy.authorship == x]\n",
    "            split3 = split3.append(temp[temp.date_standard>=top])\n",
    "    split2 = pd.DataFrame()\n",
    "    for x in copy[copy.date_standard<top][copy.date_standard>bot].authorship.value_counts().head(10).index:\n",
    "        temp = copy[copy.authorship == x]\n",
    "        split2 = split2.append(temp[temp.date_standard<top][temp.date_standard>bot])\n",
    "    \n",
    "\n",
    "    print(split1.shape)\n",
    "    print(split2.shape)\n",
    "    print(split3.shape)\n",
    "    print('top = '+str(top)+' bot = '+str(bot))"
   ]
  },
  {
   "cell_type": "markdown",
   "metadata": {},
   "source": [
    "# Bag of Words approach"
   ]
  },
  {
   "cell_type": "markdown",
   "metadata": {},
   "source": [
    "## Split 1"
   ]
  },
  {
   "cell_type": "code",
   "execution_count": 10,
   "metadata": {},
   "outputs": [
    {
     "data": {
      "text/plain": [
       "PHILLIPS        1087\n",
       "MURRAH           834\n",
       "BRATTON          802\n",
       "LEWIS            694\n",
       "HUXMAN           637\n",
       "BREITENSTEIN     617\n",
       "SETH             575\n",
       "MCWILLIAMS       378\n",
       "BARRETT          371\n",
       "HOLLOWAY         219\n",
       "Name: authorship, dtype: int64"
      ]
     },
     "execution_count": 10,
     "metadata": {},
     "output_type": "execute_result"
    }
   ],
   "source": [
    "split1.authorship.value_counts()"
   ]
  },
  {
   "cell_type": "code",
   "execution_count": 11,
   "metadata": {},
   "outputs": [
    {
     "name": "stdout",
     "output_type": "stream",
     "text": [
      "Number of Datapoints:  6214\n"
     ]
    }
   ],
   "source": [
    "print('Number of Datapoints: ', split1.shape[0])"
   ]
  },
  {
   "cell_type": "code",
   "execution_count": 12,
   "metadata": {},
   "outputs": [],
   "source": [
    "split1names = split1.authorship.unique()\n",
    "\n",
    "for index, name in enumerate(split1names):\n",
    "    split1.authorship = split1.authorship.str.replace(name, str(index))\n",
    "split1.authorship = split1.authorship.astype(int)"
   ]
  },
  {
   "cell_type": "code",
   "execution_count": 13,
   "metadata": {},
   "outputs": [],
   "source": [
    "vectorizer1 = CountVectorizer(lowercase=False, ngram_range=(1,3), min_df=30, max_features=3000)\n",
    "bowM1 = vectorizer1.fit_transform(split1.opinion)\n",
    "#print(bowM1.toarray().shape)\n",
    "#print(vectorizer1.get_feature_names())"
   ]
  },
  {
   "cell_type": "code",
   "execution_count": 14,
   "metadata": {},
   "outputs": [],
   "source": [
    "X1 = pd.DataFrame.sparse.from_spmatrix(bowM1)\n",
    "X1 = X1.sparse.to_dense()"
   ]
  },
  {
   "cell_type": "code",
   "execution_count": 15,
   "metadata": {},
   "outputs": [],
   "source": [
    "for x in range(0,len(X1.columns)):\n",
    "    mean = X1.iloc[:,x].mean()\n",
    "    std = X1.iloc[:,x].std()\n",
    "    X1.iloc[:,x] = (X1.iloc[:,x] - mean)/std"
   ]
  },
  {
   "cell_type": "code",
   "execution_count": 16,
   "metadata": {},
   "outputs": [],
   "source": [
    "Y1 = split1.authorship.to_frame().reset_index().drop(columns=['index'])\n",
    "\n",
    "X1_Training, X1_Testing, y1_Training, y1_Testing = train_test_split(X1, Y1, test_size=0.2, random_state=1234)"
   ]
  },
  {
   "cell_type": "code",
   "execution_count": 17,
   "metadata": {},
   "outputs": [
    {
     "name": "stderr",
     "output_type": "stream",
     "text": [
      "C:\\Users\\nicol\\AppData\\Roaming\\Python\\Python37\\site-packages\\sklearn\\utils\\validation.py:73: DataConversionWarning: A column-vector y was passed when a 1d array was expected. Please change the shape of y to (n_samples, ), for example using ravel().\n",
      "  return f(**kwargs)\n"
     ]
    },
    {
     "name": "stdout",
     "output_type": "stream",
     "text": [
      "[LibSVM]0.9266331658291457\n"
     ]
    },
    {
     "name": "stderr",
     "output_type": "stream",
     "text": [
      "C:\\Users\\nicol\\AppData\\Roaming\\Python\\Python37\\site-packages\\sklearn\\utils\\validation.py:73: DataConversionWarning: A column-vector y was passed when a 1d array was expected. Please change the shape of y to (n_samples, ), for example using ravel().\n",
      "  return f(**kwargs)\n"
     ]
    },
    {
     "name": "stdout",
     "output_type": "stream",
     "text": [
      "[LibSVM]0.9336683417085427\n"
     ]
    },
    {
     "name": "stderr",
     "output_type": "stream",
     "text": [
      "C:\\Users\\nicol\\AppData\\Roaming\\Python\\Python37\\site-packages\\sklearn\\utils\\validation.py:73: DataConversionWarning: A column-vector y was passed when a 1d array was expected. Please change the shape of y to (n_samples, ), for example using ravel().\n",
      "  return f(**kwargs)\n"
     ]
    },
    {
     "name": "stdout",
     "output_type": "stream",
     "text": [
      "[LibSVM]0.9206030150753769\n"
     ]
    },
    {
     "name": "stderr",
     "output_type": "stream",
     "text": [
      "C:\\Users\\nicol\\AppData\\Roaming\\Python\\Python37\\site-packages\\sklearn\\utils\\validation.py:73: DataConversionWarning: A column-vector y was passed when a 1d array was expected. Please change the shape of y to (n_samples, ), for example using ravel().\n",
      "  return f(**kwargs)\n"
     ]
    },
    {
     "name": "stdout",
     "output_type": "stream",
     "text": [
      "[LibSVM]0.9256281407035176\n"
     ]
    },
    {
     "name": "stderr",
     "output_type": "stream",
     "text": [
      "C:\\Users\\nicol\\AppData\\Roaming\\Python\\Python37\\site-packages\\sklearn\\utils\\validation.py:73: DataConversionWarning: A column-vector y was passed when a 1d array was expected. Please change the shape of y to (n_samples, ), for example using ravel().\n",
      "  return f(**kwargs)\n"
     ]
    },
    {
     "name": "stdout",
     "output_type": "stream",
     "text": [
      "[LibSVM]0.9346733668341709\n",
      "Accuracy:  0.9282412060301508  +/-  0.005264643559279931\n"
     ]
    }
   ],
   "source": [
    "scores = [0,0,0,0,0]\n",
    "\n",
    "for i in range(0,5):\n",
    "    classifier = svm.SVC(kernel='poly',degree=1,C=1,class_weight='balanced', verbose=True, probability=True)\n",
    "\n",
    "    X1_train, X1_test, y1_train, y1_test = train_test_split(X1_Training, y1_Training, test_size=0.2, random_state=i)\n",
    "    classifier.fit(np.array(X1_train), np.array(y1_train))\n",
    "    values = classifier.predict_proba(np.array(X1_test))\n",
    "    \n",
    "    correct = 0\n",
    "    counter = 0\n",
    "    for k in range(0,y1_test.size):\n",
    "        if np.amax(values[k]) == values[k][int(y1_test.iloc[k])]:\n",
    "            correct += 1\n",
    "        counter += 1\n",
    "        \n",
    "    scores[i] = correct/counter\n",
    "    print(scores[i])\n",
    "    \n",
    "print('Accuracy: ', np.array(scores).mean(), ' +/- ', np.array(scores).std())"
   ]
  },
  {
   "cell_type": "code",
   "execution_count": 18,
   "metadata": {},
   "outputs": [
    {
     "data": {
      "image/png": "[encoded data removed]",
      "text/plain": [
       "<Figure size 432x288 with 1 Axes>"
      ]
     },
     "metadata": {
      "needs_background": "light"
     },
     "output_type": "display_data"
    },
    {
     "name": "stdout",
     "output_type": "stream",
     "text": [
      "Accuracy:  0.9332260659694288\n"
     ]
    },
    {
     "data": {
      "image/png": "[encoded data removed]",
      "text/plain": [
       "<Figure size 432x288 with 1 Axes>"
      ]
     },
     "metadata": {
      "needs_background": "light"
     },
     "output_type": "display_data"
    },
    {
     "name": "stdout",
     "output_type": "stream",
     "text": [
      "Accuracy:  0.9332260659694288\n"
     ]
    },
    {
     "data": {
      "image/png": "[encoded data removed]",
      "text/plain": [
       "<Figure size 432x288 with 1 Axes>"
      ]
     },
     "metadata": {
      "needs_background": "light"
     },
     "output_type": "display_data"
    },
    {
     "name": "stdout",
     "output_type": "stream",
     "text": [
      "Accuracy:  0.9332260659694288\n"
     ]
    },
    {
     "data": {
      "image/png": "[encoded data removed]",
      "text/plain": [
       "<Figure size 432x288 with 1 Axes>"
      ]
     },
     "metadata": {
      "needs_background": "light"
     },
     "output_type": "display_data"
    },
    {
     "name": "stdout",
     "output_type": "stream",
     "text": [
      "Accuracy:  0.9332260659694288\n"
     ]
    },
    {
     "data": {
      "image/png": "[encoded data removed]",
      "text/plain": [
       "<Figure size 432x288 with 1 Axes>"
      ]
     },
     "metadata": {
      "needs_background": "light"
     },
     "output_type": "display_data"
    },
    {
     "name": "stdout",
     "output_type": "stream",
     "text": [
      "Accuracy:  0.9332260659694288\n"
     ]
    },
    {
     "data": {
      "image/png": "[encoded data removed]",
      "text/plain": [
       "<Figure size 432x288 with 1 Axes>"
      ]
     },
     "metadata": {
      "needs_background": "light"
     },
     "output_type": "display_data"
    },
    {
     "name": "stdout",
     "output_type": "stream",
     "text": [
      "Accuracy:  0.9332260659694288\n"
     ]
    },
    {
     "data": {
      "image/png": "[encoded data removed]",
      "text/plain": [
       "<Figure size 432x288 with 1 Axes>"
      ]
     },
     "metadata": {
      "needs_background": "light"
     },
     "output_type": "display_data"
    },
    {
     "name": "stdout",
     "output_type": "stream",
     "text": [
      "Accuracy:  0.9332260659694288\n"
     ]
    },
    {
     "data": {
      "image/png": "[encoded data removed]",
      "text/plain": [
       "<Figure size 432x288 with 1 Axes>"
      ]
     },
     "metadata": {
      "needs_background": "light"
     },
     "output_type": "display_data"
    },
    {
     "name": "stdout",
     "output_type": "stream",
     "text": [
      "Accuracy:  0.9332260659694288\n"
     ]
    },
    {
     "data": {
      "image/png": "[encoded data removed]",
      "text/plain": [
       "<Figure size 432x288 with 1 Axes>"
      ]
     },
     "metadata": {
      "needs_background": "light"
     },
     "output_type": "display_data"
    },
    {
     "name": "stdout",
     "output_type": "stream",
     "text": [
      "Accuracy:  0.9332260659694288\n"
     ]
    },
    {
     "data": {
      "image/png": "[encoded data removed]",
      "text/plain": [
       "<Figure size 432x288 with 1 Axes>"
      ]
     },
     "metadata": {
      "needs_background": "light"
     },
     "output_type": "display_data"
    },
    {
     "name": "stdout",
     "output_type": "stream",
     "text": [
      "Accuracy:  0.9332260659694288\n"
     ]
    }
   ],
   "source": [
    "values1 = classifier.predict_proba(np.array(X1_Testing))\n",
    "data1 = pd.DataFrame(data=values1)\n",
    "data1['Y'] = y1_Testing.authorship.to_frame().reset_index().drop(columns=['index'])\n",
    "data1.to_csv('94_split1_results.csv', index=False)\n",
    "\n",
    "for l in range(0,10):\n",
    "    probs = [0,0,0,0,0,0,0,0,0,0]\n",
    "    count = 0\n",
    "\n",
    "    for i,row in data1.iterrows():\n",
    "        if(row['Y'] == l):\n",
    "            for k in range(0,10):\n",
    "                probs[k] += row[k]\n",
    "            count += 1\n",
    "    \n",
    "    for k in range(0,10):\n",
    "        probs[k] = probs[k]/count\n",
    "\n",
    "    objects = ('1','2','3','4','5','6','7','8','9','10')\n",
    "    y_pos = np.arange(len(objects))\n",
    "    performance = probs\n",
    "\n",
    "    plt.bar(y_pos, performance, align='center', alpha=0.5)\n",
    "    plt.xticks(y_pos, objects)\n",
    "    plt.title('Probability distribution')\n",
    "\n",
    "    plt.show()\n",
    "    \n",
    "    correct = 0\n",
    "    counter = 0\n",
    "    for k in range(0,y1_Testing.size):\n",
    "        if np.amax(values1[k]) == values1[k][int(y1_Testing.iloc[k])]:\n",
    "            correct += 1\n",
    "        counter += 1\n",
    "        \n",
    "    print('Accuracy: ',correct/counter)"
   ]
  },
  {
   "cell_type": "code",
   "execution_count": 19,
   "metadata": {},
   "outputs": [
    {
     "data": {
      "image/png": "[encoded data removed]",
      "text/plain": [
       "<Figure size 432x288 with 1 Axes>"
      ]
     },
     "metadata": {
      "needs_background": "light"
     },
     "output_type": "display_data"
    },
    {
     "name": "stdout",
     "output_type": "stream",
     "text": [
      "[9, 9, 9, 15, 10, 6, 8, 2, 8, 7]\n"
     ]
    }
   ],
   "source": [
    "wrongPredictions = [0,0,0,0,0,0,0,0,0,0]\n",
    "\n",
    "for i,row in data1.iterrows():\n",
    "    if row[int(row['Y'])] != np.amax(row[:10]):\n",
    "        wrongPredictions[(int(row['Y']))] += 1\n",
    "        #print(i)\n",
    "        \n",
    "objects = ('1','2','3','4','5','6','7','8','9','10')\n",
    "y_pos = np.arange(len(objects))\n",
    "performance = wrongPredictions\n",
    "\n",
    "plt.bar(y_pos, performance, align='center', alpha=0.5)\n",
    "plt.xticks(y_pos, objects)\n",
    "plt.show()\n",
    "\n",
    "print(wrongPredictions)"
   ]
  },
  {
   "cell_type": "code",
   "execution_count": 20,
   "metadata": {},
   "outputs": [
    {
     "data": {
      "image/png": "[encoded data removed]",
      "text/plain": [
       "<Figure size 432x288 with 1 Axes>"
      ]
     },
     "metadata": {
      "needs_background": "light"
     },
     "output_type": "display_data"
    }
   ],
   "source": [
    "objects = ('1','2','3','4','5','6','7','8','9','10')\n",
    "y_pos = np.arange(len(objects))\n",
    "performance = values1[233]\n",
    "\n",
    "plt.bar(y_pos, performance, align='center', alpha=0.5)\n",
    "plt.xticks(y_pos, objects)\n",
    "plt.title('Probability distribution')\n",
    "\n",
    "plt.show()"
   ]
  },
  {
   "cell_type": "markdown",
   "metadata": {},
   "source": [
    "## Split 2"
   ]
  },
  {
   "cell_type": "code",
   "execution_count": 31,
   "metadata": {},
   "outputs": [
    {
     "data": {
      "text/plain": [
       "LOGAN                  676\n",
       "STEPHEN H. ANDERSON    673\n",
       "WADE BRORBY            663\n",
       "SEYMOUR                629\n",
       "MCKAY                  628\n",
       "TACHA                  545\n",
       "DEANELL REECE TACHA    522\n",
       "DAVID M. EBEL          511\n",
       "BOBBY R. BALDOCK       499\n",
       "BALDOCK                490\n",
       "Name: authorship, dtype: int64"
      ]
     },
     "execution_count": 31,
     "metadata": {},
     "output_type": "execute_result"
    }
   ],
   "source": [
    "split2.authorship.value_counts()"
   ]
  },
  {
   "cell_type": "code",
   "execution_count": 32,
   "metadata": {},
   "outputs": [
    {
     "name": "stdout",
     "output_type": "stream",
     "text": [
      "Number of Datapoints:  5836\n"
     ]
    }
   ],
   "source": [
    "print('Number of Datapoints: ', split2.shape[0])"
   ]
  },
  {
   "cell_type": "code",
   "execution_count": 33,
   "metadata": {},
   "outputs": [
    {
     "data": {
      "text/html": [
       "<div>\n",
       "<style scoped>\n",
       "    .dataframe tbody tr th:only-of-type {\n",
       "        vertical-align: middle;\n",
       "    }\n",
       "\n",
       "    .dataframe tbody tr th {\n",
       "        vertical-align: top;\n",
       "    }\n",
       "\n",
       "    .dataframe thead th {\n",
       "        text-align: right;\n",
       "    }\n",
       "</style>\n",
       "<table border=\"1\" class=\"dataframe\">\n",
       "  <thead>\n",
       "    <tr style=\"text-align: right;\">\n",
       "      <th></th>\n",
       "      <th>dc_identifier</th>\n",
       "      <th>opinion</th>\n",
       "      <th>authorship</th>\n",
       "      <th>date_standard</th>\n",
       "    </tr>\n",
       "  </thead>\n",
       "  <tbody>\n",
       "    <tr>\n",
       "      <th>844</th>\n",
       "      <td>3S4X-71C0-003B-529N-00000-00</td>\n",
       "      <td>,  Allen appeals his conviction on charges of ...</td>\n",
       "      <td>LOGAN</td>\n",
       "      <td>1990</td>\n",
       "    </tr>\n",
       "    <tr>\n",
       "      <th>885</th>\n",
       "      <td>3RTX-3SR0-006F-M3DB-00000-00</td>\n",
       "      <td>, Defendant Robert Lee Willis appeals followin...</td>\n",
       "      <td>LOGAN</td>\n",
       "      <td>1996</td>\n",
       "    </tr>\n",
       "    <tr>\n",
       "      <th>1796</th>\n",
       "      <td>3S4W-WV90-003B-G3FG-00000-00</td>\n",
       "      <td>,  The Secretary of Labor brings this action t...</td>\n",
       "      <td>LOGAN</td>\n",
       "      <td>1984</td>\n",
       "    </tr>\n",
       "    <tr>\n",
       "      <th>2136</th>\n",
       "      <td>3S4X-BB10-0039-P06S-00000-00</td>\n",
       "      <td>,  Carl Emmitt Prichard appeals his conviction...</td>\n",
       "      <td>LOGAN</td>\n",
       "      <td>1986</td>\n",
       "    </tr>\n",
       "    <tr>\n",
       "      <th>2871</th>\n",
       "      <td>3S4X-FVP0-003B-P4K6-00000-00</td>\n",
       "      <td>ORDER AND JUDGMENT * This order and judgment h...</td>\n",
       "      <td>LOGAN</td>\n",
       "      <td>1993</td>\n",
       "    </tr>\n",
       "    <tr>\n",
       "      <th>...</th>\n",
       "      <td>...</td>\n",
       "      <td>...</td>\n",
       "      <td>...</td>\n",
       "      <td>...</td>\n",
       "    </tr>\n",
       "    <tr>\n",
       "      <th>49153</th>\n",
       "      <td>3S4X-DFM0-0039-P481-00000-00</td>\n",
       "      <td>,  This is an appeal from an order of the dist...</td>\n",
       "      <td>BALDOCK</td>\n",
       "      <td>1985</td>\n",
       "    </tr>\n",
       "    <tr>\n",
       "      <th>49805</th>\n",
       "      <td>3S4X-DJD0-0039-P4DB-00000-00</td>\n",
       "      <td>Before, Chief, and, *United States District Co...</td>\n",
       "      <td>BALDOCK</td>\n",
       "      <td>1985</td>\n",
       "    </tr>\n",
       "    <tr>\n",
       "      <th>52059</th>\n",
       "      <td>3XW3-DXF0-0038-X1M0-00000-00</td>\n",
       "      <td>, Plaintiff Stephen Thomas Taylor sued his for...</td>\n",
       "      <td>BALDOCK</td>\n",
       "      <td>1999</td>\n",
       "    </tr>\n",
       "    <tr>\n",
       "      <th>53440</th>\n",
       "      <td>3RHB-X5H0-001T-D00M-00000-00</td>\n",
       "      <td>, Defendants Milton Edwards, William Lawrence,...</td>\n",
       "      <td>BALDOCK</td>\n",
       "      <td>1995</td>\n",
       "    </tr>\n",
       "    <tr>\n",
       "      <th>53681</th>\n",
       "      <td>3S4X-F6B0-0039-P0G7-00000-00</td>\n",
       "      <td>, concurring and dissenting:  I agree with the...</td>\n",
       "      <td>BALDOCK</td>\n",
       "      <td>1985</td>\n",
       "    </tr>\n",
       "  </tbody>\n",
       "</table>\n",
       "<p>5836 rows × 4 columns</p>\n",
       "</div>"
      ],
      "text/plain": [
       "                      dc_identifier  \\\n",
       "844    3S4X-71C0-003B-529N-00000-00   \n",
       "885    3RTX-3SR0-006F-M3DB-00000-00   \n",
       "1796   3S4W-WV90-003B-G3FG-00000-00   \n",
       "2136   3S4X-BB10-0039-P06S-00000-00   \n",
       "2871   3S4X-FVP0-003B-P4K6-00000-00   \n",
       "...                             ...   \n",
       "49153  3S4X-DFM0-0039-P481-00000-00   \n",
       "49805  3S4X-DJD0-0039-P4DB-00000-00   \n",
       "52059  3XW3-DXF0-0038-X1M0-00000-00   \n",
       "53440  3RHB-X5H0-001T-D00M-00000-00   \n",
       "53681  3S4X-F6B0-0039-P0G7-00000-00   \n",
       "\n",
       "                                                 opinion authorship  \\\n",
       "844    ,  Allen appeals his conviction on charges of ...      LOGAN   \n",
       "885    , Defendant Robert Lee Willis appeals followin...      LOGAN   \n",
       "1796   ,  The Secretary of Labor brings this action t...      LOGAN   \n",
       "2136   ,  Carl Emmitt Prichard appeals his conviction...      LOGAN   \n",
       "2871   ORDER AND JUDGMENT * This order and judgment h...      LOGAN   \n",
       "...                                                  ...        ...   \n",
       "49153  ,  This is an appeal from an order of the dist...    BALDOCK   \n",
       "49805  Before, Chief, and, *United States District Co...    BALDOCK   \n",
       "52059  , Plaintiff Stephen Thomas Taylor sued his for...    BALDOCK   \n",
       "53440  , Defendants Milton Edwards, William Lawrence,...    BALDOCK   \n",
       "53681  , concurring and dissenting:  I agree with the...    BALDOCK   \n",
       "\n",
       "       date_standard  \n",
       "844             1990  \n",
       "885             1996  \n",
       "1796            1984  \n",
       "2136            1986  \n",
       "2871            1993  \n",
       "...              ...  \n",
       "49153           1985  \n",
       "49805           1985  \n",
       "52059           1999  \n",
       "53440           1995  \n",
       "53681           1985  \n",
       "\n",
       "[5836 rows x 4 columns]"
      ]
     },
     "execution_count": 33,
     "metadata": {},
     "output_type": "execute_result"
    }
   ],
   "source": [
    "split2"
   ]
  },
  {
   "cell_type": "code",
   "execution_count": 52,
   "metadata": {},
   "outputs": [
    {
     "data": {
      "text/plain": [
       "0    676\n",
       "1    673\n",
       "2    663\n",
       "3    629\n",
       "4    628\n",
       "5    545\n",
       "6    522\n",
       "7    511\n",
       "8    499\n",
       "9    490\n",
       "Name: authorship, dtype: int64"
      ]
     },
     "execution_count": 52,
     "metadata": {},
     "output_type": "execute_result"
    }
   ],
   "source": [
    "split2names = split2.authorship.unique()\n",
    "\n",
    "\n",
    "for index, name in enumerate(split2names):\n",
    "    split2.authorship = split2.authorship.str.replace(name, str(index))\n",
    "\n",
    "split2.authorship.value_counts()"
   ]
  },
  {
   "cell_type": "code",
   "execution_count": 50,
   "metadata": {},
   "outputs": [
    {
     "data": {
      "text/plain": [
       "array(['LOGAN', 'STEPHEN H. ANDERSON', 'WADE BRORBY', 'SEYMOUR', 'MCKAY',\n",
       "       'TACHA', 'DEANELL REECE TACHA', 'DAVID M. EBEL',\n",
       "       'BOBBY R. BALDOCK', 'BALDOCK'], dtype=object)"
      ]
     },
     "execution_count": 50,
     "metadata": {},
     "output_type": "execute_result"
    }
   ],
   "source": [
    "split2names"
   ]
  },
  {
   "cell_type": "code",
   "execution_count": 49,
   "metadata": {},
   "outputs": [
    {
     "name": "stdout",
     "output_type": "stream",
     "text": [
      "DEANELL REECE 5\n",
      "DEANELL REECE 5\n",
      "DEANELL REECE 5\n",
      "DEANELL REECE 5\n",
      "DEANELL REECE 5\n",
      "DEANELL REECE 5\n",
      "DEANELL REECE 5\n",
      "DEANELL REECE 5\n",
      "DEANELL REECE 5\n",
      "DEANELL REECE 5\n",
      "DEANELL REECE 5\n",
      "DEANELL REECE 5\n",
      "DEANELL REECE 5\n",
      "DEANELL REECE 5\n",
      "DEANELL REECE 5\n",
      "DEANELL REECE 5\n",
      "DEANELL REECE 5\n",
      "DEANELL REECE 5\n",
      "DEANELL REECE 5\n",
      "DEANELL REECE 5\n",
      "DEANELL REECE 5\n",
      "DEANELL REECE 5\n",
      "DEANELL REECE 5\n",
      "DEANELL REECE 5\n",
      "DEANELL REECE 5\n",
      "DEANELL REECE 5\n",
      "DEANELL REECE 5\n",
      "DEANELL REECE 5\n",
      "DEANELL REECE 5\n",
      "DEANELL REECE 5\n",
      "DEANELL REECE 5\n",
      "DEANELL REECE 5\n",
      "DEANELL REECE 5\n",
      "DEANELL REECE 5\n",
      "DEANELL REECE 5\n",
      "DEANELL REECE 5\n",
      "DEANELL REECE 5\n",
      "DEANELL REECE 5\n",
      "DEANELL REECE 5\n",
      "DEANELL REECE 5\n",
      "DEANELL REECE 5\n",
      "DEANELL REECE 5\n",
      "DEANELL REECE 5\n",
      "DEANELL REECE 5\n",
      "DEANELL REECE 5\n",
      "DEANELL REECE 5\n",
      "DEANELL REECE 5\n",
      "DEANELL REECE 5\n",
      "DEANELL REECE 5\n",
      "DEANELL REECE 5\n",
      "DEANELL REECE 5\n",
      "DEANELL REECE 5\n",
      "DEANELL REECE 5\n",
      "DEANELL REECE 5\n",
      "DEANELL REECE 5\n",
      "DEANELL REECE 5\n",
      "DEANELL REECE 5\n",
      "DEANELL REECE 5\n",
      "DEANELL REECE 5\n",
      "DEANELL REECE 5\n",
      "DEANELL REECE 5\n",
      "DEANELL REECE 5\n",
      "DEANELL REECE 5\n",
      "DEANELL REECE 5\n",
      "DEANELL REECE 5\n",
      "DEANELL REECE 5\n",
      "DEANELL REECE 5\n",
      "DEANELL REECE 5\n",
      "DEANELL REECE 5\n",
      "DEANELL REECE 5\n",
      "DEANELL REECE 5\n",
      "DEANELL REECE 5\n",
      "DEANELL REECE 5\n",
      "DEANELL REECE 5\n",
      "DEANELL REECE 5\n",
      "DEANELL REECE 5\n",
      "DEANELL REECE 5\n",
      "DEANELL REECE 5\n",
      "DEANELL REECE 5\n",
      "DEANELL REECE 5\n",
      "DEANELL REECE 5\n",
      "DEANELL REECE 5\n",
      "DEANELL REECE 5\n",
      "DEANELL REECE 5\n",
      "DEANELL REECE 5\n",
      "DEANELL REECE 5\n",
      "DEANELL REECE 5\n",
      "DEANELL REECE 5\n",
      "DEANELL REECE 5\n",
      "DEANELL REECE 5\n",
      "DEANELL REECE 5\n",
      "DEANELL REECE 5\n",
      "DEANELL REECE 5\n",
      "DEANELL REECE 5\n",
      "DEANELL REECE 5\n",
      "DEANELL REECE 5\n",
      "DEANELL REECE 5\n",
      "DEANELL REECE 5\n",
      "DEANELL REECE 5\n",
      "DEANELL REECE 5\n",
      "DEANELL REECE 5\n",
      "DEANELL REECE 5\n",
      "DEANELL REECE 5\n",
      "DEANELL REECE 5\n",
      "DEANELL REECE 5\n",
      "DEANELL REECE 5\n",
      "DEANELL REECE 5\n",
      "DEANELL REECE 5\n",
      "DEANELL REECE 5\n",
      "DEANELL REECE 5\n",
      "DEANELL REECE 5\n",
      "DEANELL REECE 5\n",
      "DEANELL REECE 5\n",
      "DEANELL REECE 5\n",
      "DEANELL REECE 5\n",
      "DEANELL REECE 5\n",
      "DEANELL REECE 5\n",
      "DEANELL REECE 5\n",
      "DEANELL REECE 5\n",
      "DEANELL REECE 5\n",
      "DEANELL REECE 5\n",
      "DEANELL REECE 5\n",
      "DEANELL REECE 5\n",
      "DEANELL REECE 5\n",
      "DEANELL REECE 5\n",
      "DEANELL REECE 5\n",
      "DEANELL REECE 5\n",
      "DEANELL REECE 5\n",
      "DEANELL REECE 5\n",
      "DEANELL REECE 5\n",
      "DEANELL REECE 5\n",
      "DEANELL REECE 5\n",
      "DEANELL REECE 5\n",
      "DEANELL REECE 5\n",
      "DEANELL REECE 5\n",
      "DEANELL REECE 5\n",
      "DEANELL REECE 5\n",
      "DEANELL REECE 5\n",
      "DEANELL REECE 5\n",
      "DEANELL REECE 5\n",
      "DEANELL REECE 5\n",
      "DEANELL REECE 5\n",
      "DEANELL REECE 5\n",
      "DEANELL REECE 5\n",
      "DEANELL REECE 5\n",
      "DEANELL REECE 5\n",
      "DEANELL REECE 5\n",
      "DEANELL REECE 5\n",
      "DEANELL REECE 5\n",
      "DEANELL REECE 5\n",
      "DEANELL REECE 5\n",
      "DEANELL REECE 5\n",
      "DEANELL REECE 5\n",
      "DEANELL REECE 5\n",
      "DEANELL REECE 5\n",
      "DEANELL REECE 5\n",
      "DEANELL REECE 5\n",
      "DEANELL REECE 5\n",
      "DEANELL REECE 5\n",
      "DEANELL REECE 5\n",
      "DEANELL REECE 5\n",
      "DEANELL REECE 5\n",
      "DEANELL REECE 5\n",
      "DEANELL REECE 5\n",
      "DEANELL REECE 5\n",
      "DEANELL REECE 5\n",
      "DEANELL REECE 5\n",
      "DEANELL REECE 5\n",
      "DEANELL REECE 5\n",
      "DEANELL REECE 5\n",
      "DEANELL REECE 5\n",
      "DEANELL REECE 5\n",
      "DEANELL REECE 5\n",
      "DEANELL REECE 5\n",
      "DEANELL REECE 5\n",
      "DEANELL REECE 5\n",
      "DEANELL REECE 5\n",
      "DEANELL REECE 5\n",
      "DEANELL REECE 5\n",
      "DEANELL REECE 5\n",
      "DEANELL REECE 5\n",
      "DEANELL REECE 5\n",
      "DEANELL REECE 5\n",
      "DEANELL REECE 5\n",
      "DEANELL REECE 5\n",
      "DEANELL REECE 5\n",
      "DEANELL REECE 5\n",
      "DEANELL REECE 5\n",
      "DEANELL REECE 5\n",
      "DEANELL REECE 5\n",
      "DEANELL REECE 5\n",
      "DEANELL REECE 5\n",
      "DEANELL REECE 5\n",
      "DEANELL REECE 5\n",
      "DEANELL REECE 5\n",
      "DEANELL REECE 5\n",
      "DEANELL REECE 5\n",
      "DEANELL REECE 5\n",
      "DEANELL REECE 5\n",
      "DEANELL REECE 5\n",
      "DEANELL REECE 5\n",
      "DEANELL REECE 5\n",
      "DEANELL REECE 5\n",
      "DEANELL REECE 5\n",
      "DEANELL REECE 5\n",
      "DEANELL REECE 5\n",
      "DEANELL REECE 5\n",
      "DEANELL REECE 5\n",
      "DEANELL REECE 5\n",
      "DEANELL REECE 5\n",
      "DEANELL REECE 5\n",
      "DEANELL REECE 5\n",
      "DEANELL REECE 5\n",
      "DEANELL REECE 5\n",
      "DEANELL REECE 5\n",
      "DEANELL REECE 5\n",
      "DEANELL REECE 5\n",
      "DEANELL REECE 5\n",
      "DEANELL REECE 5\n",
      "DEANELL REECE 5\n",
      "DEANELL REECE 5\n",
      "DEANELL REECE 5\n",
      "DEANELL REECE 5\n",
      "DEANELL REECE 5\n",
      "DEANELL REECE 5\n",
      "DEANELL REECE 5\n",
      "DEANELL REECE 5\n",
      "DEANELL REECE 5\n",
      "DEANELL REECE 5\n",
      "DEANELL REECE 5\n",
      "DEANELL REECE 5\n",
      "DEANELL REECE 5\n",
      "DEANELL REECE 5\n",
      "DEANELL REECE 5\n",
      "DEANELL REECE 5\n",
      "DEANELL REECE 5\n",
      "DEANELL REECE 5\n",
      "DEANELL REECE 5\n",
      "DEANELL REECE 5\n",
      "DEANELL REECE 5\n",
      "DEANELL REECE 5\n",
      "DEANELL REECE 5\n",
      "DEANELL REECE 5\n",
      "DEANELL REECE 5\n",
      "DEANELL REECE 5\n",
      "DEANELL REECE 5\n",
      "DEANELL REECE 5\n",
      "DEANELL REECE 5\n",
      "DEANELL REECE 5\n",
      "DEANELL REECE 5\n",
      "DEANELL REECE 5\n",
      "DEANELL REECE 5\n",
      "DEANELL REECE 5\n",
      "DEANELL REECE 5\n",
      "DEANELL REECE 5\n",
      "DEANELL REECE 5\n",
      "DEANELL REECE 5\n",
      "DEANELL REECE 5\n",
      "DEANELL REECE 5\n",
      "DEANELL REECE 5\n",
      "DEANELL REECE 5\n",
      "DEANELL REECE 5\n",
      "DEANELL REECE 5\n",
      "DEANELL REECE 5\n",
      "DEANELL REECE 5\n",
      "DEANELL REECE 5\n",
      "DEANELL REECE 5\n",
      "DEANELL REECE 5\n",
      "DEANELL REECE 5\n",
      "DEANELL REECE 5\n",
      "DEANELL REECE 5\n",
      "DEANELL REECE 5\n",
      "DEANELL REECE 5\n",
      "DEANELL REECE 5\n",
      "DEANELL REECE 5\n",
      "DEANELL REECE 5\n",
      "DEANELL REECE 5\n",
      "DEANELL REECE 5\n",
      "DEANELL REECE 5\n",
      "DEANELL REECE 5\n",
      "DEANELL REECE 5\n",
      "DEANELL REECE 5\n",
      "DEANELL REECE 5\n",
      "DEANELL REECE 5\n",
      "DEANELL REECE 5\n",
      "DEANELL REECE 5\n",
      "DEANELL REECE 5\n",
      "DEANELL REECE 5\n",
      "DEANELL REECE 5\n",
      "DEANELL REECE 5\n",
      "DEANELL REECE 5\n",
      "DEANELL REECE 5\n",
      "DEANELL REECE 5\n",
      "DEANELL REECE 5\n",
      "DEANELL REECE 5\n",
      "DEANELL REECE 5\n",
      "DEANELL REECE 5\n",
      "DEANELL REECE 5\n",
      "DEANELL REECE 5\n",
      "DEANELL REECE 5\n",
      "DEANELL REECE 5\n",
      "DEANELL REECE 5\n",
      "DEANELL REECE 5\n",
      "DEANELL REECE 5\n",
      "DEANELL REECE 5\n",
      "DEANELL REECE 5\n",
      "DEANELL REECE 5\n",
      "DEANELL REECE 5\n",
      "DEANELL REECE 5\n",
      "DEANELL REECE 5\n",
      "DEANELL REECE 5\n",
      "DEANELL REECE 5\n",
      "DEANELL REECE 5\n",
      "DEANELL REECE 5\n",
      "DEANELL REECE 5\n",
      "DEANELL REECE 5\n",
      "DEANELL REECE 5\n",
      "DEANELL REECE 5\n",
      "DEANELL REECE 5\n",
      "DEANELL REECE 5\n",
      "DEANELL REECE 5\n",
      "DEANELL REECE 5\n",
      "DEANELL REECE 5\n",
      "DEANELL REECE 5\n",
      "DEANELL REECE 5\n",
      "DEANELL REECE 5\n",
      "DEANELL REECE 5\n",
      "DEANELL REECE 5\n",
      "DEANELL REECE 5\n",
      "DEANELL REECE 5\n",
      "DEANELL REECE 5\n",
      "DEANELL REECE 5\n",
      "DEANELL REECE 5\n",
      "DEANELL REECE 5\n",
      "DEANELL REECE 5\n",
      "DEANELL REECE 5\n",
      "DEANELL REECE 5\n",
      "DEANELL REECE 5\n",
      "DEANELL REECE 5\n",
      "DEANELL REECE 5\n",
      "DEANELL REECE 5\n",
      "DEANELL REECE 5\n",
      "DEANELL REECE 5\n",
      "DEANELL REECE 5\n",
      "DEANELL REECE 5\n",
      "DEANELL REECE 5\n",
      "DEANELL REECE 5\n",
      "DEANELL REECE 5\n",
      "DEANELL REECE 5\n",
      "DEANELL REECE 5\n",
      "DEANELL REECE 5\n",
      "DEANELL REECE 5\n",
      "DEANELL REECE 5\n",
      "DEANELL REECE 5\n",
      "DEANELL REECE 5\n",
      "DEANELL REECE 5\n",
      "DEANELL REECE 5\n",
      "DEANELL REECE 5\n",
      "DEANELL REECE 5\n",
      "DEANELL REECE 5\n",
      "DEANELL REECE 5\n",
      "DEANELL REECE 5\n",
      "DEANELL REECE 5\n",
      "DEANELL REECE 5\n",
      "DEANELL REECE 5\n",
      "DEANELL REECE 5\n",
      "DEANELL REECE 5\n",
      "DEANELL REECE 5\n",
      "DEANELL REECE 5\n",
      "DEANELL REECE 5\n",
      "DEANELL REECE 5\n",
      "DEANELL REECE 5\n",
      "DEANELL REECE 5\n",
      "DEANELL REECE 5\n",
      "DEANELL REECE 5\n",
      "DEANELL REECE 5\n",
      "DEANELL REECE 5\n",
      "DEANELL REECE 5\n",
      "DEANELL REECE 5\n",
      "DEANELL REECE 5\n",
      "DEANELL REECE 5\n",
      "DEANELL REECE 5\n",
      "DEANELL REECE 5\n",
      "DEANELL REECE 5\n",
      "DEANELL REECE 5\n",
      "DEANELL REECE 5\n",
      "DEANELL REECE 5\n",
      "DEANELL REECE 5\n",
      "DEANELL REECE 5\n",
      "DEANELL REECE 5\n",
      "DEANELL REECE 5\n",
      "DEANELL REECE 5\n",
      "DEANELL REECE 5\n",
      "DEANELL REECE 5\n",
      "DEANELL REECE 5\n",
      "DEANELL REECE 5\n",
      "DEANELL REECE 5\n",
      "DEANELL REECE 5\n",
      "DEANELL REECE 5\n",
      "DEANELL REECE 5\n",
      "DEANELL REECE 5\n",
      "DEANELL REECE 5\n",
      "DEANELL REECE 5\n",
      "DEANELL REECE 5\n",
      "DEANELL REECE 5\n",
      "DEANELL REECE 5\n",
      "DEANELL REECE 5\n",
      "DEANELL REECE 5\n",
      "DEANELL REECE 5\n",
      "DEANELL REECE 5\n",
      "DEANELL REECE 5\n",
      "DEANELL REECE 5\n",
      "DEANELL REECE 5\n",
      "DEANELL REECE 5\n",
      "DEANELL REECE 5\n",
      "DEANELL REECE 5\n",
      "DEANELL REECE 5\n",
      "DEANELL REECE 5\n",
      "DEANELL REECE 5\n",
      "DEANELL REECE 5\n",
      "DEANELL REECE 5\n",
      "DEANELL REECE 5\n",
      "DEANELL REECE 5\n",
      "DEANELL REECE 5\n",
      "DEANELL REECE 5\n",
      "DEANELL REECE 5\n",
      "DEANELL REECE 5\n",
      "DEANELL REECE 5\n",
      "DEANELL REECE 5\n",
      "DEANELL REECE 5\n",
      "DEANELL REECE 5\n",
      "DEANELL REECE 5\n",
      "DEANELL REECE 5\n",
      "DEANELL REECE 5\n",
      "DEANELL REECE 5\n",
      "DEANELL REECE 5\n",
      "DEANELL REECE 5\n",
      "DEANELL REECE 5\n",
      "DEANELL REECE 5\n",
      "DEANELL REECE 5\n",
      "DEANELL REECE 5\n",
      "DEANELL REECE 5\n",
      "DEANELL REECE 5\n",
      "DEANELL REECE 5\n",
      "DEANELL REECE 5\n",
      "DEANELL REECE 5\n",
      "DEANELL REECE 5\n",
      "DEANELL REECE 5\n",
      "DEANELL REECE 5\n",
      "DEANELL REECE 5\n",
      "DEANELL REECE 5\n",
      "DEANELL REECE 5\n",
      "DEANELL REECE 5\n",
      "DEANELL REECE 5\n",
      "DEANELL REECE 5\n",
      "DEANELL REECE 5\n",
      "DEANELL REECE 5\n",
      "DEANELL REECE 5\n",
      "DEANELL REECE 5\n",
      "DEANELL REECE 5\n",
      "DEANELL REECE 5\n",
      "DEANELL REECE 5\n",
      "DEANELL REECE 5\n",
      "DEANELL REECE 5\n",
      "DEANELL REECE 5\n",
      "DEANELL REECE 5\n",
      "DEANELL REECE 5\n",
      "DEANELL REECE 5\n",
      "DEANELL REECE 5\n",
      "DEANELL REECE 5\n",
      "DEANELL REECE 5\n",
      "DEANELL REECE 5\n",
      "DEANELL REECE 5\n",
      "DEANELL REECE 5\n",
      "DEANELL REECE 5\n",
      "DEANELL REECE 5\n",
      "DEANELL REECE 5\n",
      "DEANELL REECE 5\n",
      "DEANELL REECE 5\n",
      "DEANELL REECE 5\n",
      "DEANELL REECE 5\n",
      "DEANELL REECE 5\n",
      "DEANELL REECE 5\n",
      "DEANELL REECE 5\n",
      "DEANELL REECE 5\n",
      "DEANELL REECE 5\n",
      "DEANELL REECE 5\n",
      "DEANELL REECE 5\n",
      "DEANELL REECE 5\n",
      "DEANELL REECE 5\n",
      "DEANELL REECE 5\n",
      "DEANELL REECE 5\n",
      "DEANELL REECE 5\n",
      "DEANELL REECE 5\n",
      "DEANELL REECE 5\n",
      "DEANELL REECE 5\n",
      "DEANELL REECE 5\n",
      "DEANELL REECE 5\n",
      "DEANELL REECE 5\n",
      "DEANELL REECE 5\n",
      "DEANELL REECE 5\n",
      "DEANELL REECE 5\n",
      "DEANELL REECE 5\n",
      "DEANELL REECE 5\n",
      "DEANELL REECE 5\n",
      "DEANELL REECE 5\n",
      "DEANELL REECE 5\n",
      "DEANELL REECE 5\n",
      "DEANELL REECE 5\n",
      "DEANELL REECE 5\n",
      "DEANELL REECE 5\n",
      "DEANELL REECE 5\n",
      "DEANELL REECE 5\n",
      "DEANELL REECE 5\n",
      "DEANELL REECE 5\n",
      "DEANELL REECE 5\n",
      "DEANELL REECE 5\n",
      "DEANELL REECE 5\n",
      "DEANELL REECE 5\n",
      "DEANELL REECE 5\n",
      "DEANELL REECE 5\n",
      "DEANELL REECE 5\n"
     ]
    }
   ],
   "source": [
    "for i,row in split2.iterrows():\n",
    "    if (row.authorship not in ['0','1','2','3','4','5','6','7','8','9']):\n",
    "        print(row.authorship)"
   ]
  },
  {
   "cell_type": "code",
   "execution_count": null,
   "metadata": {},
   "outputs": [],
   "source": [
    "vectorizer2 = CountVectorizer(lowercase=False, ngram_range=(1,3), min_df=30, max_features=3000)\n",
    "bowM2 = vectorizer2.fit_transform(split2.opinion)\n",
    "#print(bowM2.toarray().shape)\n",
    "#print(vectorizer2.get_feature_names())"
   ]
  },
  {
   "cell_type": "code",
   "execution_count": null,
   "metadata": {},
   "outputs": [],
   "source": [
    "X2 = pd.DataFrame.sparse.from_spmatrix(bowM2)\n",
    "X2 = X2.sparse.to_dense()"
   ]
  },
  {
   "cell_type": "code",
   "execution_count": null,
   "metadata": {},
   "outputs": [],
   "source": [
    "for x in range(0,len(X2.columns)):\n",
    "    mean = X2.iloc[:,x].mean()\n",
    "    std = X2.iloc[:,x].std()\n",
    "    X2.iloc[:,x] = (X2.iloc[:,x] - mean)/std"
   ]
  },
  {
   "cell_type": "code",
   "execution_count": 26,
   "metadata": {},
   "outputs": [],
   "source": [
    "Y2 = split2.authorship.to_frame().reset_index().drop(columns=['index'])\n",
    "\n",
    "X2_Training, X2_Testing, y2_Training, y2_Testing = train_test_split(X2, Y2, test_size=0.2, random_state=1234)"
   ]
  },
  {
   "cell_type": "code",
   "execution_count": 27,
   "metadata": {},
   "outputs": [
    {
     "name": "stderr",
     "output_type": "stream",
     "text": [
      "/home/nicolas/.local/lib/python3.6/site-packages/sklearn/utils/validation.py:760: DataConversionWarning: A column-vector y was passed when a 1d array was expected. Please change the shape of y to (n_samples, ), for example using ravel().\n",
      "  y = column_or_1d(y, warn=True)\n"
     ]
    },
    {
     "name": "stdout",
     "output_type": "stream",
     "text": [
      "[LibSVM]0.7721153846153846\n",
      "[LibSVM]"
     ]
    },
    {
     "name": "stderr",
     "output_type": "stream",
     "text": [
      "/home/nicolas/.local/lib/python3.6/site-packages/sklearn/utils/validation.py:760: DataConversionWarning: A column-vector y was passed when a 1d array was expected. Please change the shape of y to (n_samples, ), for example using ravel().\n",
      "  y = column_or_1d(y, warn=True)\n"
     ]
    },
    {
     "name": "stdout",
     "output_type": "stream",
     "text": [
      "0.7778846153846154\n",
      "[LibSVM]"
     ]
    },
    {
     "name": "stderr",
     "output_type": "stream",
     "text": [
      "/home/nicolas/.local/lib/python3.6/site-packages/sklearn/utils/validation.py:760: DataConversionWarning: A column-vector y was passed when a 1d array was expected. Please change the shape of y to (n_samples, ), for example using ravel().\n",
      "  y = column_or_1d(y, warn=True)\n"
     ]
    },
    {
     "name": "stdout",
     "output_type": "stream",
     "text": [
      "0.7721153846153846\n",
      "[LibSVM]"
     ]
    },
    {
     "name": "stderr",
     "output_type": "stream",
     "text": [
      "/home/nicolas/.local/lib/python3.6/site-packages/sklearn/utils/validation.py:760: DataConversionWarning: A column-vector y was passed when a 1d array was expected. Please change the shape of y to (n_samples, ), for example using ravel().\n",
      "  y = column_or_1d(y, warn=True)\n"
     ]
    },
    {
     "name": "stdout",
     "output_type": "stream",
     "text": [
      "0.7807692307692308\n",
      "[LibSVM]"
     ]
    },
    {
     "name": "stderr",
     "output_type": "stream",
     "text": [
      "/home/nicolas/.local/lib/python3.6/site-packages/sklearn/utils/validation.py:760: DataConversionWarning: A column-vector y was passed when a 1d array was expected. Please change the shape of y to (n_samples, ), for example using ravel().\n",
      "  y = column_or_1d(y, warn=True)\n"
     ]
    },
    {
     "name": "stdout",
     "output_type": "stream",
     "text": [
      "0.7644230769230769\n",
      "Accuracy:  0.7734615384615384  +/-  0.005626438014741475\n"
     ]
    }
   ],
   "source": [
    "scores = [0,0,0,0,0]\n",
    "\n",
    "for i in range(0,5):\n",
    "    classifier = svm.SVC(kernel='poly',degree=1,C=1,class_weight='balanced', verbose=True, probability=True)\n",
    "\n",
    "    X2_train, X2_test, y2_train, y2_test = train_test_split(X2_Training, y2_Training, test_size=0.2, random_state=i)\n",
    "    classifier.fit(np.array(X2_train), np.array(y2_train))\n",
    "    values = classifier.predict_proba(np.array(X2_test))\n",
    "    \n",
    "    correct = 0\n",
    "    counter = 0\n",
    "    for k in range(0,y2_test.size):\n",
    "        if np.amax(values[k]) == values[k][int(y2_test.iloc[k])]:\n",
    "            correct += 1\n",
    "        counter += 1\n",
    "        \n",
    "    scores[i] = correct/counter\n",
    "    print(scores[i])\n",
    "    \n",
    "print('Accuracy: ', np.array(scores).mean(), ' +/- ', np.array(scores).std())"
   ]
  },
  {
   "cell_type": "code",
   "execution_count": 28,
   "metadata": {},
   "outputs": [
    {
     "data": {
      "image/png": "[encoded data removed]",
      "text/plain": [
       "<Figure size 432x288 with 1 Axes>"
      ]
     },
     "metadata": {
      "needs_background": "light"
     },
     "output_type": "display_data"
    },
    {
     "name": "stdout",
     "output_type": "stream",
     "text": [
      "Accuracy:  0.7517294388931591\n"
     ]
    },
    {
     "data": {
      "image/png": "[encoded data removed]",
      "text/plain": [
       "<Figure size 432x288 with 1 Axes>"
      ]
     },
     "metadata": {
      "needs_background": "light"
     },
     "output_type": "display_data"
    },
    {
     "name": "stdout",
     "output_type": "stream",
     "text": [
      "Accuracy:  0.7517294388931591\n"
     ]
    },
    {
     "data": {
      "image/png": "[encoded data removed]",
      "text/plain": [
       "<Figure size 432x288 with 1 Axes>"
      ]
     },
     "metadata": {
      "needs_background": "light"
     },
     "output_type": "display_data"
    },
    {
     "name": "stdout",
     "output_type": "stream",
     "text": [
      "Accuracy:  0.7517294388931591\n"
     ]
    },
    {
     "data": {
      "image/png": "[encoded data removed]",
      "text/plain": [
       "<Figure size 432x288 with 1 Axes>"
      ]
     },
     "metadata": {
      "needs_background": "light"
     },
     "output_type": "display_data"
    },
    {
     "name": "stdout",
     "output_type": "stream",
     "text": [
      "Accuracy:  0.7517294388931591\n"
     ]
    },
    {
     "data": {
      "image/png": "[encoded data removed]",
      "text/plain": [
       "<Figure size 432x288 with 1 Axes>"
      ]
     },
     "metadata": {
      "needs_background": "light"
     },
     "output_type": "display_data"
    },
    {
     "name": "stdout",
     "output_type": "stream",
     "text": [
      "Accuracy:  0.7517294388931591\n"
     ]
    },
    {
     "data": {
      "image/png": "[encoded data removed]",
      "text/plain": [
       "<Figure size 432x288 with 1 Axes>"
      ]
     },
     "metadata": {
      "needs_background": "light"
     },
     "output_type": "display_data"
    },
    {
     "name": "stdout",
     "output_type": "stream",
     "text": [
      "Accuracy:  0.7517294388931591\n"
     ]
    },
    {
     "data": {
      "image/png": "[encoded data removed]",
      "text/plain": [
       "<Figure size 432x288 with 1 Axes>"
      ]
     },
     "metadata": {
      "needs_background": "light"
     },
     "output_type": "display_data"
    },
    {
     "name": "stdout",
     "output_type": "stream",
     "text": [
      "Accuracy:  0.7517294388931591\n"
     ]
    },
    {
     "data": {
      "image/png": "[encoded data removed]",
      "text/plain": [
       "<Figure size 432x288 with 1 Axes>"
      ]
     },
     "metadata": {
      "needs_background": "light"
     },
     "output_type": "display_data"
    },
    {
     "name": "stdout",
     "output_type": "stream",
     "text": [
      "Accuracy:  0.7517294388931591\n"
     ]
    },
    {
     "data": {
      "image/png": "[encoded data removed]",
      "text/plain": [
       "<Figure size 432x288 with 1 Axes>"
      ]
     },
     "metadata": {
      "needs_background": "light"
     },
     "output_type": "display_data"
    },
    {
     "name": "stdout",
     "output_type": "stream",
     "text": [
      "Accuracy:  0.7517294388931591\n"
     ]
    },
    {
     "data": {
      "image/png": "[encoded data removed]",
      "text/plain": [
       "<Figure size 432x288 with 1 Axes>"
      ]
     },
     "metadata": {
      "needs_background": "light"
     },
     "output_type": "display_data"
    },
    {
     "name": "stdout",
     "output_type": "stream",
     "text": [
      "Accuracy:  0.7517294388931591\n"
     ]
    }
   ],
   "source": [
    "values2 = classifier.predict_proba(np.array(X2_Testing))\n",
    "data2 = pd.DataFrame(data=values2)\n",
    "data2['Y'] = y2_Testing.authorship.to_frame().reset_index().drop(columns=['index'])\n",
    "data2.to_csv('94_split2_results.csv', index=False)\n",
    "\n",
    "for l in range(0,10):\n",
    "    probs = [0,0,0,0,0,0,0,0,0,0]\n",
    "    count = 0\n",
    "\n",
    "    for i,row in data2.iterrows():\n",
    "        if(row['Y'] == l):\n",
    "            count += 1\n",
    "            for k in range(0,10):\n",
    "                probs[k] += row[k]\n",
    "            count += 1\n",
    "\n",
    "    for k in range(0,10):\n",
    "        probs[k] = probs[k]/count\n",
    "\n",
    "    objects = ('1','2','3','4','5','6','7','8','9','10')\n",
    "    y_pos = np.arange(len(objects))\n",
    "    performance = probs\n",
    "\n",
    "    plt.bar(y_pos, performance, align='center', alpha=0.5)\n",
    "    plt.xticks(y_pos, objects)\n",
    "    plt.title('Probability distribution')\n",
    "\n",
    "    plt.show()\n",
    "    \n",
    "    correct = 0\n",
    "    counter = 0\n",
    "    for k in range(0,y2_Testing.size):\n",
    "        if np.amax(values2[k]) == values2[k][int(y2_Testing.iloc[k])]:\n",
    "            correct += 1\n",
    "        counter += 1\n",
    "        \n",
    "    print('Accuracy: ',correct/counter)"
   ]
  },
  {
   "cell_type": "code",
   "execution_count": 29,
   "metadata": {},
   "outputs": [
    {
     "data": {
      "image/png": "[encoded data removed]",
      "text/plain": [
       "<Figure size 432x288 with 1 Axes>"
      ]
     },
     "metadata": {
      "needs_background": "light"
     },
     "output_type": "display_data"
    },
    {
     "name": "stdout",
     "output_type": "stream",
     "text": [
      "[62, 70, 66, 5, 66, 12, 13, 6, 3, 20]\n"
     ]
    }
   ],
   "source": [
    "wrongPredictions = [0,0,0,0,0,0,0,0,0,0]\n",
    "\n",
    "for i,row in data2.iterrows():\n",
    "    if row[int(row['Y'])] != np.amax(row[:10]):\n",
    "        wrongPredictions[(int(row['Y']))] += 1\n",
    "        #print(i)\n",
    "        \n",
    "objects = ('1','2','3','4','5','6','7','8','9','10')\n",
    "y_pos = np.arange(len(objects))\n",
    "performance = wrongPredictions\n",
    "\n",
    "plt.bar(y_pos, performance, align='center', alpha=0.5)\n",
    "plt.xticks(y_pos, objects)\n",
    "plt.show()\n",
    "\n",
    "print(wrongPredictions)"
   ]
  },
  {
   "cell_type": "code",
   "execution_count": 30,
   "metadata": {},
   "outputs": [
    {
     "data": {
      "image/png": "[encoded data removed]",
      "text/plain": [
       "<Figure size 432x288 with 1 Axes>"
      ]
     },
     "metadata": {
      "needs_background": "light"
     },
     "output_type": "display_data"
    }
   ],
   "source": [
    "objects = ('1','2','3','4','5','6','7','8','9','10')\n",
    "y_pos = np.arange(len(objects))\n",
    "performance = values2[233]\n",
    "\n",
    "plt.bar(y_pos, performance, align='center', alpha=0.5)\n",
    "plt.xticks(y_pos, objects)\n",
    "plt.title('Probability distribution')\n",
    "\n",
    "plt.show()"
   ]
  },
  {
   "cell_type": "markdown",
   "metadata": {},
   "source": [
    "## Split 3"
   ]
  },
  {
   "cell_type": "code",
   "execution_count": 31,
   "metadata": {},
   "outputs": [
    {
     "data": {
      "text/plain": [
       "LYNCH        1025\n",
       "TORRUELLA     841\n",
       "SELYA         819\n",
       "LIPEZ         691\n",
       "HOWARD        516\n",
       "BOUDIN        488\n",
       "STAHL         361\n",
       "THOMPSON      271\n",
       "KAYATTA       180\n",
       "BARRON        139\n",
       "Name: authorship, dtype: int64"
      ]
     },
     "execution_count": 31,
     "metadata": {},
     "output_type": "execute_result"
    }
   ],
   "source": [
    "split3.authorship.value_counts()"
   ]
  },
  {
   "cell_type": "code",
   "execution_count": 32,
   "metadata": {},
   "outputs": [
    {
     "name": "stdout",
     "output_type": "stream",
     "text": [
      "Number of Datapoints:  5331\n"
     ]
    }
   ],
   "source": [
    "print('Number of Datapoints: ', split3.shape[0])"
   ]
  },
  {
   "cell_type": "code",
   "execution_count": 33,
   "metadata": {},
   "outputs": [],
   "source": [
    "split3names = split3.authorship.unique()\n",
    "\n",
    "for index, name in enumerate(split3names):\n",
    "    split3.authorship = split3.authorship.str.replace(name, str(index))\n",
    "split3.authorship = split3.authorship.astype(int)"
   ]
  },
  {
   "cell_type": "code",
   "execution_count": 34,
   "metadata": {},
   "outputs": [],
   "source": [
    "vectorizer3 = CountVectorizer(lowercase=False, ngram_range=(1,3), min_df=30, max_features=3000)\n",
    "bowM3 = vectorizer3.fit_transform(split3.opinion)\n",
    "#print(bowM3.toarray().shape)\n",
    "#print(vectorizer3.get_feature_names())"
   ]
  },
  {
   "cell_type": "code",
   "execution_count": 35,
   "metadata": {},
   "outputs": [],
   "source": [
    "X3 = pd.DataFrame.sparse.from_spmatrix(bowM3)\n",
    "X3 = X3.sparse.to_dense()"
   ]
  },
  {
   "cell_type": "code",
   "execution_count": 36,
   "metadata": {},
   "outputs": [],
   "source": [
    "for x in range(0,len(X3.columns)):\n",
    "    mean = X3.iloc[:,x].mean()\n",
    "    std = X3.iloc[:,x].std()\n",
    "    X3.iloc[:,x] = (X3.iloc[:,x] - mean)/std"
   ]
  },
  {
   "cell_type": "code",
   "execution_count": 37,
   "metadata": {},
   "outputs": [],
   "source": [
    "Y3 = split3.authorship.to_frame().reset_index().drop(columns=['index'])\n",
    "\n",
    "X3_Training, X3_Testing, y3_Training, y3_Testing = train_test_split(X3, Y3, test_size=0.2, random_state=1234)"
   ]
  },
  {
   "cell_type": "code",
   "execution_count": 38,
   "metadata": {},
   "outputs": [
    {
     "name": "stderr",
     "output_type": "stream",
     "text": [
      "/home/nicolas/.local/lib/python3.6/site-packages/sklearn/utils/validation.py:760: DataConversionWarning: A column-vector y was passed when a 1d array was expected. Please change the shape of y to (n_samples, ), for example using ravel().\n",
      "  y = column_or_1d(y, warn=True)\n"
     ]
    },
    {
     "name": "stdout",
     "output_type": "stream",
     "text": [
      "[LibSVM]0.7655334114888629\n",
      "[LibSVM]"
     ]
    },
    {
     "name": "stderr",
     "output_type": "stream",
     "text": [
      "/home/nicolas/.local/lib/python3.6/site-packages/sklearn/utils/validation.py:760: DataConversionWarning: A column-vector y was passed when a 1d array was expected. Please change the shape of y to (n_samples, ), for example using ravel().\n",
      "  y = column_or_1d(y, warn=True)\n"
     ]
    },
    {
     "name": "stdout",
     "output_type": "stream",
     "text": [
      "0.7831184056271981\n",
      "[LibSVM]"
     ]
    },
    {
     "name": "stderr",
     "output_type": "stream",
     "text": [
      "/home/nicolas/.local/lib/python3.6/site-packages/sklearn/utils/validation.py:760: DataConversionWarning: A column-vector y was passed when a 1d array was expected. Please change the shape of y to (n_samples, ), for example using ravel().\n",
      "  y = column_or_1d(y, warn=True)\n"
     ]
    },
    {
     "name": "stdout",
     "output_type": "stream",
     "text": [
      "0.7702227432590856\n",
      "[LibSVM]"
     ]
    },
    {
     "name": "stderr",
     "output_type": "stream",
     "text": [
      "/home/nicolas/.local/lib/python3.6/site-packages/sklearn/utils/validation.py:760: DataConversionWarning: A column-vector y was passed when a 1d array was expected. Please change the shape of y to (n_samples, ), for example using ravel().\n",
      "  y = column_or_1d(y, warn=True)\n"
     ]
    },
    {
     "name": "stdout",
     "output_type": "stream",
     "text": [
      "0.7995310668229777\n",
      "[LibSVM]"
     ]
    },
    {
     "name": "stderr",
     "output_type": "stream",
     "text": [
      "/home/nicolas/.local/lib/python3.6/site-packages/sklearn/utils/validation.py:760: DataConversionWarning: A column-vector y was passed when a 1d array was expected. Please change the shape of y to (n_samples, ), for example using ravel().\n",
      "  y = column_or_1d(y, warn=True)\n"
     ]
    },
    {
     "name": "stdout",
     "output_type": "stream",
     "text": [
      "0.7549824150058617\n",
      "Accuracy:  0.7746776084407971  +/-  0.015364271911283327\n"
     ]
    }
   ],
   "source": [
    "scores = [0,0,0,0,0]\n",
    "\n",
    "for i in range(0,5):\n",
    "    classifier = svm.SVC(kernel='poly',degree=1,C=1,class_weight='balanced', verbose=True, probability=True)\n",
    "\n",
    "    X3_train, X3_test, y3_train, y3_test = train_test_split(X3_Training, y3_Training, test_size=0.2, random_state=i)\n",
    "    classifier.fit(np.array(X3_train), np.array(y3_train))\n",
    "    values = classifier.predict_proba(np.array(X3_test))\n",
    "    \n",
    "    correct = 0\n",
    "    counter = 0\n",
    "    for k in range(0,y3_test.size):\n",
    "        if np.amax(values[k]) == values[k][int(y3_test.iloc[k])]:\n",
    "            correct += 1\n",
    "        counter += 1\n",
    "        \n",
    "    scores[i] = correct/counter\n",
    "    print(scores[i])\n",
    "    \n",
    "print('Accuracy: ', np.array(scores).mean(), ' +/- ', np.array(scores).std())"
   ]
  },
  {
   "cell_type": "code",
   "execution_count": 39,
   "metadata": {},
   "outputs": [
    {
     "data": {
      "image/png": "[encoded data removed]",
      "text/plain": [
       "<Figure size 432x288 with 1 Axes>"
      ]
     },
     "metadata": {
      "needs_background": "light"
     },
     "output_type": "display_data"
    },
    {
     "data": {
      "image/png": "[encoded data removed]",
      "text/plain": [
       "<Figure size 432x288 with 1 Axes>"
      ]
     },
     "metadata": {
      "needs_background": "light"
     },
     "output_type": "display_data"
    },
    {
     "data": {
      "image/png": "[encoded data removed]",
      "text/plain": [
       "<Figure size 432x288 with 1 Axes>"
      ]
     },
     "metadata": {
      "needs_background": "light"
     },
     "output_type": "display_data"
    },
    {
     "data": {
      "image/png": "[encoded data removed]",
      "text/plain": [
       "<Figure size 432x288 with 1 Axes>"
      ]
     },
     "metadata": {
      "needs_background": "light"
     },
     "output_type": "display_data"
    },
    {
     "data": {
      "image/png": "[encoded data removed]",
      "text/plain": [
       "<Figure size 432x288 with 1 Axes>"
      ]
     },
     "metadata": {
      "needs_background": "light"
     },
     "output_type": "display_data"
    },
    {
     "data": {
      "image/png": "[encoded data removed]",
      "text/plain": [
       "<Figure size 432x288 with 1 Axes>"
      ]
     },
     "metadata": {
      "needs_background": "light"
     },
     "output_type": "display_data"
    },
    {
     "data": {
      "image/png": "[encoded data removed]",
      "text/plain": [
       "<Figure size 432x288 with 1 Axes>"
      ]
     },
     "metadata": {
      "needs_background": "light"
     },
     "output_type": "display_data"
    },
    {
     "data": {
      "image/png": "[encoded data removed]",
      "text/plain": [
       "<Figure size 432x288 with 1 Axes>"
      ]
     },
     "metadata": {
      "needs_background": "light"
     },
     "output_type": "display_data"
    },
    {
     "data": {
      "image/png": "[encoded data removed]",
      "text/plain": [
       "<Figure size 432x288 with 1 Axes>"
      ]
     },
     "metadata": {
      "needs_background": "light"
     },
     "output_type": "display_data"
    },
    {
     "data": {
      "image/png": "[encoded data removed]",
      "text/plain": [
       "<Figure size 432x288 with 1 Axes>"
      ]
     },
     "metadata": {
      "needs_background": "light"
     },
     "output_type": "display_data"
    }
   ],
   "source": [
    "values3 = classifier.predict_proba(np.array(X3_Testing))\n",
    "data3 = pd.DataFrame(data=values3)\n",
    "data3['Y'] = y3_Testing.authorship.to_frame().reset_index().drop(columns=['index'])\n",
    "data3.to_csv('94_split3_results.csv', index=False)\n",
    "\n",
    "for l in range(0,10):\n",
    "    probs = [0,0,0,0,0,0,0,0,0,0]\n",
    "    count = 0\n",
    "\n",
    "    for i,row in data3.iterrows():\n",
    "        if(row['Y'] == l):\n",
    "            count += 1\n",
    "            for k in range(0,10):\n",
    "                probs[k] += row[k]\n",
    "            count += 1\n",
    "\n",
    "    for k in range(0,10):\n",
    "        probs[k] = probs[k]/count\n",
    "\n",
    "    objects = ('1','2','3','4','5','6','7','8','9','10')\n",
    "    y_pos = np.arange(len(objects))\n",
    "    performance = probs\n",
    "\n",
    "    plt.bar(y_pos, performance, align='center', alpha=0.5)\n",
    "    plt.xticks(y_pos, objects)\n",
    "    plt.title('Probability distribution')\n",
    "\n",
    "    plt.show()"
   ]
  },
  {
   "cell_type": "code",
   "execution_count": 40,
   "metadata": {},
   "outputs": [
    {
     "data": {
      "image/png": "[encoded data removed]",
      "text/plain": [
       "<Figure size 432x288 with 1 Axes>"
      ]
     },
     "metadata": {
      "needs_background": "light"
     },
     "output_type": "display_data"
    },
    {
     "name": "stdout",
     "output_type": "stream",
     "text": [
      "[31, 45, 1, 33, 32, 5, 55, 13, 10, 5]\n"
     ]
    }
   ],
   "source": [
    "wrongPredictions = [0,0,0,0,0,0,0,0,0,0]\n",
    "\n",
    "for i,row in data3.iterrows():\n",
    "    if row[int(row['Y'])] != np.amax(row[:10]):\n",
    "        wrongPredictions[(int(row['Y']))] += 1\n",
    "        #print(i)\n",
    "        \n",
    "objects = ('1','2','3','4','5','6','7','8','9','10')\n",
    "y_pos = np.arange(len(objects))\n",
    "performance = wrongPredictions\n",
    "\n",
    "plt.bar(y_pos, performance, align='center', alpha=0.5)\n",
    "plt.xticks(y_pos, objects)\n",
    "plt.show()\n",
    "\n",
    "print(wrongPredictions)"
   ]
  },
  {
   "cell_type": "code",
   "execution_count": 41,
   "metadata": {},
   "outputs": [
    {
     "data": {
      "image/png": "[encoded data removed]",
      "text/plain": [
       "<Figure size 432x288 with 1 Axes>"
      ]
     },
     "metadata": {
      "needs_background": "light"
     },
     "output_type": "display_data"
    }
   ],
   "source": [
    "objects = ('1','2','3','4','5','6','7','8','9','10')\n",
    "y_pos = np.arange(len(objects))\n",
    "performance = values3[233]\n",
    "\n",
    "plt.bar(y_pos, performance, align='center', alpha=0.5)\n",
    "plt.xticks(y_pos, objects)\n",
    "plt.title('Probability distribution')\n",
    "\n",
    "plt.show()"
   ]
  },
  {
   "cell_type": "code",
   "execution_count": null,
   "metadata": {},
   "outputs": [],
   "source": []
  },
  {
   "cell_type": "code",
   "execution_count": null,
   "metadata": {},
   "outputs": [],
   "source": []
  }
 ],
 "metadata": {
  "kernelspec": {
   "display_name": "Python 3",
   "language": "python",
   "name": "python3"
  },
  "language_info": {
   "codemirror_mode": {
    "name": "ipython",
    "version": 3
   },
   "file_extension": ".py",
   "mimetype": "text/x-python",
   "name": "python",
   "nbconvert_exporter": "python",
   "pygments_lexer": "ipython3",
   "version": "3.7.8"
  }
 },
 "nbformat": 4,
 "nbformat_minor": 4
}
